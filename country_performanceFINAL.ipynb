{
 "cells": [
  {
   "cell_type": "markdown",
   "metadata": {},
   "source": [
    "# MEDAL COUNT & HOSTING COUNTRY ANALYSIS (France, USA, Canada and UK)\n",
    "### DOES HOSTING THE OLYMPIC GAMES IMPROVE PERFORMANCE?"
   ]
  },
  {
   "cell_type": "code",
   "execution_count": 1,
   "metadata": {},
   "outputs": [],
   "source": [
    "import matplotlib.pyplot as plt\n",
    "import pandas as pd\n",
    "import geopandas as gpd\n",
    "import plotly.express as px\n",
    "import numpy as np\n",
    "import requests\n",
    "import time\n",
    "from scipy.stats import linregress\n",
    "from datetime import datetime\n",
    "from ipywidgets import interact\n",
    "import seaborn as sns\n",
    "sns.set_style(\"whitegrid\")"
   ]
  },
  {
   "cell_type": "code",
   "execution_count": 2,
   "metadata": {},
   "outputs": [
    {
     "data": {
      "text/html": [
       "<div>\n",
       "<style scoped>\n",
       "    .dataframe tbody tr th:only-of-type {\n",
       "        vertical-align: middle;\n",
       "    }\n",
       "\n",
       "    .dataframe tbody tr th {\n",
       "        vertical-align: top;\n",
       "    }\n",
       "\n",
       "    .dataframe thead th {\n",
       "        text-align: right;\n",
       "    }\n",
       "</style>\n",
       "<table border=\"1\" class=\"dataframe\">\n",
       "  <thead>\n",
       "    <tr style=\"text-align: right;\">\n",
       "      <th></th>\n",
       "      <th>ID</th>\n",
       "      <th>Name</th>\n",
       "      <th>Sex</th>\n",
       "      <th>Age</th>\n",
       "      <th>Height</th>\n",
       "      <th>Weight</th>\n",
       "      <th>Team</th>\n",
       "      <th>NOC</th>\n",
       "      <th>Games</th>\n",
       "      <th>Year</th>\n",
       "      <th>Season</th>\n",
       "      <th>City</th>\n",
       "      <th>Sport</th>\n",
       "      <th>Event</th>\n",
       "      <th>Medal</th>\n",
       "      <th>region</th>\n",
       "      <th>Host_Country</th>\n",
       "    </tr>\n",
       "  </thead>\n",
       "  <tbody>\n",
       "    <tr>\n",
       "      <th>0</th>\n",
       "      <td>1</td>\n",
       "      <td>A Dijiang</td>\n",
       "      <td>M</td>\n",
       "      <td>24.0</td>\n",
       "      <td>180.0</td>\n",
       "      <td>80.0</td>\n",
       "      <td>China</td>\n",
       "      <td>CHN</td>\n",
       "      <td>1992 Summer</td>\n",
       "      <td>1992</td>\n",
       "      <td>Summer</td>\n",
       "      <td>Barcelona</td>\n",
       "      <td>Basketball</td>\n",
       "      <td>Basketball Men's Basketball</td>\n",
       "      <td>DNW</td>\n",
       "      <td>China</td>\n",
       "      <td>Spain</td>\n",
       "    </tr>\n",
       "    <tr>\n",
       "      <th>1</th>\n",
       "      <td>2</td>\n",
       "      <td>A Lamusi</td>\n",
       "      <td>M</td>\n",
       "      <td>23.0</td>\n",
       "      <td>170.0</td>\n",
       "      <td>60.0</td>\n",
       "      <td>China</td>\n",
       "      <td>CHN</td>\n",
       "      <td>2012 Summer</td>\n",
       "      <td>2012</td>\n",
       "      <td>Summer</td>\n",
       "      <td>London</td>\n",
       "      <td>Judo</td>\n",
       "      <td>Judo Men's Extra-Lightweight</td>\n",
       "      <td>DNW</td>\n",
       "      <td>China</td>\n",
       "      <td>United Kingdom</td>\n",
       "    </tr>\n",
       "    <tr>\n",
       "      <th>2</th>\n",
       "      <td>3</td>\n",
       "      <td>Gunnar Nielsen Aaby</td>\n",
       "      <td>M</td>\n",
       "      <td>24.0</td>\n",
       "      <td>175.0</td>\n",
       "      <td>71.0</td>\n",
       "      <td>Denmark</td>\n",
       "      <td>DEN</td>\n",
       "      <td>1920 Summer</td>\n",
       "      <td>1920</td>\n",
       "      <td>Summer</td>\n",
       "      <td>Antwerpen</td>\n",
       "      <td>Football</td>\n",
       "      <td>Football Men's Football</td>\n",
       "      <td>DNW</td>\n",
       "      <td>Denmark</td>\n",
       "      <td>Belgium</td>\n",
       "    </tr>\n",
       "  </tbody>\n",
       "</table>\n",
       "</div>"
      ],
      "text/plain": [
       "   ID                 Name Sex   Age  Height  Weight     Team  NOC  \\\n",
       "0   1            A Dijiang   M  24.0   180.0    80.0    China  CHN   \n",
       "1   2             A Lamusi   M  23.0   170.0    60.0    China  CHN   \n",
       "2   3  Gunnar Nielsen Aaby   M  24.0   175.0    71.0  Denmark  DEN   \n",
       "\n",
       "         Games  Year  Season       City       Sport  \\\n",
       "0  1992 Summer  1992  Summer  Barcelona  Basketball   \n",
       "1  2012 Summer  2012  Summer     London        Judo   \n",
       "2  1920 Summer  1920  Summer  Antwerpen    Football   \n",
       "\n",
       "                          Event Medal   region    Host_Country  \n",
       "0   Basketball Men's Basketball   DNW    China           Spain  \n",
       "1  Judo Men's Extra-Lightweight   DNW    China  United Kingdom  \n",
       "2       Football Men's Football   DNW  Denmark         Belgium  "
      ]
     },
     "execution_count": 2,
     "metadata": {},
     "output_type": "execute_result"
    }
   ],
   "source": [
    "# Load in csv\n",
    "athelete_df = pd.read_csv(\"/Users/jelenaraonic/UofTBootcamp/PROJECT1/project1/Olympic Data Analysis/Clean_data.csv\")\n",
    "athelete_df.head(3)"
   ]
  },
  {
   "cell_type": "markdown",
   "metadata": {},
   "source": [
    "----\n",
    "## SUMMER OLYMPIC GAMES"
   ]
  },
  {
   "cell_type": "code",
   "execution_count": 3,
   "metadata": {},
   "outputs": [
    {
     "data": {
      "text/html": [
       "<div>\n",
       "<style scoped>\n",
       "    .dataframe tbody tr th:only-of-type {\n",
       "        vertical-align: middle;\n",
       "    }\n",
       "\n",
       "    .dataframe tbody tr th {\n",
       "        vertical-align: top;\n",
       "    }\n",
       "\n",
       "    .dataframe thead th {\n",
       "        text-align: right;\n",
       "    }\n",
       "</style>\n",
       "<table border=\"1\" class=\"dataframe\">\n",
       "  <thead>\n",
       "    <tr style=\"text-align: right;\">\n",
       "      <th></th>\n",
       "      <th>ID</th>\n",
       "      <th>Name</th>\n",
       "      <th>Sex</th>\n",
       "      <th>Age</th>\n",
       "      <th>Height</th>\n",
       "      <th>Weight</th>\n",
       "      <th>Team</th>\n",
       "      <th>NOC</th>\n",
       "      <th>Games</th>\n",
       "      <th>Year</th>\n",
       "      <th>Season</th>\n",
       "      <th>City</th>\n",
       "      <th>Sport</th>\n",
       "      <th>Event</th>\n",
       "      <th>Medal</th>\n",
       "      <th>region</th>\n",
       "      <th>Host_Country</th>\n",
       "    </tr>\n",
       "  </thead>\n",
       "  <tbody>\n",
       "    <tr>\n",
       "      <th>3</th>\n",
       "      <td>4</td>\n",
       "      <td>Edgar Lindenau Aabye</td>\n",
       "      <td>M</td>\n",
       "      <td>34.0</td>\n",
       "      <td>175.0</td>\n",
       "      <td>71.0</td>\n",
       "      <td>Denmark/Sweden</td>\n",
       "      <td>DEN</td>\n",
       "      <td>1900 Summer</td>\n",
       "      <td>1900</td>\n",
       "      <td>Summer</td>\n",
       "      <td>Paris</td>\n",
       "      <td>Tug-Of-War</td>\n",
       "      <td>Tug-Of-War Men's Tug-Of-War</td>\n",
       "      <td>Gold</td>\n",
       "      <td>Denmark</td>\n",
       "      <td>France</td>\n",
       "    </tr>\n",
       "    <tr>\n",
       "      <th>37</th>\n",
       "      <td>15</td>\n",
       "      <td>Arvo Ossian Aaltonen</td>\n",
       "      <td>M</td>\n",
       "      <td>30.0</td>\n",
       "      <td>175.0</td>\n",
       "      <td>71.0</td>\n",
       "      <td>Finland</td>\n",
       "      <td>FIN</td>\n",
       "      <td>1920 Summer</td>\n",
       "      <td>1920</td>\n",
       "      <td>Summer</td>\n",
       "      <td>Antwerpen</td>\n",
       "      <td>Swimming</td>\n",
       "      <td>Swimming Men's 200 metres Breaststroke</td>\n",
       "      <td>Bronze</td>\n",
       "      <td>Finland</td>\n",
       "      <td>Belgium</td>\n",
       "    </tr>\n",
       "    <tr>\n",
       "      <th>38</th>\n",
       "      <td>15</td>\n",
       "      <td>Arvo Ossian Aaltonen</td>\n",
       "      <td>M</td>\n",
       "      <td>30.0</td>\n",
       "      <td>175.0</td>\n",
       "      <td>71.0</td>\n",
       "      <td>Finland</td>\n",
       "      <td>FIN</td>\n",
       "      <td>1920 Summer</td>\n",
       "      <td>1920</td>\n",
       "      <td>Summer</td>\n",
       "      <td>Antwerpen</td>\n",
       "      <td>Swimming</td>\n",
       "      <td>Swimming Men's 400 metres Breaststroke</td>\n",
       "      <td>Bronze</td>\n",
       "      <td>Finland</td>\n",
       "      <td>Belgium</td>\n",
       "    </tr>\n",
       "  </tbody>\n",
       "</table>\n",
       "</div>"
      ],
      "text/plain": [
       "    ID                  Name Sex   Age  Height  Weight            Team  NOC  \\\n",
       "3    4  Edgar Lindenau Aabye   M  34.0   175.0    71.0  Denmark/Sweden  DEN   \n",
       "37  15  Arvo Ossian Aaltonen   M  30.0   175.0    71.0         Finland  FIN   \n",
       "38  15  Arvo Ossian Aaltonen   M  30.0   175.0    71.0         Finland  FIN   \n",
       "\n",
       "          Games  Year  Season       City       Sport  \\\n",
       "3   1900 Summer  1900  Summer      Paris  Tug-Of-War   \n",
       "37  1920 Summer  1920  Summer  Antwerpen    Swimming   \n",
       "38  1920 Summer  1920  Summer  Antwerpen    Swimming   \n",
       "\n",
       "                                     Event   Medal   region Host_Country  \n",
       "3              Tug-Of-War Men's Tug-Of-War    Gold  Denmark       France  \n",
       "37  Swimming Men's 200 metres Breaststroke  Bronze  Finland      Belgium  \n",
       "38  Swimming Men's 400 metres Breaststroke  Bronze  Finland      Belgium  "
      ]
     },
     "execution_count": 3,
     "metadata": {},
     "output_type": "execute_result"
    }
   ],
   "source": [
    "athelete_df_summer = athelete_df[(athelete_df['Medal']!='DNW') & (athelete_df['Season']=='Summer')]\n",
    "athelete_df_summer.head(3)"
   ]
  },
  {
   "cell_type": "code",
   "execution_count": 4,
   "metadata": {},
   "outputs": [],
   "source": [
    "#New dataframe with informations about hosting country \n",
    "df_summer = athelete_df_summer.groupby(['Year','Host_Country','region','Medal'])['Medal'].count().unstack().fillna(0).astype(int).reset_index()\n",
    "\n",
    "df_summer['Is_Host'] = np.where(df_summer['Host_Country'] == df_summer['region'],1,0)\n",
    "df_summer['Total Medals'] = df_summer['Bronze'] + df_summer['Silver'] + df_summer['Gold']"
   ]
  },
  {
   "cell_type": "code",
   "execution_count": 5,
   "metadata": {},
   "outputs": [
    {
     "data": {
      "text/html": [
       "<div>\n",
       "<style scoped>\n",
       "    .dataframe tbody tr th:only-of-type {\n",
       "        vertical-align: middle;\n",
       "    }\n",
       "\n",
       "    .dataframe tbody tr th {\n",
       "        vertical-align: top;\n",
       "    }\n",
       "\n",
       "    .dataframe thead th {\n",
       "        text-align: right;\n",
       "    }\n",
       "</style>\n",
       "<table border=\"1\" class=\"dataframe\">\n",
       "  <thead>\n",
       "    <tr style=\"text-align: right;\">\n",
       "      <th>Medal</th>\n",
       "      <th>Year</th>\n",
       "      <th>Host_Country</th>\n",
       "      <th>region</th>\n",
       "      <th>Bronze</th>\n",
       "      <th>Gold</th>\n",
       "      <th>Silver</th>\n",
       "      <th>Is_Host</th>\n",
       "      <th>Total Medals</th>\n",
       "    </tr>\n",
       "  </thead>\n",
       "  <tbody>\n",
       "    <tr>\n",
       "      <th>0</th>\n",
       "      <td>1896</td>\n",
       "      <td>Greece</td>\n",
       "      <td>Australia</td>\n",
       "      <td>1</td>\n",
       "      <td>2</td>\n",
       "      <td>0</td>\n",
       "      <td>0</td>\n",
       "      <td>3</td>\n",
       "    </tr>\n",
       "    <tr>\n",
       "      <th>1</th>\n",
       "      <td>1896</td>\n",
       "      <td>Greece</td>\n",
       "      <td>Austria</td>\n",
       "      <td>2</td>\n",
       "      <td>2</td>\n",
       "      <td>1</td>\n",
       "      <td>0</td>\n",
       "      <td>5</td>\n",
       "    </tr>\n",
       "    <tr>\n",
       "      <th>2</th>\n",
       "      <td>1896</td>\n",
       "      <td>Greece</td>\n",
       "      <td>Denmark</td>\n",
       "      <td>3</td>\n",
       "      <td>1</td>\n",
       "      <td>2</td>\n",
       "      <td>0</td>\n",
       "      <td>6</td>\n",
       "    </tr>\n",
       "    <tr>\n",
       "      <th>3</th>\n",
       "      <td>1896</td>\n",
       "      <td>Greece</td>\n",
       "      <td>France</td>\n",
       "      <td>2</td>\n",
       "      <td>5</td>\n",
       "      <td>4</td>\n",
       "      <td>0</td>\n",
       "      <td>11</td>\n",
       "    </tr>\n",
       "    <tr>\n",
       "      <th>4</th>\n",
       "      <td>1896</td>\n",
       "      <td>Greece</td>\n",
       "      <td>Germany</td>\n",
       "      <td>2</td>\n",
       "      <td>25</td>\n",
       "      <td>5</td>\n",
       "      <td>0</td>\n",
       "      <td>32</td>\n",
       "    </tr>\n",
       "  </tbody>\n",
       "</table>\n",
       "</div>"
      ],
      "text/plain": [
       "Medal  Year Host_Country     region  Bronze  Gold  Silver  Is_Host  \\\n",
       "0      1896       Greece  Australia       1     2       0        0   \n",
       "1      1896       Greece    Austria       2     2       1        0   \n",
       "2      1896       Greece    Denmark       3     1       2        0   \n",
       "3      1896       Greece     France       2     5       4        0   \n",
       "4      1896       Greece    Germany       2    25       5        0   \n",
       "\n",
       "Medal  Total Medals  \n",
       "0                 3  \n",
       "1                 5  \n",
       "2                 6  \n",
       "3                11  \n",
       "4                32  "
      ]
     },
     "execution_count": 5,
     "metadata": {},
     "output_type": "execute_result"
    }
   ],
   "source": [
    "df_summer.head()"
   ]
  },
  {
   "cell_type": "code",
   "execution_count": 6,
   "metadata": {},
   "outputs": [
    {
     "data": {
      "text/html": [
       "<style type=\"text/css\">\n",
       "#T_77e89_row0_col0 {\n",
       "  width: 10em;\n",
       "  background: linear-gradient(90deg, #a97142 100.0%, transparent 100.0%);\n",
       "}\n",
       "#T_77e89_row0_col1 {\n",
       "  width: 10em;\n",
       "  background: linear-gradient(90deg, Lightgray 100.0%, transparent 100.0%);\n",
       "}\n",
       "#T_77e89_row0_col2 {\n",
       "  width: 10em;\n",
       "  background: linear-gradient(90deg, #f0c05a 100.0%, transparent 100.0%);\n",
       "}\n",
       "#T_77e89_row1_col0 {\n",
       "  width: 10em;\n",
       "  background: linear-gradient(90deg, #a97142 83.0%, transparent 83.0%);\n",
       "}\n",
       "#T_77e89_row1_col1 {\n",
       "  width: 10em;\n",
       "  background: linear-gradient(90deg, Lightgray 73.1%, transparent 73.1%);\n",
       "}\n",
       "#T_77e89_row1_col2 {\n",
       "  width: 10em;\n",
       "  background: linear-gradient(90deg, #f0c05a 49.4%, transparent 49.4%);\n",
       "}\n",
       "#T_77e89_row2_col0 {\n",
       "  width: 10em;\n",
       "  background: linear-gradient(90deg, #a97142 88.9%, transparent 88.9%);\n",
       "}\n",
       "#T_77e89_row2_col1 {\n",
       "  width: 10em;\n",
       "  background: linear-gradient(90deg, Lightgray 74.0%, transparent 74.0%);\n",
       "}\n",
       "#T_77e89_row2_col2 {\n",
       "  width: 10em;\n",
       "  background: linear-gradient(90deg, #f0c05a 43.5%, transparent 43.5%);\n",
       "}\n",
       "#T_77e89_row3_col0 {\n",
       "  width: 10em;\n",
       "  background: linear-gradient(90deg, #a97142 51.8%, transparent 51.8%);\n",
       "}\n",
       "#T_77e89_row3_col1 {\n",
       "  width: 10em;\n",
       "  background: linear-gradient(90deg, Lightgray 54.7%, transparent 54.7%);\n",
       "}\n",
       "#T_77e89_row3_col2 {\n",
       "  width: 10em;\n",
       "  background: linear-gradient(90deg, #f0c05a 25.7%, transparent 25.7%);\n",
       "}\n",
       "#T_77e89_row4_col0 {\n",
       "  width: 10em;\n",
       "  background: linear-gradient(90deg, #a97142 49.0%, transparent 49.0%);\n",
       "}\n",
       "#T_77e89_row4_col1 {\n",
       "  width: 10em;\n",
       "  background: linear-gradient(90deg, Lightgray 43.1%, transparent 43.1%);\n",
       "}\n",
       "#T_77e89_row4_col2 {\n",
       "  width: 10em;\n",
       "  background: linear-gradient(90deg, #f0c05a 18.8%, transparent 18.8%);\n",
       "}\n",
       "#T_77e89_row5_col0 {\n",
       "  width: 10em;\n",
       "  background: linear-gradient(90deg, #a97142 37.9%, transparent 37.9%);\n",
       "}\n",
       "#T_77e89_row5_col1 {\n",
       "  width: 10em;\n",
       "  background: linear-gradient(90deg, Lightgray 35.6%, transparent 35.6%);\n",
       "}\n",
       "#T_77e89_row5_col2 {\n",
       "  width: 10em;\n",
       "  background: linear-gradient(90deg, #f0c05a 21.0%, transparent 21.0%);\n",
       "}\n",
       "#T_77e89_row6_col0 {\n",
       "  width: 10em;\n",
       "  background: linear-gradient(90deg, #a97142 43.0%, transparent 43.0%);\n",
       "}\n",
       "#T_77e89_row6_col1 {\n",
       "  width: 10em;\n",
       "  background: linear-gradient(90deg, Lightgray 34.2%, transparent 34.2%);\n",
       "}\n",
       "#T_77e89_row6_col2 {\n",
       "  width: 10em;\n",
       "  background: linear-gradient(90deg, #f0c05a 14.6%, transparent 14.6%);\n",
       "}\n",
       "#T_77e89_row7_col0 {\n",
       "  width: 10em;\n",
       "  background: linear-gradient(90deg, #a97142 30.3%, transparent 30.3%);\n",
       "}\n",
       "#T_77e89_row7_col1 {\n",
       "  width: 10em;\n",
       "  background: linear-gradient(90deg, Lightgray 24.6%, transparent 24.6%);\n",
       "}\n",
       "#T_77e89_row7_col2 {\n",
       "  width: 10em;\n",
       "  background: linear-gradient(90deg, #f0c05a 17.5%, transparent 17.5%);\n",
       "}\n",
       "#T_77e89_row8_col0 {\n",
       "  width: 10em;\n",
       "  background: linear-gradient(90deg, #a97142 29.9%, transparent 29.9%);\n",
       "}\n",
       "#T_77e89_row8_col1 {\n",
       "  width: 10em;\n",
       "  background: linear-gradient(90deg, Lightgray 29.7%, transparent 29.7%);\n",
       "}\n",
       "#T_77e89_row8_col2 {\n",
       "  width: 10em;\n",
       "  background: linear-gradient(90deg, #f0c05a 14.3%, transparent 14.3%);\n",
       "}\n",
       "#T_77e89_row9_col0 {\n",
       "  width: 10em;\n",
       "  background: linear-gradient(90deg, #a97142 31.0%, transparent 31.0%);\n",
       "}\n",
       "#T_77e89_row9_col1 {\n",
       "  width: 10em;\n",
       "  background: linear-gradient(90deg, Lightgray 22.7%, transparent 22.7%);\n",
       "}\n",
       "#T_77e89_row9_col2 {\n",
       "  width: 10em;\n",
       "  background: linear-gradient(90deg, #f0c05a 9.9%, transparent 9.9%);\n",
       "}\n",
       "#T_77e89_row10_col0 {\n",
       "  width: 10em;\n",
       "  background: linear-gradient(90deg, #a97142 21.6%, transparent 21.6%);\n",
       "}\n",
       "#T_77e89_row10_col1 {\n",
       "  width: 10em;\n",
       "  background: linear-gradient(90deg, Lightgray 23.9%, transparent 23.9%);\n",
       "}\n",
       "#T_77e89_row10_col2 {\n",
       "  width: 10em;\n",
       "  background: linear-gradient(90deg, #f0c05a 13.6%, transparent 13.6%);\n",
       "}\n",
       "#T_77e89_row11_col0 {\n",
       "  width: 10em;\n",
       "  background: linear-gradient(90deg, #a97142 27.8%, transparent 27.8%);\n",
       "}\n",
       "#T_77e89_row11_col1 {\n",
       "  width: 10em;\n",
       "  background: linear-gradient(90deg, Lightgray 21.5%, transparent 21.5%);\n",
       "}\n",
       "#T_77e89_row11_col2 {\n",
       "  width: 10em;\n",
       "  background: linear-gradient(90deg, #f0c05a 9.3%, transparent 9.3%);\n",
       "}\n",
       "#T_77e89_row12_col0 {\n",
       "  width: 10em;\n",
       "  background: linear-gradient(90deg, #a97142 28.7%, transparent 28.7%);\n",
       "}\n",
       "#T_77e89_row12_col1 {\n",
       "  width: 10em;\n",
       "  background: linear-gradient(90deg, Lightgray 17.9%, transparent 17.9%);\n",
       "}\n",
       "#T_77e89_row12_col2, #T_77e89_row18_col2 {\n",
       "  width: 10em;\n",
       "  background: linear-gradient(90deg, #f0c05a 6.4%, transparent 6.4%);\n",
       "}\n",
       "#T_77e89_row13_col0 {\n",
       "  width: 10em;\n",
       "  background: linear-gradient(90deg, #a97142 24.2%, transparent 24.2%);\n",
       "}\n",
       "#T_77e89_row13_col1 {\n",
       "  width: 10em;\n",
       "  background: linear-gradient(90deg, Lightgray 15.0%, transparent 15.0%);\n",
       "}\n",
       "#T_77e89_row13_col2 {\n",
       "  width: 10em;\n",
       "  background: linear-gradient(90deg, #f0c05a 6.5%, transparent 6.5%);\n",
       "}\n",
       "#T_77e89_row14_col0 {\n",
       "  width: 10em;\n",
       "  background: linear-gradient(90deg, #a97142 14.8%, transparent 14.8%);\n",
       "}\n",
       "#T_77e89_row14_col1 {\n",
       "  width: 10em;\n",
       "  background: linear-gradient(90deg, Lightgray 17.7%, transparent 17.7%);\n",
       "}\n",
       "#T_77e89_row14_col2 {\n",
       "  width: 10em;\n",
       "  background: linear-gradient(90deg, #f0c05a 7.2%, transparent 7.2%);\n",
       "}\n",
       "#T_77e89_row15_col0 {\n",
       "  width: 10em;\n",
       "  background: linear-gradient(90deg, #a97142 14.0%, transparent 14.0%);\n",
       "}\n",
       "#T_77e89_row15_col1 {\n",
       "  width: 10em;\n",
       "  background: linear-gradient(90deg, Lightgray 14.7%, transparent 14.7%);\n",
       "}\n",
       "#T_77e89_row15_col2 {\n",
       "  width: 10em;\n",
       "  background: linear-gradient(90deg, #f0c05a 9.2%, transparent 9.2%);\n",
       "}\n",
       "#T_77e89_row16_col0 {\n",
       "  width: 10em;\n",
       "  background: linear-gradient(90deg, #a97142 14.6%, transparent 14.6%);\n",
       "}\n",
       "#T_77e89_row16_col1 {\n",
       "  width: 10em;\n",
       "  background: linear-gradient(90deg, Lightgray 15.5%, transparent 15.5%);\n",
       "}\n",
       "#T_77e89_row16_col2 {\n",
       "  width: 10em;\n",
       "  background: linear-gradient(90deg, #f0c05a 6.9%, transparent 6.9%);\n",
       "}\n",
       "#T_77e89_row17_col0 {\n",
       "  width: 10em;\n",
       "  background: linear-gradient(90deg, #a97142 20.2%, transparent 20.2%);\n",
       "}\n",
       "#T_77e89_row17_col1 {\n",
       "  width: 10em;\n",
       "  background: linear-gradient(90deg, Lightgray 13.9%, transparent 13.9%);\n",
       "}\n",
       "#T_77e89_row17_col2 {\n",
       "  width: 10em;\n",
       "  background: linear-gradient(90deg, #f0c05a 4.5%, transparent 4.5%);\n",
       "}\n",
       "#T_77e89_row18_col0 {\n",
       "  width: 10em;\n",
       "  background: linear-gradient(90deg, #a97142 13.3%, transparent 13.3%);\n",
       "}\n",
       "#T_77e89_row18_col1 {\n",
       "  width: 10em;\n",
       "  background: linear-gradient(90deg, Lightgray 16.2%, transparent 16.2%);\n",
       "}\n",
       "#T_77e89_row19_col0 {\n",
       "  width: 10em;\n",
       "  background: linear-gradient(90deg, #a97142 11.3%, transparent 11.3%);\n",
       "}\n",
       "#T_77e89_row19_col1 {\n",
       "  width: 10em;\n",
       "  background: linear-gradient(90deg, Lightgray 18.2%, transparent 18.2%);\n",
       "}\n",
       "#T_77e89_row19_col2 {\n",
       "  width: 10em;\n",
       "  background: linear-gradient(90deg, #f0c05a 4.4%, transparent 4.4%);\n",
       "}\n",
       "</style>\n",
       "<table id=\"T_77e89\">\n",
       "  <caption>Medals by Country: Summer Olympic Games [Top 20]</caption>\n",
       "  <thead>\n",
       "    <tr>\n",
       "      <th class=\"index_name level0\" >Medal</th>\n",
       "      <th id=\"T_77e89_level0_col0\" class=\"col_heading level0 col0\" >Bronze</th>\n",
       "      <th id=\"T_77e89_level0_col1\" class=\"col_heading level0 col1\" >Silver</th>\n",
       "      <th id=\"T_77e89_level0_col2\" class=\"col_heading level0 col2\" >Gold</th>\n",
       "      <th id=\"T_77e89_level0_col3\" class=\"col_heading level0 col3\" >Total</th>\n",
       "    </tr>\n",
       "    <tr>\n",
       "      <th class=\"index_name level0\" >region</th>\n",
       "      <th class=\"blank col0\" >&nbsp;</th>\n",
       "      <th class=\"blank col1\" >&nbsp;</th>\n",
       "      <th class=\"blank col2\" >&nbsp;</th>\n",
       "      <th class=\"blank col3\" >&nbsp;</th>\n",
       "    </tr>\n",
       "  </thead>\n",
       "  <tbody>\n",
       "    <tr>\n",
       "      <th id=\"T_77e89_level0_row0\" class=\"row_heading level0 row0\" >United States of America</th>\n",
       "      <td id=\"T_77e89_row0_col0\" class=\"data row0 col0\" >1197</td>\n",
       "      <td id=\"T_77e89_row0_col1\" class=\"data row0 col1\" >1333</td>\n",
       "      <td id=\"T_77e89_row0_col2\" class=\"data row0 col2\" >2472</td>\n",
       "      <td id=\"T_77e89_row0_col3\" class=\"data row0 col3\" >5002</td>\n",
       "    </tr>\n",
       "    <tr>\n",
       "      <th id=\"T_77e89_level0_row1\" class=\"row_heading level0 row1\" >Russia</th>\n",
       "      <td id=\"T_77e89_row1_col0\" class=\"data row1 col0\" >994</td>\n",
       "      <td id=\"T_77e89_row1_col1\" class=\"data row1 col1\" >974</td>\n",
       "      <td id=\"T_77e89_row1_col2\" class=\"data row1 col2\" >1220</td>\n",
       "      <td id=\"T_77e89_row1_col3\" class=\"data row1 col3\" >3188</td>\n",
       "    </tr>\n",
       "    <tr>\n",
       "      <th id=\"T_77e89_level0_row2\" class=\"row_heading level0 row2\" >Germany</th>\n",
       "      <td id=\"T_77e89_row2_col0\" class=\"data row2 col0\" >1064</td>\n",
       "      <td id=\"T_77e89_row2_col1\" class=\"data row2 col1\" >987</td>\n",
       "      <td id=\"T_77e89_row2_col2\" class=\"data row2 col2\" >1075</td>\n",
       "      <td id=\"T_77e89_row2_col3\" class=\"data row2 col3\" >3126</td>\n",
       "    </tr>\n",
       "    <tr>\n",
       "      <th id=\"T_77e89_level0_row3\" class=\"row_heading level0 row3\" >United Kingdom</th>\n",
       "      <td id=\"T_77e89_row3_col0\" class=\"data row3 col0\" >620</td>\n",
       "      <td id=\"T_77e89_row3_col1\" class=\"data row3 col1\" >729</td>\n",
       "      <td id=\"T_77e89_row3_col2\" class=\"data row3 col2\" >636</td>\n",
       "      <td id=\"T_77e89_row3_col3\" class=\"data row3 col3\" >1985</td>\n",
       "    </tr>\n",
       "    <tr>\n",
       "      <th id=\"T_77e89_level0_row4\" class=\"row_heading level0 row4\" >France</th>\n",
       "      <td id=\"T_77e89_row4_col0\" class=\"data row4 col0\" >587</td>\n",
       "      <td id=\"T_77e89_row4_col1\" class=\"data row4 col1\" >575</td>\n",
       "      <td id=\"T_77e89_row4_col2\" class=\"data row4 col2\" >465</td>\n",
       "      <td id=\"T_77e89_row4_col3\" class=\"data row4 col3\" >1627</td>\n",
       "    </tr>\n",
       "    <tr>\n",
       "      <th id=\"T_77e89_level0_row5\" class=\"row_heading level0 row5\" >Italy</th>\n",
       "      <td id=\"T_77e89_row5_col0\" class=\"data row5 col0\" >454</td>\n",
       "      <td id=\"T_77e89_row5_col1\" class=\"data row5 col1\" >474</td>\n",
       "      <td id=\"T_77e89_row5_col2\" class=\"data row5 col2\" >518</td>\n",
       "      <td id=\"T_77e89_row5_col3\" class=\"data row5 col3\" >1446</td>\n",
       "    </tr>\n",
       "    <tr>\n",
       "      <th id=\"T_77e89_level0_row6\" class=\"row_heading level0 row6\" >Australia</th>\n",
       "      <td id=\"T_77e89_row6_col0\" class=\"data row6 col0\" >515</td>\n",
       "      <td id=\"T_77e89_row6_col1\" class=\"data row6 col1\" >456</td>\n",
       "      <td id=\"T_77e89_row6_col2\" class=\"data row6 col2\" >362</td>\n",
       "      <td id=\"T_77e89_row6_col3\" class=\"data row6 col3\" >1333</td>\n",
       "    </tr>\n",
       "    <tr>\n",
       "      <th id=\"T_77e89_level0_row7\" class=\"row_heading level0 row7\" >Hungary</th>\n",
       "      <td id=\"T_77e89_row7_col0\" class=\"data row7 col0\" >363</td>\n",
       "      <td id=\"T_77e89_row7_col1\" class=\"data row7 col1\" >328</td>\n",
       "      <td id=\"T_77e89_row7_col2\" class=\"data row7 col2\" >432</td>\n",
       "      <td id=\"T_77e89_row7_col3\" class=\"data row7 col3\" >1123</td>\n",
       "    </tr>\n",
       "    <tr>\n",
       "      <th id=\"T_77e89_level0_row8\" class=\"row_heading level0 row8\" >Sweden</th>\n",
       "      <td id=\"T_77e89_row8_col0\" class=\"data row8 col0\" >358</td>\n",
       "      <td id=\"T_77e89_row8_col1\" class=\"data row8 col1\" >396</td>\n",
       "      <td id=\"T_77e89_row8_col2\" class=\"data row8 col2\" >354</td>\n",
       "      <td id=\"T_77e89_row8_col3\" class=\"data row8 col3\" >1108</td>\n",
       "    </tr>\n",
       "    <tr>\n",
       "      <th id=\"T_77e89_level0_row9\" class=\"row_heading level0 row9\" >Netherlands</th>\n",
       "      <td id=\"T_77e89_row9_col0\" class=\"data row9 col0\" >371</td>\n",
       "      <td id=\"T_77e89_row9_col1\" class=\"data row9 col1\" >302</td>\n",
       "      <td id=\"T_77e89_row9_col2\" class=\"data row9 col2\" >245</td>\n",
       "      <td id=\"T_77e89_row9_col3\" class=\"data row9 col3\" >918</td>\n",
       "    </tr>\n",
       "    <tr>\n",
       "      <th id=\"T_77e89_level0_row10\" class=\"row_heading level0 row10\" >China</th>\n",
       "      <td id=\"T_77e89_row10_col0\" class=\"data row10 col0\" >259</td>\n",
       "      <td id=\"T_77e89_row10_col1\" class=\"data row10 col1\" >319</td>\n",
       "      <td id=\"T_77e89_row10_col2\" class=\"data row10 col2\" >335</td>\n",
       "      <td id=\"T_77e89_row10_col3\" class=\"data row10 col3\" >913</td>\n",
       "    </tr>\n",
       "    <tr>\n",
       "      <th id=\"T_77e89_level0_row11\" class=\"row_heading level0 row11\" >Japan</th>\n",
       "      <td id=\"T_77e89_row11_col0\" class=\"data row11 col0\" >333</td>\n",
       "      <td id=\"T_77e89_row11_col1\" class=\"data row11 col1\" >287</td>\n",
       "      <td id=\"T_77e89_row11_col2\" class=\"data row11 col2\" >230</td>\n",
       "      <td id=\"T_77e89_row11_col3\" class=\"data row11 col3\" >850</td>\n",
       "    </tr>\n",
       "    <tr>\n",
       "      <th id=\"T_77e89_level0_row12\" class=\"row_heading level0 row12\" >Canada</th>\n",
       "      <td id=\"T_77e89_row12_col0\" class=\"data row12 col0\" >344</td>\n",
       "      <td id=\"T_77e89_row12_col1\" class=\"data row12 col1\" >239</td>\n",
       "      <td id=\"T_77e89_row12_col2\" class=\"data row12 col2\" >158</td>\n",
       "      <td id=\"T_77e89_row12_col3\" class=\"data row12 col3\" >741</td>\n",
       "    </tr>\n",
       "    <tr>\n",
       "      <th id=\"T_77e89_level0_row13\" class=\"row_heading level0 row13\" >Romania</th>\n",
       "      <td id=\"T_77e89_row13_col0\" class=\"data row13 col0\" >290</td>\n",
       "      <td id=\"T_77e89_row13_col1\" class=\"data row13 col1\" >200</td>\n",
       "      <td id=\"T_77e89_row13_col2\" class=\"data row13 col2\" >161</td>\n",
       "      <td id=\"T_77e89_row13_col3\" class=\"data row13 col3\" >651</td>\n",
       "    </tr>\n",
       "    <tr>\n",
       "      <th id=\"T_77e89_level0_row14\" class=\"row_heading level0 row14\" >Denmark</th>\n",
       "      <td id=\"T_77e89_row14_col0\" class=\"data row14 col0\" >177</td>\n",
       "      <td id=\"T_77e89_row14_col1\" class=\"data row14 col1\" >236</td>\n",
       "      <td id=\"T_77e89_row14_col2\" class=\"data row14 col2\" >179</td>\n",
       "      <td id=\"T_77e89_row14_col3\" class=\"data row14 col3\" >592</td>\n",
       "    </tr>\n",
       "    <tr>\n",
       "      <th id=\"T_77e89_level0_row15\" class=\"row_heading level0 row15\" >Norway</th>\n",
       "      <td id=\"T_77e89_row15_col0\" class=\"data row15 col0\" >167</td>\n",
       "      <td id=\"T_77e89_row15_col1\" class=\"data row15 col1\" >196</td>\n",
       "      <td id=\"T_77e89_row15_col2\" class=\"data row15 col2\" >227</td>\n",
       "      <td id=\"T_77e89_row15_col3\" class=\"data row15 col3\" >590</td>\n",
       "    </tr>\n",
       "    <tr>\n",
       "      <th id=\"T_77e89_level0_row16\" class=\"row_heading level0 row16\" >South Korea</th>\n",
       "      <td id=\"T_77e89_row16_col0\" class=\"data row16 col0\" >175</td>\n",
       "      <td id=\"T_77e89_row16_col1\" class=\"data row16 col1\" >206</td>\n",
       "      <td id=\"T_77e89_row16_col2\" class=\"data row16 col2\" >171</td>\n",
       "      <td id=\"T_77e89_row16_col3\" class=\"data row16 col3\" >552</td>\n",
       "    </tr>\n",
       "    <tr>\n",
       "      <th id=\"T_77e89_level0_row17\" class=\"row_heading level0 row17\" >Poland</th>\n",
       "      <td id=\"T_77e89_row17_col0\" class=\"data row17 col0\" >242</td>\n",
       "      <td id=\"T_77e89_row17_col1\" class=\"data row17 col1\" >185</td>\n",
       "      <td id=\"T_77e89_row17_col2\" class=\"data row17 col2\" >111</td>\n",
       "      <td id=\"T_77e89_row17_col3\" class=\"data row17 col3\" >538</td>\n",
       "    </tr>\n",
       "    <tr>\n",
       "      <th id=\"T_77e89_level0_row18\" class=\"row_heading level0 row18\" >Republic of Serbia</th>\n",
       "      <td id=\"T_77e89_row18_col0\" class=\"data row18 col0\" >159</td>\n",
       "      <td id=\"T_77e89_row18_col1\" class=\"data row18 col1\" >216</td>\n",
       "      <td id=\"T_77e89_row18_col2\" class=\"data row18 col2\" >157</td>\n",
       "      <td id=\"T_77e89_row18_col3\" class=\"data row18 col3\" >532</td>\n",
       "    </tr>\n",
       "    <tr>\n",
       "      <th id=\"T_77e89_level0_row19\" class=\"row_heading level0 row19\" >Spain</th>\n",
       "      <td id=\"T_77e89_row19_col0\" class=\"data row19 col0\" >135</td>\n",
       "      <td id=\"T_77e89_row19_col1\" class=\"data row19 col1\" >243</td>\n",
       "      <td id=\"T_77e89_row19_col2\" class=\"data row19 col2\" >109</td>\n",
       "      <td id=\"T_77e89_row19_col3\" class=\"data row19 col3\" >487</td>\n",
       "    </tr>\n",
       "  </tbody>\n",
       "</table>\n"
      ],
      "text/plain": [
       "<pandas.io.formats.style.Styler at 0x142e7b050>"
      ]
     },
     "execution_count": 6,
     "metadata": {},
     "output_type": "execute_result"
    }
   ],
   "source": [
    "#medal count and visualisation of results \n",
    "\n",
    "medals = athelete_df_summer.groupby(['region','Medal'])['Medal'].count().unstack().fillna(0).astype(int)\n",
    "\n",
    "medals['Total'] = medals['Bronze'] + medals['Silver'] + medals['Gold']\n",
    "\n",
    "medals = medals[['Bronze','Silver','Gold','Total']].sort_values(by='Total', ascending=False)\n",
    "\n",
    "medals.iloc[:20].style.set_caption('Medals by Country: Summer Olympic Games [Top 20]')\\\n",
    ".bar(subset=['Gold'], color='#f0c05a')\\\n",
    ".bar(subset=['Silver'], color='Lightgray')\\\n",
    ".bar(subset=['Bronze'], color='#a97142')\n"
   ]
  },
  {
   "cell_type": "code",
   "execution_count": 7,
   "metadata": {},
   "outputs": [
    {
     "data": {
      "text/plain": [
       "Text(0.5, 1.0, 'Host Countries of Summer Olympic Games and number of times')"
      ]
     },
     "execution_count": 7,
     "metadata": {},
     "output_type": "execute_result"
    },
    {
     "data": {
      "image/png": "[encoded data removed]",
      "text/plain": [
       "<Figure size 300x300 with 1 Axes>"
      ]
     },
     "metadata": {},
     "output_type": "display_data"
    }
   ],
   "source": [
    "# Visualization for who were Host countires in Summer Olympic Games and how many times they had incredible honor to host them. \n",
    "\n",
    "plt.figure(figsize=(3,3))\n",
    "hosts = df_summer[['Year','Host_Country']].drop_duplicates()\n",
    "sns.countplot(y='Host_Country',data=hosts,order = hosts['Host_Country'].value_counts().index,\n",
    "              palette=sns.color_palette(\"pastel\"))\n",
    "plt.xlabel('')\n",
    "plt.title('Host Countries of Summer Olympic Games and number of times')"
   ]
  },
  {
   "cell_type": "markdown",
   "metadata": {},
   "source": [
    "----\n",
    "## WINTER OLYMPIC GAMES"
   ]
  },
  {
   "cell_type": "code",
   "execution_count": 8,
   "metadata": {},
   "outputs": [
    {
     "data": {
      "text/html": [
       "<div>\n",
       "<style scoped>\n",
       "    .dataframe tbody tr th:only-of-type {\n",
       "        vertical-align: middle;\n",
       "    }\n",
       "\n",
       "    .dataframe tbody tr th {\n",
       "        vertical-align: top;\n",
       "    }\n",
       "\n",
       "    .dataframe thead th {\n",
       "        text-align: right;\n",
       "    }\n",
       "</style>\n",
       "<table border=\"1\" class=\"dataframe\">\n",
       "  <thead>\n",
       "    <tr style=\"text-align: right;\">\n",
       "      <th></th>\n",
       "      <th>ID</th>\n",
       "      <th>Name</th>\n",
       "      <th>Sex</th>\n",
       "      <th>Age</th>\n",
       "      <th>Height</th>\n",
       "      <th>Weight</th>\n",
       "      <th>Team</th>\n",
       "      <th>NOC</th>\n",
       "      <th>Games</th>\n",
       "      <th>Year</th>\n",
       "      <th>Season</th>\n",
       "      <th>City</th>\n",
       "      <th>Sport</th>\n",
       "      <th>Event</th>\n",
       "      <th>Medal</th>\n",
       "      <th>region</th>\n",
       "      <th>Host_Country</th>\n",
       "    </tr>\n",
       "  </thead>\n",
       "  <tbody>\n",
       "    <tr>\n",
       "      <th>40</th>\n",
       "      <td>16</td>\n",
       "      <td>Juhamatti Tapio Aaltonen</td>\n",
       "      <td>M</td>\n",
       "      <td>28.0</td>\n",
       "      <td>184.0</td>\n",
       "      <td>85.0</td>\n",
       "      <td>Finland</td>\n",
       "      <td>FIN</td>\n",
       "      <td>2014 Winter</td>\n",
       "      <td>2014</td>\n",
       "      <td>Winter</td>\n",
       "      <td>Sochi</td>\n",
       "      <td>Ice Hockey</td>\n",
       "      <td>Ice Hockey Men's Ice Hockey</td>\n",
       "      <td>Bronze</td>\n",
       "      <td>Finland</td>\n",
       "      <td>Russia</td>\n",
       "    </tr>\n",
       "    <tr>\n",
       "      <th>60</th>\n",
       "      <td>20</td>\n",
       "      <td>Kjetil Andr Aamodt</td>\n",
       "      <td>M</td>\n",
       "      <td>20.0</td>\n",
       "      <td>176.0</td>\n",
       "      <td>85.0</td>\n",
       "      <td>Norway</td>\n",
       "      <td>NOR</td>\n",
       "      <td>1992 Winter</td>\n",
       "      <td>1992</td>\n",
       "      <td>Winter</td>\n",
       "      <td>Albertville</td>\n",
       "      <td>Alpine Skiing</td>\n",
       "      <td>Alpine Skiing Men's Super G</td>\n",
       "      <td>Gold</td>\n",
       "      <td>Norway</td>\n",
       "      <td>France</td>\n",
       "    </tr>\n",
       "    <tr>\n",
       "      <th>61</th>\n",
       "      <td>20</td>\n",
       "      <td>Kjetil Andr Aamodt</td>\n",
       "      <td>M</td>\n",
       "      <td>20.0</td>\n",
       "      <td>176.0</td>\n",
       "      <td>85.0</td>\n",
       "      <td>Norway</td>\n",
       "      <td>NOR</td>\n",
       "      <td>1992 Winter</td>\n",
       "      <td>1992</td>\n",
       "      <td>Winter</td>\n",
       "      <td>Albertville</td>\n",
       "      <td>Alpine Skiing</td>\n",
       "      <td>Alpine Skiing Men's Giant Slalom</td>\n",
       "      <td>Bronze</td>\n",
       "      <td>Norway</td>\n",
       "      <td>France</td>\n",
       "    </tr>\n",
       "  </tbody>\n",
       "</table>\n",
       "</div>"
      ],
      "text/plain": [
       "    ID                      Name Sex   Age  Height  Weight     Team  NOC  \\\n",
       "40  16  Juhamatti Tapio Aaltonen   M  28.0   184.0    85.0  Finland  FIN   \n",
       "60  20        Kjetil Andr Aamodt   M  20.0   176.0    85.0   Norway  NOR   \n",
       "61  20        Kjetil Andr Aamodt   M  20.0   176.0    85.0   Norway  NOR   \n",
       "\n",
       "          Games  Year  Season         City          Sport  \\\n",
       "40  2014 Winter  2014  Winter        Sochi     Ice Hockey   \n",
       "60  1992 Winter  1992  Winter  Albertville  Alpine Skiing   \n",
       "61  1992 Winter  1992  Winter  Albertville  Alpine Skiing   \n",
       "\n",
       "                               Event   Medal   region Host_Country  \n",
       "40       Ice Hockey Men's Ice Hockey  Bronze  Finland       Russia  \n",
       "60       Alpine Skiing Men's Super G    Gold   Norway       France  \n",
       "61  Alpine Skiing Men's Giant Slalom  Bronze   Norway       France  "
      ]
     },
     "execution_count": 8,
     "metadata": {},
     "output_type": "execute_result"
    }
   ],
   "source": [
    "athelete_df_winter = athelete_df[(athelete_df['Medal']!='DNW') & (athelete_df['Season']=='Winter')]\n",
    "athelete_df_winter.head(3)"
   ]
  },
  {
   "cell_type": "code",
   "execution_count": 9,
   "metadata": {},
   "outputs": [],
   "source": [
    "#New dataframe with informations about hosting country \n",
    "df_winter = athelete_df_winter.groupby(['Year','Host_Country','region','Medal'])['Medal'].count().unstack().fillna(0).astype(int).reset_index()\n",
    "\n",
    "df_winter['Is_Host'] = np.where(df_winter['Host_Country'] == df_winter['region'],1,0)\n",
    "df_winter['Total Medals'] = df_winter['Bronze'] + df_winter['Silver'] + df_winter['Gold']"
   ]
  },
  {
   "cell_type": "code",
   "execution_count": 10,
   "metadata": {},
   "outputs": [
    {
     "data": {
      "text/html": [
       "<div>\n",
       "<style scoped>\n",
       "    .dataframe tbody tr th:only-of-type {\n",
       "        vertical-align: middle;\n",
       "    }\n",
       "\n",
       "    .dataframe tbody tr th {\n",
       "        vertical-align: top;\n",
       "    }\n",
       "\n",
       "    .dataframe thead th {\n",
       "        text-align: right;\n",
       "    }\n",
       "</style>\n",
       "<table border=\"1\" class=\"dataframe\">\n",
       "  <thead>\n",
       "    <tr style=\"text-align: right;\">\n",
       "      <th>Medal</th>\n",
       "      <th>Year</th>\n",
       "      <th>Host_Country</th>\n",
       "      <th>region</th>\n",
       "      <th>Bronze</th>\n",
       "      <th>Gold</th>\n",
       "      <th>Silver</th>\n",
       "      <th>Is_Host</th>\n",
       "      <th>Total Medals</th>\n",
       "    </tr>\n",
       "  </thead>\n",
       "  <tbody>\n",
       "    <tr>\n",
       "      <th>0</th>\n",
       "      <td>1924</td>\n",
       "      <td>France</td>\n",
       "      <td>Australia</td>\n",
       "      <td>0</td>\n",
       "      <td>1</td>\n",
       "      <td>0</td>\n",
       "      <td>0</td>\n",
       "      <td>1</td>\n",
       "    </tr>\n",
       "    <tr>\n",
       "      <th>1</th>\n",
       "      <td>1924</td>\n",
       "      <td>France</td>\n",
       "      <td>Austria</td>\n",
       "      <td>0</td>\n",
       "      <td>3</td>\n",
       "      <td>1</td>\n",
       "      <td>0</td>\n",
       "      <td>4</td>\n",
       "    </tr>\n",
       "    <tr>\n",
       "      <th>2</th>\n",
       "      <td>1924</td>\n",
       "      <td>France</td>\n",
       "      <td>Belgium</td>\n",
       "      <td>5</td>\n",
       "      <td>0</td>\n",
       "      <td>0</td>\n",
       "      <td>0</td>\n",
       "      <td>5</td>\n",
       "    </tr>\n",
       "    <tr>\n",
       "      <th>3</th>\n",
       "      <td>1924</td>\n",
       "      <td>France</td>\n",
       "      <td>Canada</td>\n",
       "      <td>0</td>\n",
       "      <td>9</td>\n",
       "      <td>0</td>\n",
       "      <td>0</td>\n",
       "      <td>9</td>\n",
       "    </tr>\n",
       "    <tr>\n",
       "      <th>4</th>\n",
       "      <td>1924</td>\n",
       "      <td>France</td>\n",
       "      <td>Finland</td>\n",
       "      <td>3</td>\n",
       "      <td>4</td>\n",
       "      <td>8</td>\n",
       "      <td>0</td>\n",
       "      <td>15</td>\n",
       "    </tr>\n",
       "  </tbody>\n",
       "</table>\n",
       "</div>"
      ],
      "text/plain": [
       "Medal  Year Host_Country     region  Bronze  Gold  Silver  Is_Host  \\\n",
       "0      1924       France  Australia       0     1       0        0   \n",
       "1      1924       France    Austria       0     3       1        0   \n",
       "2      1924       France    Belgium       5     0       0        0   \n",
       "3      1924       France     Canada       0     9       0        0   \n",
       "4      1924       France    Finland       3     4       8        0   \n",
       "\n",
       "Medal  Total Medals  \n",
       "0                 1  \n",
       "1                 4  \n",
       "2                 5  \n",
       "3                 9  \n",
       "4                15  "
      ]
     },
     "execution_count": 10,
     "metadata": {},
     "output_type": "execute_result"
    }
   ],
   "source": [
    "df_winter.head()"
   ]
  },
  {
   "cell_type": "code",
   "execution_count": 11,
   "metadata": {},
   "outputs": [
    {
     "data": {
      "text/html": [
       "<style type=\"text/css\">\n",
       "#T_e247d_row0_col0 {\n",
       "  width: 10em;\n",
       "  background: linear-gradient(90deg, #a97142 85.6%, transparent 85.6%);\n",
       "}\n",
       "#T_e247d_row0_col1 {\n",
       "  width: 10em;\n",
       "  background: linear-gradient(90deg, Lightgray 63.6%, transparent 63.6%);\n",
       "}\n",
       "#T_e247d_row0_col2 {\n",
       "  width: 10em;\n",
       "  background: linear-gradient(90deg, #f0c05a 100.0%, transparent 100.0%);\n",
       "}\n",
       "#T_e247d_row1_col0 {\n",
       "  width: 10em;\n",
       "  background: linear-gradient(90deg, #a97142 74.9%, transparent 74.9%);\n",
       "}\n",
       "#T_e247d_row1_col1 {\n",
       "  width: 10em;\n",
       "  background: linear-gradient(90deg, Lightgray 100.0%, transparent 100.0%);\n",
       "}\n",
       "#T_e247d_row1_col2 {\n",
       "  width: 10em;\n",
       "  background: linear-gradient(90deg, #f0c05a 43.8%, transparent 43.8%);\n",
       "}\n",
       "#T_e247d_row2_col0 {\n",
       "  width: 10em;\n",
       "  background: linear-gradient(90deg, #a97142 91.2%, transparent 91.2%);\n",
       "}\n",
       "#T_e247d_row2_col1 {\n",
       "  width: 10em;\n",
       "  background: linear-gradient(90deg, Lightgray 67.5%, transparent 67.5%);\n",
       "}\n",
       "#T_e247d_row2_col2 {\n",
       "  width: 10em;\n",
       "  background: linear-gradient(90deg, #f0c05a 59.6%, transparent 59.6%);\n",
       "}\n",
       "#T_e247d_row3_col0 {\n",
       "  width: 10em;\n",
       "  background: linear-gradient(90deg, #a97142 49.8%, transparent 49.8%);\n",
       "}\n",
       "#T_e247d_row3_col1 {\n",
       "  width: 10em;\n",
       "  background: linear-gradient(90deg, Lightgray 64.6%, transparent 64.6%);\n",
       "}\n",
       "#T_e247d_row3_col2 {\n",
       "  width: 10em;\n",
       "  background: linear-gradient(90deg, #f0c05a 80.5%, transparent 80.5%);\n",
       "}\n",
       "#T_e247d_row4_col0 {\n",
       "  width: 10em;\n",
       "  background: linear-gradient(90deg, #a97142 59.1%, transparent 59.1%);\n",
       "}\n",
       "#T_e247d_row4_col1 {\n",
       "  width: 10em;\n",
       "  background: linear-gradient(90deg, Lightgray 53.6%, transparent 53.6%);\n",
       "}\n",
       "#T_e247d_row4_col2 {\n",
       "  width: 10em;\n",
       "  background: linear-gradient(90deg, #f0c05a 39.8%, transparent 39.8%);\n",
       "}\n",
       "#T_e247d_row5_col0 {\n",
       "  width: 10em;\n",
       "  background: linear-gradient(90deg, #a97142 82.3%, transparent 82.3%);\n",
       "}\n",
       "#T_e247d_row5_col1 {\n",
       "  width: 10em;\n",
       "  background: linear-gradient(90deg, Lightgray 40.9%, transparent 40.9%);\n",
       "}\n",
       "#T_e247d_row5_col2 {\n",
       "  width: 10em;\n",
       "  background: linear-gradient(90deg, #f0c05a 33.0%, transparent 33.0%);\n",
       "}\n",
       "#T_e247d_row6_col0 {\n",
       "  width: 10em;\n",
       "  background: linear-gradient(90deg, #a97142 100.0%, transparent 100.0%);\n",
       "}\n",
       "#T_e247d_row6_col1 {\n",
       "  width: 10em;\n",
       "  background: linear-gradient(90deg, Lightgray 47.1%, transparent 47.1%);\n",
       "}\n",
       "#T_e247d_row6_col2 {\n",
       "  width: 10em;\n",
       "  background: linear-gradient(90deg, #f0c05a 17.4%, transparent 17.4%);\n",
       "}\n",
       "#T_e247d_row7_col0 {\n",
       "  width: 10em;\n",
       "  background: linear-gradient(90deg, #a97142 47.9%, transparent 47.9%);\n",
       "}\n",
       "#T_e247d_row7_col1 {\n",
       "  width: 10em;\n",
       "  background: linear-gradient(90deg, Lightgray 31.8%, transparent 31.8%);\n",
       "}\n",
       "#T_e247d_row7_col2 {\n",
       "  width: 10em;\n",
       "  background: linear-gradient(90deg, #f0c05a 20.8%, transparent 20.8%);\n",
       "}\n",
       "#T_e247d_row8_col0 {\n",
       "  width: 10em;\n",
       "  background: linear-gradient(90deg, #a97142 60.0%, transparent 60.0%);\n",
       "}\n",
       "#T_e247d_row8_col1 {\n",
       "  width: 10em;\n",
       "  background: linear-gradient(90deg, Lightgray 22.7%, transparent 22.7%);\n",
       "}\n",
       "#T_e247d_row8_col2 {\n",
       "  width: 10em;\n",
       "  background: linear-gradient(90deg, #f0c05a 20.1%, transparent 20.1%);\n",
       "}\n",
       "#T_e247d_row9_col0 {\n",
       "  width: 10em;\n",
       "  background: linear-gradient(90deg, #a97142 50.7%, transparent 50.7%);\n",
       "}\n",
       "#T_e247d_row9_col1 {\n",
       "  width: 10em;\n",
       "  background: linear-gradient(90deg, Lightgray 30.2%, transparent 30.2%);\n",
       "}\n",
       "#T_e247d_row9_col2 {\n",
       "  width: 10em;\n",
       "  background: linear-gradient(90deg, #f0c05a 7.7%, transparent 7.7%);\n",
       "}\n",
       "#T_e247d_row10_col0 {\n",
       "  width: 10em;\n",
       "  background: linear-gradient(90deg, #a97142 35.8%, transparent 35.8%);\n",
       "}\n",
       "#T_e247d_row10_col1 {\n",
       "  width: 10em;\n",
       "  background: linear-gradient(90deg, Lightgray 18.5%, transparent 18.5%);\n",
       "}\n",
       "#T_e247d_row10_col2 {\n",
       "  width: 10em;\n",
       "  background: linear-gradient(90deg, #f0c05a 15.0%, transparent 15.0%);\n",
       "}\n",
       "#T_e247d_row11_col0 {\n",
       "  width: 10em;\n",
       "  background: linear-gradient(90deg, #a97142 36.7%, transparent 36.7%);\n",
       "}\n",
       "#T_e247d_row11_col1 {\n",
       "  width: 10em;\n",
       "  background: linear-gradient(90deg, Lightgray 11.4%, transparent 11.4%);\n",
       "}\n",
       "#T_e247d_row11_col2 {\n",
       "  width: 10em;\n",
       "  background: linear-gradient(90deg, #f0c05a 9.5%, transparent 9.5%);\n",
       "}\n",
       "#T_e247d_row12_col0 {\n",
       "  width: 10em;\n",
       "  background: linear-gradient(90deg, #a97142 19.5%, transparent 19.5%);\n",
       "}\n",
       "#T_e247d_row12_col1 {\n",
       "  width: 10em;\n",
       "  background: linear-gradient(90deg, Lightgray 12.3%, transparent 12.3%);\n",
       "}\n",
       "#T_e247d_row12_col2, #T_e247d_row14_col2 {\n",
       "  width: 10em;\n",
       "  background: linear-gradient(90deg, #f0c05a 11.1%, transparent 11.1%);\n",
       "}\n",
       "#T_e247d_row13_col0 {\n",
       "  width: 10em;\n",
       "  background: linear-gradient(90deg, #a97142 4.7%, transparent 4.7%);\n",
       "}\n",
       "#T_e247d_row13_col1 {\n",
       "  width: 10em;\n",
       "  background: linear-gradient(90deg, Lightgray 8.4%, transparent 8.4%);\n",
       "}\n",
       "#T_e247d_row13_col2 {\n",
       "  width: 10em;\n",
       "  background: linear-gradient(90deg, #f0c05a 13.2%, transparent 13.2%);\n",
       "}\n",
       "#T_e247d_row14_col0 {\n",
       "  width: 10em;\n",
       "  background: linear-gradient(90deg, #a97142 14.4%, transparent 14.4%);\n",
       "}\n",
       "#T_e247d_row14_col1, #T_e247d_row17_col1 {\n",
       "  width: 10em;\n",
       "  background: linear-gradient(90deg, Lightgray 3.2%, transparent 3.2%);\n",
       "}\n",
       "#T_e247d_row15_col0 {\n",
       "  width: 10em;\n",
       "  background: linear-gradient(90deg, #a97142 15.8%, transparent 15.8%);\n",
       "}\n",
       "#T_e247d_row15_col1 {\n",
       "  width: 10em;\n",
       "  background: linear-gradient(90deg, Lightgray 9.7%, transparent 9.7%);\n",
       "}\n",
       "#T_e247d_row15_col2 {\n",
       "  width: 10em;\n",
       "  background: linear-gradient(90deg, #f0c05a 4.2%, transparent 4.2%);\n",
       "}\n",
       "#T_e247d_row16_col0 {\n",
       "  width: 10em;\n",
       "  background: linear-gradient(90deg, #a97142 11.2%, transparent 11.2%);\n",
       "}\n",
       "#T_e247d_row16_col1 {\n",
       "  width: 10em;\n",
       "  background: linear-gradient(90deg, Lightgray 7.1%, transparent 7.1%);\n",
       "}\n",
       "#T_e247d_row16_col2 {\n",
       "  width: 10em;\n",
       "  background: linear-gradient(90deg, #f0c05a 4.5%, transparent 4.5%);\n",
       "}\n",
       "#T_e247d_row17_col0 {\n",
       "  width: 10em;\n",
       "  background: linear-gradient(90deg, #a97142 5.1%, transparent 5.1%);\n",
       "}\n",
       "#T_e247d_row17_col2, #T_e247d_row19_col2 {\n",
       "  width: 10em;\n",
       "  background: linear-gradient(90deg, #f0c05a 1.6%, transparent 1.6%);\n",
       "}\n",
       "#T_e247d_row18_col0 {\n",
       "  width: 10em;\n",
       "  background: linear-gradient(90deg, #a97142 5.6%, transparent 5.6%);\n",
       "}\n",
       "#T_e247d_row18_col1 {\n",
       "  width: 10em;\n",
       "  background: linear-gradient(90deg, Lightgray 1.3%, transparent 1.3%);\n",
       "}\n",
       "#T_e247d_row18_col2 {\n",
       "  width: 10em;\n",
       "  background: linear-gradient(90deg, #f0c05a 0.5%, transparent 0.5%);\n",
       "}\n",
       "#T_e247d_row19_col0 {\n",
       "  width: 10em;\n",
       "  background: linear-gradient(90deg, #a97142 3.3%, transparent 3.3%);\n",
       "}\n",
       "#T_e247d_row19_col1 {\n",
       "  width: 10em;\n",
       "  background: linear-gradient(90deg, Lightgray 1.0%, transparent 1.0%);\n",
       "}\n",
       "</style>\n",
       "<table id=\"T_e247d\">\n",
       "  <caption>Medals by Country: Winter Olympic Games [Top 20]</caption>\n",
       "  <thead>\n",
       "    <tr>\n",
       "      <th class=\"index_name level0\" >Medal</th>\n",
       "      <th id=\"T_e247d_level0_col0\" class=\"col_heading level0 col0\" >Bronze</th>\n",
       "      <th id=\"T_e247d_level0_col1\" class=\"col_heading level0 col1\" >Silver</th>\n",
       "      <th id=\"T_e247d_level0_col2\" class=\"col_heading level0 col2\" >Gold</th>\n",
       "      <th id=\"T_e247d_level0_col3\" class=\"col_heading level0 col3\" >Total</th>\n",
       "    </tr>\n",
       "    <tr>\n",
       "      <th class=\"index_name level0\" >region</th>\n",
       "      <th class=\"blank col0\" >&nbsp;</th>\n",
       "      <th class=\"blank col1\" >&nbsp;</th>\n",
       "      <th class=\"blank col2\" >&nbsp;</th>\n",
       "      <th class=\"blank col3\" >&nbsp;</th>\n",
       "    </tr>\n",
       "  </thead>\n",
       "  <tbody>\n",
       "    <tr>\n",
       "      <th id=\"T_e247d_level0_row0\" class=\"row_heading level0 row0\" >Russia</th>\n",
       "      <td id=\"T_e247d_row0_col0\" class=\"data row0 col0\" >184</td>\n",
       "      <td id=\"T_e247d_row0_col1\" class=\"data row0 col1\" >196</td>\n",
       "      <td id=\"T_e247d_row0_col2\" class=\"data row0 col2\" >379</td>\n",
       "      <td id=\"T_e247d_row0_col3\" class=\"data row0 col3\" >759</td>\n",
       "    </tr>\n",
       "    <tr>\n",
       "      <th id=\"T_e247d_level0_row1\" class=\"row_heading level0 row1\" >United States of America</th>\n",
       "      <td id=\"T_e247d_row1_col0\" class=\"data row1 col0\" >161</td>\n",
       "      <td id=\"T_e247d_row1_col1\" class=\"data row1 col1\" >308</td>\n",
       "      <td id=\"T_e247d_row1_col2\" class=\"data row1 col2\" >166</td>\n",
       "      <td id=\"T_e247d_row1_col3\" class=\"data row1 col3\" >635</td>\n",
       "    </tr>\n",
       "    <tr>\n",
       "      <th id=\"T_e247d_level0_row2\" class=\"row_heading level0 row2\" >Germany</th>\n",
       "      <td id=\"T_e247d_row2_col0\" class=\"data row2 col0\" >196</td>\n",
       "      <td id=\"T_e247d_row2_col1\" class=\"data row2 col1\" >208</td>\n",
       "      <td id=\"T_e247d_row2_col2\" class=\"data row2 col2\" >226</td>\n",
       "      <td id=\"T_e247d_row2_col3\" class=\"data row2 col3\" >630</td>\n",
       "    </tr>\n",
       "    <tr>\n",
       "      <th id=\"T_e247d_level0_row3\" class=\"row_heading level0 row3\" >Canada</th>\n",
       "      <td id=\"T_e247d_row3_col0\" class=\"data row3 col0\" >107</td>\n",
       "      <td id=\"T_e247d_row3_col1\" class=\"data row3 col1\" >199</td>\n",
       "      <td id=\"T_e247d_row3_col2\" class=\"data row3 col2\" >305</td>\n",
       "      <td id=\"T_e247d_row3_col3\" class=\"data row3 col3\" >611</td>\n",
       "    </tr>\n",
       "    <tr>\n",
       "      <th id=\"T_e247d_level0_row4\" class=\"row_heading level0 row4\" >Norway</th>\n",
       "      <td id=\"T_e247d_row4_col0\" class=\"data row4 col0\" >127</td>\n",
       "      <td id=\"T_e247d_row4_col1\" class=\"data row4 col1\" >165</td>\n",
       "      <td id=\"T_e247d_row4_col2\" class=\"data row4 col2\" >151</td>\n",
       "      <td id=\"T_e247d_row4_col3\" class=\"data row4 col3\" >443</td>\n",
       "    </tr>\n",
       "    <tr>\n",
       "      <th id=\"T_e247d_level0_row5\" class=\"row_heading level0 row5\" >Sweden</th>\n",
       "      <td id=\"T_e247d_row5_col0\" class=\"data row5 col0\" >177</td>\n",
       "      <td id=\"T_e247d_row5_col1\" class=\"data row5 col1\" >126</td>\n",
       "      <td id=\"T_e247d_row5_col2\" class=\"data row5 col2\" >125</td>\n",
       "      <td id=\"T_e247d_row5_col3\" class=\"data row5 col3\" >428</td>\n",
       "    </tr>\n",
       "    <tr>\n",
       "      <th id=\"T_e247d_level0_row6\" class=\"row_heading level0 row6\" >Finland</th>\n",
       "      <td id=\"T_e247d_row6_col0\" class=\"data row6 col0\" >215</td>\n",
       "      <td id=\"T_e247d_row6_col1\" class=\"data row6 col1\" >145</td>\n",
       "      <td id=\"T_e247d_row6_col2\" class=\"data row6 col2\" >66</td>\n",
       "      <td id=\"T_e247d_row6_col3\" class=\"data row6 col3\" >426</td>\n",
       "    </tr>\n",
       "    <tr>\n",
       "      <th id=\"T_e247d_level0_row7\" class=\"row_heading level0 row7\" >Austria</th>\n",
       "      <td id=\"T_e247d_row7_col0\" class=\"data row7 col0\" >103</td>\n",
       "      <td id=\"T_e247d_row7_col1\" class=\"data row7 col1\" >98</td>\n",
       "      <td id=\"T_e247d_row7_col2\" class=\"data row7 col2\" >79</td>\n",
       "      <td id=\"T_e247d_row7_col3\" class=\"data row7 col3\" >280</td>\n",
       "    </tr>\n",
       "    <tr>\n",
       "      <th id=\"T_e247d_level0_row8\" class=\"row_heading level0 row8\" >Switzerland</th>\n",
       "      <td id=\"T_e247d_row8_col0\" class=\"data row8 col0\" >129</td>\n",
       "      <td id=\"T_e247d_row8_col1\" class=\"data row8 col1\" >70</td>\n",
       "      <td id=\"T_e247d_row8_col2\" class=\"data row8 col2\" >76</td>\n",
       "      <td id=\"T_e247d_row8_col3\" class=\"data row8 col3\" >275</td>\n",
       "    </tr>\n",
       "    <tr>\n",
       "      <th id=\"T_e247d_level0_row9\" class=\"row_heading level0 row9\" >Czech Republic</th>\n",
       "      <td id=\"T_e247d_row9_col0\" class=\"data row9 col0\" >109</td>\n",
       "      <td id=\"T_e247d_row9_col1\" class=\"data row9 col1\" >93</td>\n",
       "      <td id=\"T_e247d_row9_col2\" class=\"data row9 col2\" >29</td>\n",
       "      <td id=\"T_e247d_row9_col3\" class=\"data row9 col3\" >231</td>\n",
       "    </tr>\n",
       "    <tr>\n",
       "      <th id=\"T_e247d_level0_row10\" class=\"row_heading level0 row10\" >Italy</th>\n",
       "      <td id=\"T_e247d_row10_col0\" class=\"data row10 col0\" >77</td>\n",
       "      <td id=\"T_e247d_row10_col1\" class=\"data row10 col1\" >57</td>\n",
       "      <td id=\"T_e247d_row10_col2\" class=\"data row10 col2\" >57</td>\n",
       "      <td id=\"T_e247d_row10_col3\" class=\"data row10 col3\" >191</td>\n",
       "    </tr>\n",
       "    <tr>\n",
       "      <th id=\"T_e247d_level0_row11\" class=\"row_heading level0 row11\" >France</th>\n",
       "      <td id=\"T_e247d_row11_col0\" class=\"data row11 col0\" >79</td>\n",
       "      <td id=\"T_e247d_row11_col1\" class=\"data row11 col1\" >35</td>\n",
       "      <td id=\"T_e247d_row11_col2\" class=\"data row11 col2\" >36</td>\n",
       "      <td id=\"T_e247d_row11_col3\" class=\"data row11 col3\" >150</td>\n",
       "    </tr>\n",
       "    <tr>\n",
       "      <th id=\"T_e247d_level0_row12\" class=\"row_heading level0 row12\" >Netherlands</th>\n",
       "      <td id=\"T_e247d_row12_col0\" class=\"data row12 col0\" >42</td>\n",
       "      <td id=\"T_e247d_row12_col1\" class=\"data row12 col1\" >38</td>\n",
       "      <td id=\"T_e247d_row12_col2\" class=\"data row12 col2\" >42</td>\n",
       "      <td id=\"T_e247d_row12_col3\" class=\"data row12 col3\" >122</td>\n",
       "    </tr>\n",
       "    <tr>\n",
       "      <th id=\"T_e247d_level0_row13\" class=\"row_heading level0 row13\" >South Korea</th>\n",
       "      <td id=\"T_e247d_row13_col0\" class=\"data row13 col0\" >10</td>\n",
       "      <td id=\"T_e247d_row13_col1\" class=\"data row13 col1\" >26</td>\n",
       "      <td id=\"T_e247d_row13_col2\" class=\"data row13 col2\" >50</td>\n",
       "      <td id=\"T_e247d_row13_col3\" class=\"data row13 col3\" >86</td>\n",
       "    </tr>\n",
       "    <tr>\n",
       "      <th id=\"T_e247d_level0_row14\" class=\"row_heading level0 row14\" >United Kingdom</th>\n",
       "      <td id=\"T_e247d_row14_col0\" class=\"data row14 col0\" >31</td>\n",
       "      <td id=\"T_e247d_row14_col1\" class=\"data row14 col1\" >10</td>\n",
       "      <td id=\"T_e247d_row14_col2\" class=\"data row14 col2\" >42</td>\n",
       "      <td id=\"T_e247d_row14_col3\" class=\"data row14 col3\" >83</td>\n",
       "    </tr>\n",
       "    <tr>\n",
       "      <th id=\"T_e247d_level0_row15\" class=\"row_heading level0 row15\" >China</th>\n",
       "      <td id=\"T_e247d_row15_col0\" class=\"data row15 col0\" >34</td>\n",
       "      <td id=\"T_e247d_row15_col1\" class=\"data row15 col1\" >30</td>\n",
       "      <td id=\"T_e247d_row15_col2\" class=\"data row15 col2\" >16</td>\n",
       "      <td id=\"T_e247d_row15_col3\" class=\"data row15 col3\" >80</td>\n",
       "    </tr>\n",
       "    <tr>\n",
       "      <th id=\"T_e247d_level0_row16\" class=\"row_heading level0 row16\" >Japan</th>\n",
       "      <td id=\"T_e247d_row16_col0\" class=\"data row16 col0\" >24</td>\n",
       "      <td id=\"T_e247d_row16_col1\" class=\"data row16 col1\" >22</td>\n",
       "      <td id=\"T_e247d_row16_col2\" class=\"data row16 col2\" >17</td>\n",
       "      <td id=\"T_e247d_row16_col3\" class=\"data row16 col3\" >63</td>\n",
       "    </tr>\n",
       "    <tr>\n",
       "      <th id=\"T_e247d_level0_row17\" class=\"row_heading level0 row17\" >Poland</th>\n",
       "      <td id=\"T_e247d_row17_col0\" class=\"data row17 col0\" >11</td>\n",
       "      <td id=\"T_e247d_row17_col1\" class=\"data row17 col1\" >10</td>\n",
       "      <td id=\"T_e247d_row17_col2\" class=\"data row17 col2\" >6</td>\n",
       "      <td id=\"T_e247d_row17_col3\" class=\"data row17 col3\" >27</td>\n",
       "    </tr>\n",
       "    <tr>\n",
       "      <th id=\"T_e247d_level0_row18\" class=\"row_heading level0 row18\" >Slovenia</th>\n",
       "      <td id=\"T_e247d_row18_col0\" class=\"data row18 col0\" >12</td>\n",
       "      <td id=\"T_e247d_row18_col1\" class=\"data row18 col1\" >4</td>\n",
       "      <td id=\"T_e247d_row18_col2\" class=\"data row18 col2\" >2</td>\n",
       "      <td id=\"T_e247d_row18_col3\" class=\"data row18 col3\" >18</td>\n",
       "    </tr>\n",
       "    <tr>\n",
       "      <th id=\"T_e247d_level0_row19\" class=\"row_heading level0 row19\" >Australia</th>\n",
       "      <td id=\"T_e247d_row19_col0\" class=\"data row19 col0\" >7</td>\n",
       "      <td id=\"T_e247d_row19_col1\" class=\"data row19 col1\" >3</td>\n",
       "      <td id=\"T_e247d_row19_col2\" class=\"data row19 col2\" >6</td>\n",
       "      <td id=\"T_e247d_row19_col3\" class=\"data row19 col3\" >16</td>\n",
       "    </tr>\n",
       "  </tbody>\n",
       "</table>\n"
      ],
      "text/plain": [
       "<pandas.io.formats.style.Styler at 0x142f47110>"
      ]
     },
     "execution_count": 11,
     "metadata": {},
     "output_type": "execute_result"
    }
   ],
   "source": [
    "#medal count and visualisation of results \n",
    "\n",
    "medals = athelete_df_winter.groupby(['region','Medal'])['Medal'].count().unstack().fillna(0).astype(int)\n",
    "\n",
    "medals['Total'] = medals['Bronze'] + medals['Silver'] + medals['Gold']\n",
    "\n",
    "medals = medals[['Bronze','Silver','Gold','Total']].sort_values(by='Total', ascending=False)\n",
    "\n",
    "medals.iloc[:20].style.set_caption('Medals by Country: Winter Olympic Games [Top 20]')\\\n",
    ".bar(subset=['Gold'], color='#f0c05a')\\\n",
    ".bar(subset=['Silver'], color='Lightgray')\\\n",
    ".bar(subset=['Bronze'], color='#a97142')"
   ]
  },
  {
   "cell_type": "code",
   "execution_count": 12,
   "metadata": {},
   "outputs": [
    {
     "data": {
      "text/plain": [
       "Text(0.5, 1.0, 'Host Countries of Winter Olympic Games and number of times')"
      ]
     },
     "execution_count": 12,
     "metadata": {},
     "output_type": "execute_result"
    },
    {
     "data": {
      "image/png": "[encoded data removed]",
      "text/plain": [
       "<Figure size 300x300 with 1 Axes>"
      ]
     },
     "metadata": {},
     "output_type": "display_data"
    }
   ],
   "source": [
    "# Visualization for who were Host countires in Winter Olympic Games and how many times they had incredible honor to host them. \n",
    "\n",
    "plt.figure(figsize=(3,3))\n",
    "hosts = df_winter[['Year','Host_Country']].drop_duplicates()\n",
    "sns.countplot(y='Host_Country',data=hosts,order = hosts['Host_Country'].value_counts().index,\n",
    "              palette=sns.color_palette(\"pastel\"))\n",
    "plt.xlabel('')\n",
    "plt.title('Host Countries of Winter Olympic Games and number of times')"
   ]
  },
  {
   "cell_type": "markdown",
   "metadata": {},
   "source": [
    "----\n",
    "## PERFORMANCE OF HOST COUNTRIES AND ANALYSIS (USA, FRANCE, CANADA & UK)"
   ]
  },
  {
   "cell_type": "markdown",
   "metadata": {},
   "source": [
    "----\n",
    "### USA performance at Olympic games"
   ]
  },
  {
   "cell_type": "markdown",
   "metadata": {},
   "source": [
    "----\n",
    "##### USA hosted 4 winter and 4 summer Olympic games. Summer Olympic Games 2028, will be hosted in LA, USA."
   ]
  },
  {
   "cell_type": "code",
   "execution_count": 13,
   "metadata": {},
   "outputs": [
    {
     "ename": "ValueError",
     "evalue": "Image size of 839x70441 pixels is too large. It must be less than 2^16 in each direction.",
     "output_type": "error",
     "traceback": [
      "\u001b[0;31m---------------------------------------------------------------------------\u001b[0m",
      "\u001b[0;31mValueError\u001b[0m                                Traceback (most recent call last)",
      "File \u001b[0;32m/opt/anaconda3/envs/inclassfeb2024/lib/python3.11/site-packages/IPython/core/formatters.py:340\u001b[0m, in \u001b[0;36mBaseFormatter.__call__\u001b[0;34m(self, obj)\u001b[0m\n\u001b[1;32m    338\u001b[0m     \u001b[38;5;28;01mpass\u001b[39;00m\n\u001b[1;32m    339\u001b[0m \u001b[38;5;28;01melse\u001b[39;00m:\n\u001b[0;32m--> 340\u001b[0m     \u001b[38;5;28;01mreturn\u001b[39;00m printer(obj)\n\u001b[1;32m    341\u001b[0m \u001b[38;5;66;03m# Finally look for special method names\u001b[39;00m\n\u001b[1;32m    342\u001b[0m method \u001b[38;5;241m=\u001b[39m get_real_method(obj, \u001b[38;5;28mself\u001b[39m\u001b[38;5;241m.\u001b[39mprint_method)\n",
      "File \u001b[0;32m/opt/anaconda3/envs/inclassfeb2024/lib/python3.11/site-packages/IPython/core/pylabtools.py:152\u001b[0m, in \u001b[0;36mprint_figure\u001b[0;34m(fig, fmt, bbox_inches, base64, **kwargs)\u001b[0m\n\u001b[1;32m    149\u001b[0m     \u001b[38;5;28;01mfrom\u001b[39;00m \u001b[38;5;21;01mmatplotlib\u001b[39;00m\u001b[38;5;21;01m.\u001b[39;00m\u001b[38;5;21;01mbackend_bases\u001b[39;00m \u001b[38;5;28;01mimport\u001b[39;00m FigureCanvasBase\n\u001b[1;32m    150\u001b[0m     FigureCanvasBase(fig)\n\u001b[0;32m--> 152\u001b[0m fig\u001b[38;5;241m.\u001b[39mcanvas\u001b[38;5;241m.\u001b[39mprint_figure(bytes_io, \u001b[38;5;241m*\u001b[39m\u001b[38;5;241m*\u001b[39mkw)\n\u001b[1;32m    153\u001b[0m data \u001b[38;5;241m=\u001b[39m bytes_io\u001b[38;5;241m.\u001b[39mgetvalue()\n\u001b[1;32m    154\u001b[0m \u001b[38;5;28;01mif\u001b[39;00m fmt \u001b[38;5;241m==\u001b[39m \u001b[38;5;124m'\u001b[39m\u001b[38;5;124msvg\u001b[39m\u001b[38;5;124m'\u001b[39m:\n",
      "File \u001b[0;32m/opt/anaconda3/envs/inclassfeb2024/lib/python3.11/site-packages/matplotlib/backend_bases.py:2187\u001b[0m, in \u001b[0;36mFigureCanvasBase.print_figure\u001b[0;34m(self, filename, dpi, facecolor, edgecolor, orientation, format, bbox_inches, pad_inches, bbox_extra_artists, backend, **kwargs)\u001b[0m\n\u001b[1;32m   2183\u001b[0m \u001b[38;5;28;01mtry\u001b[39;00m:\n\u001b[1;32m   2184\u001b[0m     \u001b[38;5;66;03m# _get_renderer may change the figure dpi (as vector formats\u001b[39;00m\n\u001b[1;32m   2185\u001b[0m     \u001b[38;5;66;03m# force the figure dpi to 72), so we need to set it again here.\u001b[39;00m\n\u001b[1;32m   2186\u001b[0m     \u001b[38;5;28;01mwith\u001b[39;00m cbook\u001b[38;5;241m.\u001b[39m_setattr_cm(\u001b[38;5;28mself\u001b[39m\u001b[38;5;241m.\u001b[39mfigure, dpi\u001b[38;5;241m=\u001b[39mdpi):\n\u001b[0;32m-> 2187\u001b[0m         result \u001b[38;5;241m=\u001b[39m print_method(\n\u001b[1;32m   2188\u001b[0m             filename,\n\u001b[1;32m   2189\u001b[0m             facecolor\u001b[38;5;241m=\u001b[39mfacecolor,\n\u001b[1;32m   2190\u001b[0m             edgecolor\u001b[38;5;241m=\u001b[39medgecolor,\n\u001b[1;32m   2191\u001b[0m             orientation\u001b[38;5;241m=\u001b[39morientation,\n\u001b[1;32m   2192\u001b[0m             bbox_inches_restore\u001b[38;5;241m=\u001b[39m_bbox_inches_restore,\n\u001b[1;32m   2193\u001b[0m             \u001b[38;5;241m*\u001b[39m\u001b[38;5;241m*\u001b[39mkwargs)\n\u001b[1;32m   2194\u001b[0m \u001b[38;5;28;01mfinally\u001b[39;00m:\n\u001b[1;32m   2195\u001b[0m     \u001b[38;5;28;01mif\u001b[39;00m bbox_inches \u001b[38;5;129;01mand\u001b[39;00m restore_bbox:\n",
      "File \u001b[0;32m/opt/anaconda3/envs/inclassfeb2024/lib/python3.11/site-packages/matplotlib/backend_bases.py:2043\u001b[0m, in \u001b[0;36mFigureCanvasBase._switch_canvas_and_return_print_method.<locals>.<lambda>\u001b[0;34m(*args, **kwargs)\u001b[0m\n\u001b[1;32m   2039\u001b[0m     optional_kws \u001b[38;5;241m=\u001b[39m {  \u001b[38;5;66;03m# Passed by print_figure for other renderers.\u001b[39;00m\n\u001b[1;32m   2040\u001b[0m         \u001b[38;5;124m\"\u001b[39m\u001b[38;5;124mdpi\u001b[39m\u001b[38;5;124m\"\u001b[39m, \u001b[38;5;124m\"\u001b[39m\u001b[38;5;124mfacecolor\u001b[39m\u001b[38;5;124m\"\u001b[39m, \u001b[38;5;124m\"\u001b[39m\u001b[38;5;124medgecolor\u001b[39m\u001b[38;5;124m\"\u001b[39m, \u001b[38;5;124m\"\u001b[39m\u001b[38;5;124morientation\u001b[39m\u001b[38;5;124m\"\u001b[39m,\n\u001b[1;32m   2041\u001b[0m         \u001b[38;5;124m\"\u001b[39m\u001b[38;5;124mbbox_inches_restore\u001b[39m\u001b[38;5;124m\"\u001b[39m}\n\u001b[1;32m   2042\u001b[0m     skip \u001b[38;5;241m=\u001b[39m optional_kws \u001b[38;5;241m-\u001b[39m {\u001b[38;5;241m*\u001b[39minspect\u001b[38;5;241m.\u001b[39msignature(meth)\u001b[38;5;241m.\u001b[39mparameters}\n\u001b[0;32m-> 2043\u001b[0m     print_method \u001b[38;5;241m=\u001b[39m functools\u001b[38;5;241m.\u001b[39mwraps(meth)(\u001b[38;5;28;01mlambda\u001b[39;00m \u001b[38;5;241m*\u001b[39margs, \u001b[38;5;241m*\u001b[39m\u001b[38;5;241m*\u001b[39mkwargs: meth(\n\u001b[1;32m   2044\u001b[0m         \u001b[38;5;241m*\u001b[39margs, \u001b[38;5;241m*\u001b[39m\u001b[38;5;241m*\u001b[39m{k: v \u001b[38;5;28;01mfor\u001b[39;00m k, v \u001b[38;5;129;01min\u001b[39;00m kwargs\u001b[38;5;241m.\u001b[39mitems() \u001b[38;5;28;01mif\u001b[39;00m k \u001b[38;5;129;01mnot\u001b[39;00m \u001b[38;5;129;01min\u001b[39;00m skip}))\n\u001b[1;32m   2045\u001b[0m \u001b[38;5;28;01melse\u001b[39;00m:  \u001b[38;5;66;03m# Let third-parties do as they see fit.\u001b[39;00m\n\u001b[1;32m   2046\u001b[0m     print_method \u001b[38;5;241m=\u001b[39m meth\n",
      "File \u001b[0;32m/opt/anaconda3/envs/inclassfeb2024/lib/python3.11/site-packages/matplotlib/backends/backend_agg.py:497\u001b[0m, in \u001b[0;36mFigureCanvasAgg.print_png\u001b[0;34m(self, filename_or_obj, metadata, pil_kwargs)\u001b[0m\n\u001b[1;32m    450\u001b[0m \u001b[38;5;28;01mdef\u001b[39;00m \u001b[38;5;21mprint_png\u001b[39m(\u001b[38;5;28mself\u001b[39m, filename_or_obj, \u001b[38;5;241m*\u001b[39m, metadata\u001b[38;5;241m=\u001b[39m\u001b[38;5;28;01mNone\u001b[39;00m, pil_kwargs\u001b[38;5;241m=\u001b[39m\u001b[38;5;28;01mNone\u001b[39;00m):\n\u001b[1;32m    451\u001b[0m \u001b[38;5;250m    \u001b[39m\u001b[38;5;124;03m\"\"\"\u001b[39;00m\n\u001b[1;32m    452\u001b[0m \u001b[38;5;124;03m    Write the figure to a PNG file.\u001b[39;00m\n\u001b[1;32m    453\u001b[0m \n\u001b[0;32m   (...)\u001b[0m\n\u001b[1;32m    495\u001b[0m \u001b[38;5;124;03m        *metadata*, including the default 'Software' key.\u001b[39;00m\n\u001b[1;32m    496\u001b[0m \u001b[38;5;124;03m    \"\"\"\u001b[39;00m\n\u001b[0;32m--> 497\u001b[0m     \u001b[38;5;28mself\u001b[39m\u001b[38;5;241m.\u001b[39m_print_pil(filename_or_obj, \u001b[38;5;124m\"\u001b[39m\u001b[38;5;124mpng\u001b[39m\u001b[38;5;124m\"\u001b[39m, pil_kwargs, metadata)\n",
      "File \u001b[0;32m/opt/anaconda3/envs/inclassfeb2024/lib/python3.11/site-packages/matplotlib/backends/backend_agg.py:445\u001b[0m, in \u001b[0;36mFigureCanvasAgg._print_pil\u001b[0;34m(self, filename_or_obj, fmt, pil_kwargs, metadata)\u001b[0m\n\u001b[1;32m    440\u001b[0m \u001b[38;5;28;01mdef\u001b[39;00m \u001b[38;5;21m_print_pil\u001b[39m(\u001b[38;5;28mself\u001b[39m, filename_or_obj, fmt, pil_kwargs, metadata\u001b[38;5;241m=\u001b[39m\u001b[38;5;28;01mNone\u001b[39;00m):\n\u001b[1;32m    441\u001b[0m \u001b[38;5;250m    \u001b[39m\u001b[38;5;124;03m\"\"\"\u001b[39;00m\n\u001b[1;32m    442\u001b[0m \u001b[38;5;124;03m    Draw the canvas, then save it using `.image.imsave` (to which\u001b[39;00m\n\u001b[1;32m    443\u001b[0m \u001b[38;5;124;03m    *pil_kwargs* and *metadata* are forwarded).\u001b[39;00m\n\u001b[1;32m    444\u001b[0m \u001b[38;5;124;03m    \"\"\"\u001b[39;00m\n\u001b[0;32m--> 445\u001b[0m     FigureCanvasAgg\u001b[38;5;241m.\u001b[39mdraw(\u001b[38;5;28mself\u001b[39m)\n\u001b[1;32m    446\u001b[0m     mpl\u001b[38;5;241m.\u001b[39mimage\u001b[38;5;241m.\u001b[39mimsave(\n\u001b[1;32m    447\u001b[0m         filename_or_obj, \u001b[38;5;28mself\u001b[39m\u001b[38;5;241m.\u001b[39mbuffer_rgba(), \u001b[38;5;28mformat\u001b[39m\u001b[38;5;241m=\u001b[39mfmt, origin\u001b[38;5;241m=\u001b[39m\u001b[38;5;124m\"\u001b[39m\u001b[38;5;124mupper\u001b[39m\u001b[38;5;124m\"\u001b[39m,\n\u001b[1;32m    448\u001b[0m         dpi\u001b[38;5;241m=\u001b[39m\u001b[38;5;28mself\u001b[39m\u001b[38;5;241m.\u001b[39mfigure\u001b[38;5;241m.\u001b[39mdpi, metadata\u001b[38;5;241m=\u001b[39mmetadata, pil_kwargs\u001b[38;5;241m=\u001b[39mpil_kwargs)\n",
      "File \u001b[0;32m/opt/anaconda3/envs/inclassfeb2024/lib/python3.11/site-packages/matplotlib/backends/backend_agg.py:383\u001b[0m, in \u001b[0;36mFigureCanvasAgg.draw\u001b[0;34m(self)\u001b[0m\n\u001b[1;32m    381\u001b[0m \u001b[38;5;28;01mdef\u001b[39;00m \u001b[38;5;21mdraw\u001b[39m(\u001b[38;5;28mself\u001b[39m):\n\u001b[1;32m    382\u001b[0m     \u001b[38;5;66;03m# docstring inherited\u001b[39;00m\n\u001b[0;32m--> 383\u001b[0m     \u001b[38;5;28mself\u001b[39m\u001b[38;5;241m.\u001b[39mrenderer \u001b[38;5;241m=\u001b[39m \u001b[38;5;28mself\u001b[39m\u001b[38;5;241m.\u001b[39mget_renderer()\n\u001b[1;32m    384\u001b[0m     \u001b[38;5;28mself\u001b[39m\u001b[38;5;241m.\u001b[39mrenderer\u001b[38;5;241m.\u001b[39mclear()\n\u001b[1;32m    385\u001b[0m     \u001b[38;5;66;03m# Acquire a lock on the shared font cache.\u001b[39;00m\n",
      "File \u001b[0;32m/opt/anaconda3/envs/inclassfeb2024/lib/python3.11/site-packages/matplotlib/backends/backend_agg.py:398\u001b[0m, in \u001b[0;36mFigureCanvasAgg.get_renderer\u001b[0;34m(self)\u001b[0m\n\u001b[1;32m    396\u001b[0m reuse_renderer \u001b[38;5;241m=\u001b[39m (\u001b[38;5;28mself\u001b[39m\u001b[38;5;241m.\u001b[39m_lastKey \u001b[38;5;241m==\u001b[39m key)\n\u001b[1;32m    397\u001b[0m \u001b[38;5;28;01mif\u001b[39;00m \u001b[38;5;129;01mnot\u001b[39;00m reuse_renderer:\n\u001b[0;32m--> 398\u001b[0m     \u001b[38;5;28mself\u001b[39m\u001b[38;5;241m.\u001b[39mrenderer \u001b[38;5;241m=\u001b[39m RendererAgg(w, h, \u001b[38;5;28mself\u001b[39m\u001b[38;5;241m.\u001b[39mfigure\u001b[38;5;241m.\u001b[39mdpi)\n\u001b[1;32m    399\u001b[0m     \u001b[38;5;28mself\u001b[39m\u001b[38;5;241m.\u001b[39m_lastKey \u001b[38;5;241m=\u001b[39m key\n\u001b[1;32m    400\u001b[0m \u001b[38;5;28;01mreturn\u001b[39;00m \u001b[38;5;28mself\u001b[39m\u001b[38;5;241m.\u001b[39mrenderer\n",
      "File \u001b[0;32m/opt/anaconda3/envs/inclassfeb2024/lib/python3.11/site-packages/matplotlib/backends/backend_agg.py:70\u001b[0m, in \u001b[0;36mRendererAgg.__init__\u001b[0;34m(self, width, height, dpi)\u001b[0m\n\u001b[1;32m     68\u001b[0m \u001b[38;5;28mself\u001b[39m\u001b[38;5;241m.\u001b[39mwidth \u001b[38;5;241m=\u001b[39m width\n\u001b[1;32m     69\u001b[0m \u001b[38;5;28mself\u001b[39m\u001b[38;5;241m.\u001b[39mheight \u001b[38;5;241m=\u001b[39m height\n\u001b[0;32m---> 70\u001b[0m \u001b[38;5;28mself\u001b[39m\u001b[38;5;241m.\u001b[39m_renderer \u001b[38;5;241m=\u001b[39m _RendererAgg(\u001b[38;5;28mint\u001b[39m(width), \u001b[38;5;28mint\u001b[39m(height), dpi)\n\u001b[1;32m     71\u001b[0m \u001b[38;5;28mself\u001b[39m\u001b[38;5;241m.\u001b[39m_filter_renderers \u001b[38;5;241m=\u001b[39m []\n\u001b[1;32m     73\u001b[0m \u001b[38;5;28mself\u001b[39m\u001b[38;5;241m.\u001b[39m_update_methods()\n",
      "\u001b[0;31mValueError\u001b[0m: Image size of 839x70441 pixels is too large. It must be less than 2^16 in each direction."
     ]
    },
    {
     "data": {
      "text/plain": [
       "<Figure size 1000x500 with 1 Axes>"
      ]
     },
     "metadata": {},
     "output_type": "display_data"
    }
   ],
   "source": [
    "#Visualization how USA performed over years and comparison with performance when USA hosted summer Olympic games.\n",
    "\n",
    "temp = df_summer.query(\"region == 'USA'\")\n",
    "\n",
    "\n",
    "fig, ax = plt.subplots(1, 1, figsize=(10, 5), facecolor='white')\n",
    "\n",
    "color = ['#B73832' if i == 1 else '#244747' for i in temp['Is_Host']]\n",
    "\n",
    "ax.bar(temp['Year'], temp['Total Medals'],width=3, color=color, ec='black')\n",
    "ax.set_facecolor('white')\n",
    "ax.grid(which='both', axis='y', zorder=5, color='gray', linestyle=':', dashes=(1,5))\n",
    "ax.set_axisbelow(True)\n",
    "\n",
    "for s in ['top', 'right']:\n",
    "    ax.spines[s].set_visible(False)\n",
    "\n",
    "Xstart, Xend = ax.get_xlim()\n",
    "Ystart, Yend = ax.get_ylim()\n",
    "\n",
    "ax.text(Xstart,Yend+20, 'Total Summer Olympic Medals for USA', fontsize=15,fontweight='bold',color='blue')\n",
    "ax.text(Xstart,Yend+10, 'Hosting', fontsize=10,fontweight='bold',color='#B73832')\n",
    "\n",
    "plt.show()"
   ]
  },
  {
   "cell_type": "code",
   "execution_count": 14,
   "metadata": {},
   "outputs": [
    {
     "data": {
      "text/html": [
       "<div>\n",
       "<style scoped>\n",
       "    .dataframe tbody tr th:only-of-type {\n",
       "        vertical-align: middle;\n",
       "    }\n",
       "\n",
       "    .dataframe tbody tr th {\n",
       "        vertical-align: top;\n",
       "    }\n",
       "\n",
       "    .dataframe thead th {\n",
       "        text-align: right;\n",
       "    }\n",
       "</style>\n",
       "<table border=\"1\" class=\"dataframe\">\n",
       "  <thead>\n",
       "    <tr style=\"text-align: right;\">\n",
       "      <th>Medal</th>\n",
       "      <th>Year</th>\n",
       "      <th>Host_Country</th>\n",
       "      <th>region</th>\n",
       "      <th>Bronze</th>\n",
       "      <th>Gold</th>\n",
       "      <th>Silver</th>\n",
       "      <th>Is_Host</th>\n",
       "      <th>Total Medals</th>\n",
       "    </tr>\n",
       "  </thead>\n",
       "  <tbody>\n",
       "    <tr>\n",
       "      <th>45</th>\n",
       "      <td>1904</td>\n",
       "      <td>United States of America</td>\n",
       "      <td>United States of America</td>\n",
       "      <td>125</td>\n",
       "      <td>128</td>\n",
       "      <td>141</td>\n",
       "      <td>1</td>\n",
       "      <td>394</td>\n",
       "    </tr>\n",
       "    <tr>\n",
       "      <th>215</th>\n",
       "      <td>1932</td>\n",
       "      <td>United States of America</td>\n",
       "      <td>United States of America</td>\n",
       "      <td>61</td>\n",
       "      <td>81</td>\n",
       "      <td>47</td>\n",
       "      <td>1</td>\n",
       "      <td>189</td>\n",
       "    </tr>\n",
       "    <tr>\n",
       "      <th>668</th>\n",
       "      <td>1984</td>\n",
       "      <td>United States of America</td>\n",
       "      <td>United States of America</td>\n",
       "      <td>50</td>\n",
       "      <td>186</td>\n",
       "      <td>116</td>\n",
       "      <td>1</td>\n",
       "      <td>352</td>\n",
       "    </tr>\n",
       "    <tr>\n",
       "      <th>861</th>\n",
       "      <td>1996</td>\n",
       "      <td>United States of America</td>\n",
       "      <td>United States of America</td>\n",
       "      <td>52</td>\n",
       "      <td>159</td>\n",
       "      <td>48</td>\n",
       "      <td>1</td>\n",
       "      <td>259</td>\n",
       "    </tr>\n",
       "  </tbody>\n",
       "</table>\n",
       "</div>"
      ],
      "text/plain": [
       "Medal  Year              Host_Country                    region  Bronze  Gold  \\\n",
       "45     1904  United States of America  United States of America     125   128   \n",
       "215    1932  United States of America  United States of America      61    81   \n",
       "668    1984  United States of America  United States of America      50   186   \n",
       "861    1996  United States of America  United States of America      52   159   \n",
       "\n",
       "Medal  Silver  Is_Host  Total Medals  \n",
       "45        141        1           394  \n",
       "215        47        1           189  \n",
       "668       116        1           352  \n",
       "861        48        1           259  "
      ]
     },
     "execution_count": 14,
     "metadata": {},
     "output_type": "execute_result"
    }
   ],
   "source": [
    "# performance of USA for Summer Olympic\n",
    "USA_df_summer = df_summer[df_summer['region'] =='United States of America']\n",
    "# USA as host for winter\n",
    "USA_summer_host_df = USA_df_summer[(USA_df_summer['region'] =='United States of America') & (USA_df_summer['Host_Country'] =='United States of America')]\n",
    "USA_summer_host_df.head()"
   ]
  },
  {
   "cell_type": "code",
   "execution_count": 15,
   "metadata": {},
   "outputs": [
    {
     "data": {
      "image/png": "[encoded data removed]",
      "text/plain": [
       "<Figure size 640x480 with 1 Axes>"
      ]
     },
     "metadata": {},
     "output_type": "display_data"
    }
   ],
   "source": [
    "# Plot for Medals by Years for USA in Summer Olympic games\n",
    "plt.plot(USA_df_summer['Year'], USA_df_summer['Total Medals'], c='blue')\n",
    "plt.scatter(USA_summer_host_df['Year'], USA_summer_host_df['Total Medals'], c='r', label='Medals USA - hosted by USA')\n",
    "\n",
    "# Title and Axis\n",
    "plt.title('Medals won by USA in the Summer Olympic Games')\n",
    "plt.xlabel('Years')\n",
    "plt.ylabel('Medals')\n",
    "plt.legend()\n",
    "plt.show()"
   ]
  },
  {
   "cell_type": "code",
   "execution_count": 16,
   "metadata": {},
   "outputs": [
    {
     "ename": "ValueError",
     "evalue": "Image size of 1459x140441 pixels is too large. It must be less than 2^16 in each direction.",
     "output_type": "error",
     "traceback": [
      "\u001b[0;31m---------------------------------------------------------------------------\u001b[0m",
      "\u001b[0;31mValueError\u001b[0m                                Traceback (most recent call last)",
      "File \u001b[0;32m/opt/anaconda3/envs/inclassfeb2024/lib/python3.11/site-packages/IPython/core/formatters.py:340\u001b[0m, in \u001b[0;36mBaseFormatter.__call__\u001b[0;34m(self, obj)\u001b[0m\n\u001b[1;32m    338\u001b[0m     \u001b[38;5;28;01mpass\u001b[39;00m\n\u001b[1;32m    339\u001b[0m \u001b[38;5;28;01melse\u001b[39;00m:\n\u001b[0;32m--> 340\u001b[0m     \u001b[38;5;28;01mreturn\u001b[39;00m printer(obj)\n\u001b[1;32m    341\u001b[0m \u001b[38;5;66;03m# Finally look for special method names\u001b[39;00m\n\u001b[1;32m    342\u001b[0m method \u001b[38;5;241m=\u001b[39m get_real_method(obj, \u001b[38;5;28mself\u001b[39m\u001b[38;5;241m.\u001b[39mprint_method)\n",
      "File \u001b[0;32m/opt/anaconda3/envs/inclassfeb2024/lib/python3.11/site-packages/IPython/core/pylabtools.py:152\u001b[0m, in \u001b[0;36mprint_figure\u001b[0;34m(fig, fmt, bbox_inches, base64, **kwargs)\u001b[0m\n\u001b[1;32m    149\u001b[0m     \u001b[38;5;28;01mfrom\u001b[39;00m \u001b[38;5;21;01mmatplotlib\u001b[39;00m\u001b[38;5;21;01m.\u001b[39;00m\u001b[38;5;21;01mbackend_bases\u001b[39;00m \u001b[38;5;28;01mimport\u001b[39;00m FigureCanvasBase\n\u001b[1;32m    150\u001b[0m     FigureCanvasBase(fig)\n\u001b[0;32m--> 152\u001b[0m fig\u001b[38;5;241m.\u001b[39mcanvas\u001b[38;5;241m.\u001b[39mprint_figure(bytes_io, \u001b[38;5;241m*\u001b[39m\u001b[38;5;241m*\u001b[39mkw)\n\u001b[1;32m    153\u001b[0m data \u001b[38;5;241m=\u001b[39m bytes_io\u001b[38;5;241m.\u001b[39mgetvalue()\n\u001b[1;32m    154\u001b[0m \u001b[38;5;28;01mif\u001b[39;00m fmt \u001b[38;5;241m==\u001b[39m \u001b[38;5;124m'\u001b[39m\u001b[38;5;124msvg\u001b[39m\u001b[38;5;124m'\u001b[39m:\n",
      "File \u001b[0;32m/opt/anaconda3/envs/inclassfeb2024/lib/python3.11/site-packages/matplotlib/backend_bases.py:2187\u001b[0m, in \u001b[0;36mFigureCanvasBase.print_figure\u001b[0;34m(self, filename, dpi, facecolor, edgecolor, orientation, format, bbox_inches, pad_inches, bbox_extra_artists, backend, **kwargs)\u001b[0m\n\u001b[1;32m   2183\u001b[0m \u001b[38;5;28;01mtry\u001b[39;00m:\n\u001b[1;32m   2184\u001b[0m     \u001b[38;5;66;03m# _get_renderer may change the figure dpi (as vector formats\u001b[39;00m\n\u001b[1;32m   2185\u001b[0m     \u001b[38;5;66;03m# force the figure dpi to 72), so we need to set it again here.\u001b[39;00m\n\u001b[1;32m   2186\u001b[0m     \u001b[38;5;28;01mwith\u001b[39;00m cbook\u001b[38;5;241m.\u001b[39m_setattr_cm(\u001b[38;5;28mself\u001b[39m\u001b[38;5;241m.\u001b[39mfigure, dpi\u001b[38;5;241m=\u001b[39mdpi):\n\u001b[0;32m-> 2187\u001b[0m         result \u001b[38;5;241m=\u001b[39m print_method(\n\u001b[1;32m   2188\u001b[0m             filename,\n\u001b[1;32m   2189\u001b[0m             facecolor\u001b[38;5;241m=\u001b[39mfacecolor,\n\u001b[1;32m   2190\u001b[0m             edgecolor\u001b[38;5;241m=\u001b[39medgecolor,\n\u001b[1;32m   2191\u001b[0m             orientation\u001b[38;5;241m=\u001b[39morientation,\n\u001b[1;32m   2192\u001b[0m             bbox_inches_restore\u001b[38;5;241m=\u001b[39m_bbox_inches_restore,\n\u001b[1;32m   2193\u001b[0m             \u001b[38;5;241m*\u001b[39m\u001b[38;5;241m*\u001b[39mkwargs)\n\u001b[1;32m   2194\u001b[0m \u001b[38;5;28;01mfinally\u001b[39;00m:\n\u001b[1;32m   2195\u001b[0m     \u001b[38;5;28;01mif\u001b[39;00m bbox_inches \u001b[38;5;129;01mand\u001b[39;00m restore_bbox:\n",
      "File \u001b[0;32m/opt/anaconda3/envs/inclassfeb2024/lib/python3.11/site-packages/matplotlib/backend_bases.py:2043\u001b[0m, in \u001b[0;36mFigureCanvasBase._switch_canvas_and_return_print_method.<locals>.<lambda>\u001b[0;34m(*args, **kwargs)\u001b[0m\n\u001b[1;32m   2039\u001b[0m     optional_kws \u001b[38;5;241m=\u001b[39m {  \u001b[38;5;66;03m# Passed by print_figure for other renderers.\u001b[39;00m\n\u001b[1;32m   2040\u001b[0m         \u001b[38;5;124m\"\u001b[39m\u001b[38;5;124mdpi\u001b[39m\u001b[38;5;124m\"\u001b[39m, \u001b[38;5;124m\"\u001b[39m\u001b[38;5;124mfacecolor\u001b[39m\u001b[38;5;124m\"\u001b[39m, \u001b[38;5;124m\"\u001b[39m\u001b[38;5;124medgecolor\u001b[39m\u001b[38;5;124m\"\u001b[39m, \u001b[38;5;124m\"\u001b[39m\u001b[38;5;124morientation\u001b[39m\u001b[38;5;124m\"\u001b[39m,\n\u001b[1;32m   2041\u001b[0m         \u001b[38;5;124m\"\u001b[39m\u001b[38;5;124mbbox_inches_restore\u001b[39m\u001b[38;5;124m\"\u001b[39m}\n\u001b[1;32m   2042\u001b[0m     skip \u001b[38;5;241m=\u001b[39m optional_kws \u001b[38;5;241m-\u001b[39m {\u001b[38;5;241m*\u001b[39minspect\u001b[38;5;241m.\u001b[39msignature(meth)\u001b[38;5;241m.\u001b[39mparameters}\n\u001b[0;32m-> 2043\u001b[0m     print_method \u001b[38;5;241m=\u001b[39m functools\u001b[38;5;241m.\u001b[39mwraps(meth)(\u001b[38;5;28;01mlambda\u001b[39;00m \u001b[38;5;241m*\u001b[39margs, \u001b[38;5;241m*\u001b[39m\u001b[38;5;241m*\u001b[39mkwargs: meth(\n\u001b[1;32m   2044\u001b[0m         \u001b[38;5;241m*\u001b[39margs, \u001b[38;5;241m*\u001b[39m\u001b[38;5;241m*\u001b[39m{k: v \u001b[38;5;28;01mfor\u001b[39;00m k, v \u001b[38;5;129;01min\u001b[39;00m kwargs\u001b[38;5;241m.\u001b[39mitems() \u001b[38;5;28;01mif\u001b[39;00m k \u001b[38;5;129;01mnot\u001b[39;00m \u001b[38;5;129;01min\u001b[39;00m skip}))\n\u001b[1;32m   2045\u001b[0m \u001b[38;5;28;01melse\u001b[39;00m:  \u001b[38;5;66;03m# Let third-parties do as they see fit.\u001b[39;00m\n\u001b[1;32m   2046\u001b[0m     print_method \u001b[38;5;241m=\u001b[39m meth\n",
      "File \u001b[0;32m/opt/anaconda3/envs/inclassfeb2024/lib/python3.11/site-packages/matplotlib/backends/backend_agg.py:497\u001b[0m, in \u001b[0;36mFigureCanvasAgg.print_png\u001b[0;34m(self, filename_or_obj, metadata, pil_kwargs)\u001b[0m\n\u001b[1;32m    450\u001b[0m \u001b[38;5;28;01mdef\u001b[39;00m \u001b[38;5;21mprint_png\u001b[39m(\u001b[38;5;28mself\u001b[39m, filename_or_obj, \u001b[38;5;241m*\u001b[39m, metadata\u001b[38;5;241m=\u001b[39m\u001b[38;5;28;01mNone\u001b[39;00m, pil_kwargs\u001b[38;5;241m=\u001b[39m\u001b[38;5;28;01mNone\u001b[39;00m):\n\u001b[1;32m    451\u001b[0m \u001b[38;5;250m    \u001b[39m\u001b[38;5;124;03m\"\"\"\u001b[39;00m\n\u001b[1;32m    452\u001b[0m \u001b[38;5;124;03m    Write the figure to a PNG file.\u001b[39;00m\n\u001b[1;32m    453\u001b[0m \n\u001b[0;32m   (...)\u001b[0m\n\u001b[1;32m    495\u001b[0m \u001b[38;5;124;03m        *metadata*, including the default 'Software' key.\u001b[39;00m\n\u001b[1;32m    496\u001b[0m \u001b[38;5;124;03m    \"\"\"\u001b[39;00m\n\u001b[0;32m--> 497\u001b[0m     \u001b[38;5;28mself\u001b[39m\u001b[38;5;241m.\u001b[39m_print_pil(filename_or_obj, \u001b[38;5;124m\"\u001b[39m\u001b[38;5;124mpng\u001b[39m\u001b[38;5;124m\"\u001b[39m, pil_kwargs, metadata)\n",
      "File \u001b[0;32m/opt/anaconda3/envs/inclassfeb2024/lib/python3.11/site-packages/matplotlib/backends/backend_agg.py:445\u001b[0m, in \u001b[0;36mFigureCanvasAgg._print_pil\u001b[0;34m(self, filename_or_obj, fmt, pil_kwargs, metadata)\u001b[0m\n\u001b[1;32m    440\u001b[0m \u001b[38;5;28;01mdef\u001b[39;00m \u001b[38;5;21m_print_pil\u001b[39m(\u001b[38;5;28mself\u001b[39m, filename_or_obj, fmt, pil_kwargs, metadata\u001b[38;5;241m=\u001b[39m\u001b[38;5;28;01mNone\u001b[39;00m):\n\u001b[1;32m    441\u001b[0m \u001b[38;5;250m    \u001b[39m\u001b[38;5;124;03m\"\"\"\u001b[39;00m\n\u001b[1;32m    442\u001b[0m \u001b[38;5;124;03m    Draw the canvas, then save it using `.image.imsave` (to which\u001b[39;00m\n\u001b[1;32m    443\u001b[0m \u001b[38;5;124;03m    *pil_kwargs* and *metadata* are forwarded).\u001b[39;00m\n\u001b[1;32m    444\u001b[0m \u001b[38;5;124;03m    \"\"\"\u001b[39;00m\n\u001b[0;32m--> 445\u001b[0m     FigureCanvasAgg\u001b[38;5;241m.\u001b[39mdraw(\u001b[38;5;28mself\u001b[39m)\n\u001b[1;32m    446\u001b[0m     mpl\u001b[38;5;241m.\u001b[39mimage\u001b[38;5;241m.\u001b[39mimsave(\n\u001b[1;32m    447\u001b[0m         filename_or_obj, \u001b[38;5;28mself\u001b[39m\u001b[38;5;241m.\u001b[39mbuffer_rgba(), \u001b[38;5;28mformat\u001b[39m\u001b[38;5;241m=\u001b[39mfmt, origin\u001b[38;5;241m=\u001b[39m\u001b[38;5;124m\"\u001b[39m\u001b[38;5;124mupper\u001b[39m\u001b[38;5;124m\"\u001b[39m,\n\u001b[1;32m    448\u001b[0m         dpi\u001b[38;5;241m=\u001b[39m\u001b[38;5;28mself\u001b[39m\u001b[38;5;241m.\u001b[39mfigure\u001b[38;5;241m.\u001b[39mdpi, metadata\u001b[38;5;241m=\u001b[39mmetadata, pil_kwargs\u001b[38;5;241m=\u001b[39mpil_kwargs)\n",
      "File \u001b[0;32m/opt/anaconda3/envs/inclassfeb2024/lib/python3.11/site-packages/matplotlib/backends/backend_agg.py:383\u001b[0m, in \u001b[0;36mFigureCanvasAgg.draw\u001b[0;34m(self)\u001b[0m\n\u001b[1;32m    381\u001b[0m \u001b[38;5;28;01mdef\u001b[39;00m \u001b[38;5;21mdraw\u001b[39m(\u001b[38;5;28mself\u001b[39m):\n\u001b[1;32m    382\u001b[0m     \u001b[38;5;66;03m# docstring inherited\u001b[39;00m\n\u001b[0;32m--> 383\u001b[0m     \u001b[38;5;28mself\u001b[39m\u001b[38;5;241m.\u001b[39mrenderer \u001b[38;5;241m=\u001b[39m \u001b[38;5;28mself\u001b[39m\u001b[38;5;241m.\u001b[39mget_renderer()\n\u001b[1;32m    384\u001b[0m     \u001b[38;5;28mself\u001b[39m\u001b[38;5;241m.\u001b[39mrenderer\u001b[38;5;241m.\u001b[39mclear()\n\u001b[1;32m    385\u001b[0m     \u001b[38;5;66;03m# Acquire a lock on the shared font cache.\u001b[39;00m\n",
      "File \u001b[0;32m/opt/anaconda3/envs/inclassfeb2024/lib/python3.11/site-packages/matplotlib/backends/backend_agg.py:398\u001b[0m, in \u001b[0;36mFigureCanvasAgg.get_renderer\u001b[0;34m(self)\u001b[0m\n\u001b[1;32m    396\u001b[0m reuse_renderer \u001b[38;5;241m=\u001b[39m (\u001b[38;5;28mself\u001b[39m\u001b[38;5;241m.\u001b[39m_lastKey \u001b[38;5;241m==\u001b[39m key)\n\u001b[1;32m    397\u001b[0m \u001b[38;5;28;01mif\u001b[39;00m \u001b[38;5;129;01mnot\u001b[39;00m reuse_renderer:\n\u001b[0;32m--> 398\u001b[0m     \u001b[38;5;28mself\u001b[39m\u001b[38;5;241m.\u001b[39mrenderer \u001b[38;5;241m=\u001b[39m RendererAgg(w, h, \u001b[38;5;28mself\u001b[39m\u001b[38;5;241m.\u001b[39mfigure\u001b[38;5;241m.\u001b[39mdpi)\n\u001b[1;32m    399\u001b[0m     \u001b[38;5;28mself\u001b[39m\u001b[38;5;241m.\u001b[39m_lastKey \u001b[38;5;241m=\u001b[39m key\n\u001b[1;32m    400\u001b[0m \u001b[38;5;28;01mreturn\u001b[39;00m \u001b[38;5;28mself\u001b[39m\u001b[38;5;241m.\u001b[39mrenderer\n",
      "File \u001b[0;32m/opt/anaconda3/envs/inclassfeb2024/lib/python3.11/site-packages/matplotlib/backends/backend_agg.py:70\u001b[0m, in \u001b[0;36mRendererAgg.__init__\u001b[0;34m(self, width, height, dpi)\u001b[0m\n\u001b[1;32m     68\u001b[0m \u001b[38;5;28mself\u001b[39m\u001b[38;5;241m.\u001b[39mwidth \u001b[38;5;241m=\u001b[39m width\n\u001b[1;32m     69\u001b[0m \u001b[38;5;28mself\u001b[39m\u001b[38;5;241m.\u001b[39mheight \u001b[38;5;241m=\u001b[39m height\n\u001b[0;32m---> 70\u001b[0m \u001b[38;5;28mself\u001b[39m\u001b[38;5;241m.\u001b[39m_renderer \u001b[38;5;241m=\u001b[39m _RendererAgg(\u001b[38;5;28mint\u001b[39m(width), \u001b[38;5;28mint\u001b[39m(height), dpi)\n\u001b[1;32m     71\u001b[0m \u001b[38;5;28mself\u001b[39m\u001b[38;5;241m.\u001b[39m_filter_renderers \u001b[38;5;241m=\u001b[39m []\n\u001b[1;32m     73\u001b[0m \u001b[38;5;28mself\u001b[39m\u001b[38;5;241m.\u001b[39m_update_methods()\n",
      "\u001b[0;31mValueError\u001b[0m: Image size of 1459x140441 pixels is too large. It must be less than 2^16 in each direction."
     ]
    },
    {
     "data": {
      "text/plain": [
       "<Figure size 1800x500 with 1 Axes>"
      ]
     },
     "metadata": {},
     "output_type": "display_data"
    }
   ],
   "source": [
    "#Visualization how USA performed over years and comparison with performance when USA hosted Winter Olympic games.\n",
    "\n",
    "temp = df_winter.query(\"region == 'USA'\")\n",
    "\n",
    "\n",
    "fig, ax = plt.subplots(1, 1, figsize=(18, 5), facecolor='white')\n",
    "\n",
    "color = ['#B73832' if i == 1 else '#244747' for i in temp['Is_Host']]\n",
    "\n",
    "ax.bar(temp['Year'], temp['Total Medals'],width=3, color=color, ec='black')\n",
    "ax.set_facecolor('white')\n",
    "ax.grid(which='both', axis='y', zorder=5, color='gray', linestyle=':', dashes=(1,5))\n",
    "ax.set_axisbelow(True)\n",
    "\n",
    "for s in ['top', 'right']:\n",
    "    ax.spines[s].set_visible(False)\n",
    "\n",
    "Xstart, Xend = ax.get_xlim()\n",
    "Ystart, Yend = ax.get_ylim()\n",
    "\n",
    "ax.text(Xstart,Yend+40, 'Total Winter Olympic Medals for USA', fontsize=15,fontweight='bold',color='blue')\n",
    "ax.text(Xstart,Yend+25, 'Hosting', fontsize=10,fontweight='bold',color='red')\n",
    "\n",
    "plt.show()"
   ]
  },
  {
   "cell_type": "code",
   "execution_count": 17,
   "metadata": {},
   "outputs": [
    {
     "data": {
      "text/html": [
       "<div>\n",
       "<style scoped>\n",
       "    .dataframe tbody tr th:only-of-type {\n",
       "        vertical-align: middle;\n",
       "    }\n",
       "\n",
       "    .dataframe tbody tr th {\n",
       "        vertical-align: top;\n",
       "    }\n",
       "\n",
       "    .dataframe thead th {\n",
       "        text-align: right;\n",
       "    }\n",
       "</style>\n",
       "<table border=\"1\" class=\"dataframe\">\n",
       "  <thead>\n",
       "    <tr style=\"text-align: right;\">\n",
       "      <th>Medal</th>\n",
       "      <th>Year</th>\n",
       "      <th>Host_Country</th>\n",
       "      <th>region</th>\n",
       "      <th>Bronze</th>\n",
       "      <th>Gold</th>\n",
       "      <th>Silver</th>\n",
       "      <th>Is_Host</th>\n",
       "      <th>Total Medals</th>\n",
       "    </tr>\n",
       "  </thead>\n",
       "  <tbody>\n",
       "    <tr>\n",
       "      <th>34</th>\n",
       "      <td>1932</td>\n",
       "      <td>United States of America</td>\n",
       "      <td>United States of America</td>\n",
       "      <td>3</td>\n",
       "      <td>10</td>\n",
       "      <td>21</td>\n",
       "      <td>1</td>\n",
       "      <td>34</td>\n",
       "    </tr>\n",
       "    <tr>\n",
       "      <th>98</th>\n",
       "      <td>1960</td>\n",
       "      <td>United States of America</td>\n",
       "      <td>United States of America</td>\n",
       "      <td>4</td>\n",
       "      <td>19</td>\n",
       "      <td>4</td>\n",
       "      <td>1</td>\n",
       "      <td>27</td>\n",
       "    </tr>\n",
       "    <tr>\n",
       "      <th>175</th>\n",
       "      <td>1980</td>\n",
       "      <td>United States of America</td>\n",
       "      <td>United States of America</td>\n",
       "      <td>2</td>\n",
       "      <td>24</td>\n",
       "      <td>4</td>\n",
       "      <td>1</td>\n",
       "      <td>30</td>\n",
       "    </tr>\n",
       "    <tr>\n",
       "      <th>297</th>\n",
       "      <td>2002</td>\n",
       "      <td>United States of America</td>\n",
       "      <td>United States of America</td>\n",
       "      <td>15</td>\n",
       "      <td>11</td>\n",
       "      <td>58</td>\n",
       "      <td>1</td>\n",
       "      <td>84</td>\n",
       "    </tr>\n",
       "  </tbody>\n",
       "</table>\n",
       "</div>"
      ],
      "text/plain": [
       "Medal  Year              Host_Country                    region  Bronze  Gold  \\\n",
       "34     1932  United States of America  United States of America       3    10   \n",
       "98     1960  United States of America  United States of America       4    19   \n",
       "175    1980  United States of America  United States of America       2    24   \n",
       "297    2002  United States of America  United States of America      15    11   \n",
       "\n",
       "Medal  Silver  Is_Host  Total Medals  \n",
       "34         21        1            34  \n",
       "98          4        1            27  \n",
       "175         4        1            30  \n",
       "297        58        1            84  "
      ]
     },
     "execution_count": 17,
     "metadata": {},
     "output_type": "execute_result"
    }
   ],
   "source": [
    "# performance of USA for Winter Olympic\n",
    "USA_df_winter = df_winter[df_winter['region'] =='United States of America']\n",
    "# USA as host for winter\n",
    "USA_winter_host_df = USA_df_winter[(USA_df_winter['region'] =='United States of America') & (USA_df_winter['Host_Country'] =='United States of America')]\n",
    "USA_winter_host_df.head()"
   ]
  },
  {
   "cell_type": "code",
   "execution_count": 18,
   "metadata": {},
   "outputs": [
    {
     "data": {
      "image/png": "[encoded data removed]",
      "text/plain": [
       "<Figure size 640x480 with 1 Axes>"
      ]
     },
     "metadata": {},
     "output_type": "display_data"
    }
   ],
   "source": [
    "# Plot for Medals by Years by USA in Winter Olympic games\n",
    "plt.plot(USA_df_winter['Year'], USA_df_winter['Total Medals'], c='blue')\n",
    "plt.scatter(USA_winter_host_df['Year'], USA_winter_host_df['Total Medals'], c='r', label='Medals USA - hosted by USA')\n",
    "\n",
    "# Title and Axis\n",
    "plt.title('Medals won by USA in the Winter Olympic Games')\n",
    "plt.xlabel('Years')\n",
    "plt.ylabel('Medals')\n",
    "plt.legend()\n",
    "plt.show()"
   ]
  },
  {
   "cell_type": "markdown",
   "metadata": {},
   "source": [
    "----\n",
    "### France performance at Olympic games"
   ]
  },
  {
   "cell_type": "markdown",
   "metadata": {},
   "source": [
    "----\n",
    "##### France hosted 2 winter and 3 summer Olympic games. This summer, it will be host of 2024 Olympic games!!!"
   ]
  },
  {
   "cell_type": "code",
   "execution_count": 19,
   "metadata": {},
   "outputs": [
    {
     "data": {
      "image/png": "[encoded data removed]",
      "text/plain": [
       "<Figure size 1000x500 with 1 Axes>"
      ]
     },
     "metadata": {},
     "output_type": "display_data"
    }
   ],
   "source": [
    "#Visualization how France performed over years and comparison with performance when France hosted summer Olympic games.\n",
    "\n",
    "temp = df_summer.query(\"region == 'France'\")\n",
    "\n",
    "\n",
    "fig, ax = plt.subplots(1, 1, figsize=(10, 5), facecolor='white')\n",
    "\n",
    "color = ['#B73832' if i == 1 else '#244747' for i in temp['Is_Host']]\n",
    "\n",
    "ax.bar(temp['Year'], temp['Total Medals'],width=3, color=color, ec='black')\n",
    "ax.set_facecolor('white')\n",
    "ax.grid(which='both', axis='y', zorder=5, color='gray', linestyle=':', dashes=(1,5))\n",
    "ax.set_axisbelow(True)\n",
    "\n",
    "for s in ['top', 'right']:\n",
    "    ax.spines[s].set_visible(False)\n",
    "\n",
    "Xstart, Xend = ax.get_xlim()\n",
    "Ystart, Yend = ax.get_ylim()\n",
    "\n",
    "ax.text(Xstart,Yend+20, 'Total Summer Olympic Medals for France', fontsize=15,fontweight='bold',color='blue')\n",
    "ax.text(Xstart,Yend+10, 'Hosting', fontsize=10,fontweight='bold',color='#B73832')\n",
    "\n",
    "plt.show()"
   ]
  },
  {
   "cell_type": "code",
   "execution_count": 20,
   "metadata": {},
   "outputs": [
    {
     "data": {
      "text/html": [
       "<div>\n",
       "<style scoped>\n",
       "    .dataframe tbody tr th:only-of-type {\n",
       "        vertical-align: middle;\n",
       "    }\n",
       "\n",
       "    .dataframe tbody tr th {\n",
       "        vertical-align: top;\n",
       "    }\n",
       "\n",
       "    .dataframe thead th {\n",
       "        text-align: right;\n",
       "    }\n",
       "</style>\n",
       "<table border=\"1\" class=\"dataframe\">\n",
       "  <thead>\n",
       "    <tr style=\"text-align: right;\">\n",
       "      <th>Medal</th>\n",
       "      <th>Year</th>\n",
       "      <th>Host_Country</th>\n",
       "      <th>region</th>\n",
       "      <th>Bronze</th>\n",
       "      <th>Gold</th>\n",
       "      <th>Silver</th>\n",
       "      <th>Is_Host</th>\n",
       "      <th>Total Medals</th>\n",
       "    </tr>\n",
       "  </thead>\n",
       "  <tbody>\n",
       "    <tr>\n",
       "      <th>18</th>\n",
       "      <td>1900</td>\n",
       "      <td>France</td>\n",
       "      <td>France</td>\n",
       "      <td>82</td>\n",
       "      <td>52</td>\n",
       "      <td>101</td>\n",
       "      <td>1</td>\n",
       "      <td>235</td>\n",
       "    </tr>\n",
       "    <tr>\n",
       "      <th>133</th>\n",
       "      <td>1924</td>\n",
       "      <td>France</td>\n",
       "      <td>France</td>\n",
       "      <td>22</td>\n",
       "      <td>37</td>\n",
       "      <td>51</td>\n",
       "      <td>1</td>\n",
       "      <td>110</td>\n",
       "    </tr>\n",
       "  </tbody>\n",
       "</table>\n",
       "</div>"
      ],
      "text/plain": [
       "Medal  Year Host_Country  region  Bronze  Gold  Silver  Is_Host  Total Medals\n",
       "18     1900       France  France      82    52     101        1           235\n",
       "133    1924       France  France      22    37      51        1           110"
      ]
     },
     "execution_count": 20,
     "metadata": {},
     "output_type": "execute_result"
    }
   ],
   "source": [
    "# performance of France for summer olympic\n",
    "France_df_summer = df_summer[df_summer['region'] =='France']\n",
    "France_summer_host_df = France_df_summer[(France_df_summer['region'] =='France') & (France_df_summer['Host_Country'] =='France')]\n",
    "France_summer_host_df.head()"
   ]
  },
  {
   "cell_type": "code",
   "execution_count": 21,
   "metadata": {},
   "outputs": [
    {
     "data": {
      "image/png": "[encoded data removed]",
      "text/plain": [
       "<Figure size 640x480 with 1 Axes>"
      ]
     },
     "metadata": {},
     "output_type": "display_data"
    }
   ],
   "source": [
    "# Plot for Medals by Years\n",
    "plt.plot(France_df_summer['Year'], France_df_summer['Total Medals'], c='blue')\n",
    "plt.scatter(France_summer_host_df['Year'], France_summer_host_df['Total Medals'], c='r', label='Medals France - hosted by France')\n",
    "\n",
    "# Title and Axis\n",
    "plt.title('Medals won by France in the Summer Olympic Games')\n",
    "plt.xlabel('Years')\n",
    "plt.ylabel('Medals')\n",
    "plt.legend()\n",
    "plt.show()"
   ]
  },
  {
   "cell_type": "code",
   "execution_count": 22,
   "metadata": {},
   "outputs": [
    {
     "data": {
      "image/png": "[encoded data removed]",
      "text/plain": [
       "<Figure size 1000x200 with 1 Axes>"
      ]
     },
     "metadata": {},
     "output_type": "display_data"
    }
   ],
   "source": [
    "#Visualization how France performed over years and comparison with performance when France hosted winter Olympic games.\n",
    "\n",
    "temp = df_winter.query(\"region == 'France'\")\n",
    "\n",
    "\n",
    "fig, ax = plt.subplots(1, 1, figsize=(10, 2), facecolor='white')\n",
    "\n",
    "color = ['#B73832' if i == 1 else '#244747' for i in temp['Is_Host']]\n",
    "\n",
    "ax.bar(temp['Year'], temp['Total Medals'],width=3, color=color, ec='black')\n",
    "ax.set_facecolor('white')\n",
    "ax.grid(which='both', axis='y', zorder=5, color='gray', linestyle=':', dashes=(1,5))\n",
    "ax.set_axisbelow(True)\n",
    "\n",
    "for s in ['top', 'right']:\n",
    "    ax.spines[s].set_visible(False)\n",
    "\n",
    "Xstart, Xend = ax.get_xlim()\n",
    "Ystart, Yend = ax.get_ylim()\n",
    "\n",
    "ax.text(Xstart,Yend+10, 'Total Winter Olympic Medals for France', fontsize=15,fontweight='bold',color='blue')\n",
    "ax.text(Xstart,Yend+20, 'Hosting', fontsize=10,fontweight='bold',color='red')\n",
    "\n",
    "plt.show()"
   ]
  },
  {
   "cell_type": "code",
   "execution_count": 23,
   "metadata": {},
   "outputs": [
    {
     "data": {
      "text/html": [
       "<div>\n",
       "<style scoped>\n",
       "    .dataframe tbody tr th:only-of-type {\n",
       "        vertical-align: middle;\n",
       "    }\n",
       "\n",
       "    .dataframe tbody tr th {\n",
       "        vertical-align: top;\n",
       "    }\n",
       "\n",
       "    .dataframe thead th {\n",
       "        text-align: right;\n",
       "    }\n",
       "</style>\n",
       "<table border=\"1\" class=\"dataframe\">\n",
       "  <thead>\n",
       "    <tr style=\"text-align: right;\">\n",
       "      <th>Medal</th>\n",
       "      <th>Year</th>\n",
       "      <th>Host_Country</th>\n",
       "      <th>region</th>\n",
       "      <th>Bronze</th>\n",
       "      <th>Gold</th>\n",
       "      <th>Silver</th>\n",
       "      <th>Is_Host</th>\n",
       "      <th>Total Medals</th>\n",
       "    </tr>\n",
       "  </thead>\n",
       "  <tbody>\n",
       "    <tr>\n",
       "      <th>5</th>\n",
       "      <td>1924</td>\n",
       "      <td>France</td>\n",
       "      <td>France</td>\n",
       "      <td>10</td>\n",
       "      <td>0</td>\n",
       "      <td>0</td>\n",
       "      <td>1</td>\n",
       "      <td>10</td>\n",
       "    </tr>\n",
       "    <tr>\n",
       "      <th>117</th>\n",
       "      <td>1968</td>\n",
       "      <td>France</td>\n",
       "      <td>France</td>\n",
       "      <td>2</td>\n",
       "      <td>4</td>\n",
       "      <td>3</td>\n",
       "      <td>1</td>\n",
       "      <td>9</td>\n",
       "    </tr>\n",
       "    <tr>\n",
       "      <th>213</th>\n",
       "      <td>1992</td>\n",
       "      <td>France</td>\n",
       "      <td>France</td>\n",
       "      <td>1</td>\n",
       "      <td>5</td>\n",
       "      <td>6</td>\n",
       "      <td>1</td>\n",
       "      <td>12</td>\n",
       "    </tr>\n",
       "  </tbody>\n",
       "</table>\n",
       "</div>"
      ],
      "text/plain": [
       "Medal  Year Host_Country  region  Bronze  Gold  Silver  Is_Host  Total Medals\n",
       "5      1924       France  France      10     0       0        1            10\n",
       "117    1968       France  France       2     4       3        1             9\n",
       "213    1992       France  France       1     5       6        1            12"
      ]
     },
     "execution_count": 23,
     "metadata": {},
     "output_type": "execute_result"
    }
   ],
   "source": [
    "# performance of France for winter olympic\n",
    "France_df_winter = df_winter[df_winter['region'] =='France']\n",
    "# France as host for winter\n",
    "France_winter_host_df = France_df_winter[(France_df_winter['region'] =='France') & (France_df_winter['Host_Country'] =='France')]\n",
    "France_winter_host_df.head()\n"
   ]
  },
  {
   "cell_type": "markdown",
   "metadata": {},
   "source": []
  },
  {
   "cell_type": "code",
   "execution_count": 24,
   "metadata": {},
   "outputs": [
    {
     "data": {
      "image/png": "[encoded data removed]",
      "text/plain": [
       "<Figure size 640x480 with 1 Axes>"
      ]
     },
     "metadata": {},
     "output_type": "display_data"
    }
   ],
   "source": [
    "# Plot for Medals by Years for France in winter Olympic games\n",
    "plt.plot(France_df_winter['Year'], France_df_winter['Total Medals'], c='blue')\n",
    "plt.scatter(France_winter_host_df['Year'], France_winter_host_df['Total Medals'], c='r', label='Medals- hosted by France')\n",
    "\n",
    "# Title and Axis\n",
    "plt.title('Medals won by France in the Winter Olympic Games')\n",
    "plt.xlabel('Years')\n",
    "plt.ylabel('Medals')\n",
    "plt.legend()\n",
    "plt.show()"
   ]
  },
  {
   "cell_type": "markdown",
   "metadata": {},
   "source": [
    "----\n",
    "### Canada's performance at Olympic games"
   ]
  },
  {
   "cell_type": "markdown",
   "metadata": {},
   "source": [
    "----\n",
    "##### Canada hosted 2 winter and 1 summer Olympic game."
   ]
  },
  {
   "cell_type": "code",
   "execution_count": 25,
   "metadata": {},
   "outputs": [
    {
     "data": {
      "image/png": "[encoded data removed]",
      "text/plain": [
       "<Figure size 1000x500 with 1 Axes>"
      ]
     },
     "metadata": {},
     "output_type": "display_data"
    }
   ],
   "source": [
    "temp = df_summer.query(\"region == 'Canada'\")\n",
    "\n",
    "\n",
    "fig, ax = plt.subplots(1, 1, figsize=(10, 5), facecolor='white')\n",
    "\n",
    "color = ['#B73832' if i == 1 else '#244747' for i in temp['Is_Host']]\n",
    "\n",
    "ax.bar(temp['Year'], temp['Total Medals'],width=3, color=color, ec='black')\n",
    "ax.set_facecolor('white')\n",
    "ax.grid(which='both', axis='y', zorder=5, color='gray', linestyle=':', dashes=(1,5))\n",
    "ax.set_axisbelow(True)\n",
    "\n",
    "for s in ['top', 'right']:\n",
    "    ax.spines[s].set_visible(False)\n",
    "\n",
    "Xstart, Xend = ax.get_xlim()\n",
    "Ystart, Yend = ax.get_ylim()\n",
    "\n",
    "ax.text(Xstart,Yend+10, 'Total Summer Olympic Medals for Canada', fontsize=15,fontweight='bold',color='blue')\n",
    "ax.text(Xstart,Yend+20, 'Hosting', fontsize=10,fontweight='bold',color='#B73832')\n",
    "\n",
    "plt.show()"
   ]
  },
  {
   "cell_type": "code",
   "execution_count": 26,
   "metadata": {},
   "outputs": [
    {
     "data": {
      "text/html": [
       "<div>\n",
       "<style scoped>\n",
       "    .dataframe tbody tr th:only-of-type {\n",
       "        vertical-align: middle;\n",
       "    }\n",
       "\n",
       "    .dataframe tbody tr th {\n",
       "        vertical-align: top;\n",
       "    }\n",
       "\n",
       "    .dataframe thead th {\n",
       "        text-align: right;\n",
       "    }\n",
       "</style>\n",
       "<table border=\"1\" class=\"dataframe\">\n",
       "  <thead>\n",
       "    <tr style=\"text-align: right;\">\n",
       "      <th>Medal</th>\n",
       "      <th>Year</th>\n",
       "      <th>Host_Country</th>\n",
       "      <th>region</th>\n",
       "      <th>Bronze</th>\n",
       "      <th>Gold</th>\n",
       "      <th>Silver</th>\n",
       "      <th>Is_Host</th>\n",
       "      <th>Total Medals</th>\n",
       "    </tr>\n",
       "  </thead>\n",
       "  <tbody>\n",
       "    <tr>\n",
       "      <th>554</th>\n",
       "      <td>1976</td>\n",
       "      <td>Canada</td>\n",
       "      <td>Canada</td>\n",
       "      <td>14</td>\n",
       "      <td>0</td>\n",
       "      <td>9</td>\n",
       "      <td>1</td>\n",
       "      <td>23</td>\n",
       "    </tr>\n",
       "  </tbody>\n",
       "</table>\n",
       "</div>"
      ],
      "text/plain": [
       "Medal  Year Host_Country  region  Bronze  Gold  Silver  Is_Host  Total Medals\n",
       "554    1976       Canada  Canada      14     0       9        1            23"
      ]
     },
     "execution_count": 26,
     "metadata": {},
     "output_type": "execute_result"
    }
   ],
   "source": [
    "# performance of Canada for Summer Olympic\n",
    "Canada_df_summer = df_summer[df_summer['region'] =='Canada']\n",
    "Canada_df_summer_host = Canada_df_summer[(Canada_df_summer['region'] =='Canada') & (Canada_df_summer['Host_Country'] =='Canada')]\n",
    "Canada_df_summer_host.head()"
   ]
  },
  {
   "cell_type": "code",
   "execution_count": 27,
   "metadata": {},
   "outputs": [
    {
     "data": {
      "image/png": "[encoded data removed]",
      "text/plain": [
       "<Figure size 640x480 with 1 Axes>"
      ]
     },
     "metadata": {},
     "output_type": "display_data"
    }
   ],
   "source": [
    "# Plot for Medals by Years \n",
    "plt.plot(Canada_df_summer['Year'], Canada_df_summer['Total Medals'], c='blue')\n",
    "plt.scatter(Canada_df_summer_host['Year'], Canada_df_summer_host['Total Medals'], c='r', label='Medals Canada - hosted by Canada')\n",
    "\n",
    "# Title and Axis\n",
    "plt.title('Medals won by Canada in the Summer Olympic Games')\n",
    "plt.xlabel('Years')\n",
    "plt.ylabel('Medals')\n",
    "plt.legend()\n",
    "plt.show()"
   ]
  },
  {
   "cell_type": "code",
   "execution_count": 28,
   "metadata": {},
   "outputs": [
    {
     "data": {
      "image/png": "[encoded data removed]",
      "text/plain": [
       "<Figure size 1800x500 with 1 Axes>"
      ]
     },
     "metadata": {},
     "output_type": "display_data"
    }
   ],
   "source": [
    "temp = df_winter.query(\"region == 'Canada'\")\n",
    "\n",
    "\n",
    "fig, ax = plt.subplots(1, 1, figsize=(18, 5), facecolor='white')\n",
    "\n",
    "color = ['#B73832' if i == 1 else '#244747' for i in temp['Is_Host']]\n",
    "\n",
    "ax.bar(temp['Year'], temp['Total Medals'],width=3, color=color, ec='black')\n",
    "ax.set_facecolor('white')\n",
    "ax.grid(which='both', axis='y', zorder=5, color='gray', linestyle=':', dashes=(1,5))\n",
    "ax.set_axisbelow(True)\n",
    "\n",
    "for s in ['top', 'right']:\n",
    "    ax.spines[s].set_visible(False)\n",
    "\n",
    "Xstart, Xend = ax.get_xlim()\n",
    "Ystart, Yend = ax.get_ylim()\n",
    "\n",
    "ax.text(Xstart,Yend+40, 'Total Winter Olympic Medals for Canada', fontsize=15,fontweight='bold',color='blue')\n",
    "ax.text(Xstart,Yend+25, 'Hosting', fontsize=10,fontweight='bold',color='red')\n",
    "\n",
    "plt.show()"
   ]
  },
  {
   "cell_type": "code",
   "execution_count": 29,
   "metadata": {},
   "outputs": [
    {
     "data": {
      "text/html": [
       "<div>\n",
       "<style scoped>\n",
       "    .dataframe tbody tr th:only-of-type {\n",
       "        vertical-align: middle;\n",
       "    }\n",
       "\n",
       "    .dataframe tbody tr th {\n",
       "        vertical-align: top;\n",
       "    }\n",
       "\n",
       "    .dataframe thead th {\n",
       "        text-align: right;\n",
       "    }\n",
       "</style>\n",
       "<table border=\"1\" class=\"dataframe\">\n",
       "  <thead>\n",
       "    <tr style=\"text-align: right;\">\n",
       "      <th>Medal</th>\n",
       "      <th>Year</th>\n",
       "      <th>Host_Country</th>\n",
       "      <th>region</th>\n",
       "      <th>Bronze</th>\n",
       "      <th>Gold</th>\n",
       "      <th>Silver</th>\n",
       "      <th>Is_Host</th>\n",
       "      <th>Total Medals</th>\n",
       "    </tr>\n",
       "  </thead>\n",
       "  <tbody>\n",
       "    <tr>\n",
       "      <th>193</th>\n",
       "      <td>1988</td>\n",
       "      <td>Canada</td>\n",
       "      <td>Canada</td>\n",
       "      <td>4</td>\n",
       "      <td>0</td>\n",
       "      <td>2</td>\n",
       "      <td>1</td>\n",
       "      <td>6</td>\n",
       "    </tr>\n",
       "    <tr>\n",
       "      <th>327</th>\n",
       "      <td>2010</td>\n",
       "      <td>Canada</td>\n",
       "      <td>Canada</td>\n",
       "      <td>8</td>\n",
       "      <td>67</td>\n",
       "      <td>15</td>\n",
       "      <td>1</td>\n",
       "      <td>90</td>\n",
       "    </tr>\n",
       "  </tbody>\n",
       "</table>\n",
       "</div>"
      ],
      "text/plain": [
       "Medal  Year Host_Country  region  Bronze  Gold  Silver  Is_Host  Total Medals\n",
       "193    1988       Canada  Canada       4     0       2        1             6\n",
       "327    2010       Canada  Canada       8    67      15        1            90"
      ]
     },
     "execution_count": 29,
     "metadata": {},
     "output_type": "execute_result"
    }
   ],
   "source": [
    "# performance of Canada for Winter Olympic\n",
    "Canada_df_winter = df_winter[df_winter['region'] =='Canada']\n",
    "Canada_df_winter_host = Canada_df_winter[(Canada_df_winter['region'] =='Canada') & (Canada_df_winter['Host_Country'] =='Canada')]\n",
    "Canada_df_winter_host.head()"
   ]
  },
  {
   "cell_type": "code",
   "execution_count": 30,
   "metadata": {},
   "outputs": [
    {
     "data": {
      "image/png": "[encoded data removed]",
      "text/plain": [
       "<Figure size 640x480 with 1 Axes>"
      ]
     },
     "metadata": {},
     "output_type": "display_data"
    }
   ],
   "source": [
    "# Plot for Medals by Years \n",
    "plt.plot(Canada_df_winter['Year'], Canada_df_winter['Total Medals'], c='blue')\n",
    "plt.scatter(Canada_df_winter_host['Year'], Canada_df_winter_host['Total Medals'], c='r', label='Medals Canada - hosted by Canada')\n",
    "\n",
    "# Title and Axis\n",
    "plt.title('Medals won by Canada in the Winter Olympic Games')\n",
    "plt.xlabel('Years')\n",
    "plt.ylabel('Medals')\n",
    "plt.legend()\n",
    "plt.show()"
   ]
  },
  {
   "cell_type": "markdown",
   "metadata": {},
   "source": [
    "----\n",
    "### United Kingdom's performance at Olympic games"
   ]
  },
  {
   "cell_type": "markdown",
   "metadata": {},
   "source": [
    "----\n",
    "##### United Kingdom hosted 3 Summer Olympic game."
   ]
  },
  {
   "cell_type": "code",
   "execution_count": 31,
   "metadata": {},
   "outputs": [
    {
     "data": {
      "image/png": "[encoded data removed]",
      "text/plain": [
       "<Figure size 1800x500 with 1 Axes>"
      ]
     },
     "metadata": {},
     "output_type": "display_data"
    }
   ],
   "source": [
    "temp = df_summer.query(\"region == 'United Kingdom'\")\n",
    "\n",
    "\n",
    "fig, ax = plt.subplots(1, 1, figsize=(18, 5), facecolor='white')\n",
    "\n",
    "color = ['#B73832' if i == 1 else '#244747' for i in temp['Is_Host']]\n",
    "\n",
    "ax.bar(temp['Year'], temp['Total Medals'],width=3, color=color, ec='black')\n",
    "ax.set_facecolor('white')\n",
    "ax.grid(which='both', axis='y', zorder=5, color='gray', linestyle=':', dashes=(1,5))\n",
    "ax.set_axisbelow(True)\n",
    "\n",
    "for s in ['top', 'right']:\n",
    "    ax.spines[s].set_visible(False)\n",
    "\n",
    "Xstart, Xend = ax.get_xlim()\n",
    "Ystart, Yend = ax.get_ylim()\n",
    "\n",
    "ax.text(Xstart,Yend+50, 'Total Summer Olympic Medals for United Kingdom', fontsize=15,fontweight='bold',color='blue')\n",
    "ax.text(Xstart,Yend+25, 'Hosting', fontsize=10,fontweight='bold',color='#B73832')\n",
    "\n",
    "plt.show()"
   ]
  },
  {
   "cell_type": "code",
   "execution_count": 32,
   "metadata": {},
   "outputs": [
    {
     "data": {
      "text/html": [
       "<div>\n",
       "<style scoped>\n",
       "    .dataframe tbody tr th:only-of-type {\n",
       "        vertical-align: middle;\n",
       "    }\n",
       "\n",
       "    .dataframe tbody tr th {\n",
       "        vertical-align: top;\n",
       "    }\n",
       "\n",
       "    .dataframe thead th {\n",
       "        text-align: right;\n",
       "    }\n",
       "</style>\n",
       "<table border=\"1\" class=\"dataframe\">\n",
       "  <thead>\n",
       "    <tr style=\"text-align: right;\">\n",
       "      <th>Medal</th>\n",
       "      <th>Year</th>\n",
       "      <th>Host_Country</th>\n",
       "      <th>region</th>\n",
       "      <th>Bronze</th>\n",
       "      <th>Gold</th>\n",
       "      <th>Silver</th>\n",
       "      <th>Is_Host</th>\n",
       "      <th>Total Medals</th>\n",
       "    </tr>\n",
       "  </thead>\n",
       "  <tbody>\n",
       "    <tr>\n",
       "      <th>81</th>\n",
       "      <td>1908</td>\n",
       "      <td>United Kingdom</td>\n",
       "      <td>United Kingdom</td>\n",
       "      <td>90</td>\n",
       "      <td>147</td>\n",
       "      <td>131</td>\n",
       "      <td>1</td>\n",
       "      <td>368</td>\n",
       "    </tr>\n",
       "    <tr>\n",
       "      <th>284</th>\n",
       "      <td>1948</td>\n",
       "      <td>United Kingdom</td>\n",
       "      <td>United Kingdom</td>\n",
       "      <td>12</td>\n",
       "      <td>7</td>\n",
       "      <td>42</td>\n",
       "      <td>1</td>\n",
       "      <td>61</td>\n",
       "    </tr>\n",
       "    <tr>\n",
       "      <th>1181</th>\n",
       "      <td>2012</td>\n",
       "      <td>United Kingdom</td>\n",
       "      <td>United Kingdom</td>\n",
       "      <td>48</td>\n",
       "      <td>48</td>\n",
       "      <td>30</td>\n",
       "      <td>1</td>\n",
       "      <td>126</td>\n",
       "    </tr>\n",
       "  </tbody>\n",
       "</table>\n",
       "</div>"
      ],
      "text/plain": [
       "Medal  Year    Host_Country          region  Bronze  Gold  Silver  Is_Host  \\\n",
       "81     1908  United Kingdom  United Kingdom      90   147     131        1   \n",
       "284    1948  United Kingdom  United Kingdom      12     7      42        1   \n",
       "1181   2012  United Kingdom  United Kingdom      48    48      30        1   \n",
       "\n",
       "Medal  Total Medals  \n",
       "81              368  \n",
       "284              61  \n",
       "1181            126  "
      ]
     },
     "execution_count": 32,
     "metadata": {},
     "output_type": "execute_result"
    }
   ],
   "source": [
    "# performance of UK for Summer Olympic\n",
    "UK_df_summer = df_summer[df_summer['region'] =='United Kingdom']\n",
    "UK_df_summer_host = UK_df_summer[(UK_df_summer['region'] =='United Kingdom') & (UK_df_summer['Host_Country'] =='United Kingdom')]\n",
    "UK_df_summer_host.head()"
   ]
  },
  {
   "cell_type": "code",
   "execution_count": 33,
   "metadata": {},
   "outputs": [
    {
     "data": {
      "image/png": "[encoded data removed]",
      "text/plain": [
       "<Figure size 640x480 with 1 Axes>"
      ]
     },
     "metadata": {},
     "output_type": "display_data"
    }
   ],
   "source": [
    "# Plot for Medals by Years \n",
    "plt.plot(UK_df_summer['Year'], UK_df_summer['Total Medals'], c='blue')\n",
    "plt.scatter(UK_df_summer_host['Year'], UK_df_summer_host['Total Medals'], c='r', label='Medals UK - hosted by UK')\n",
    "\n",
    "# Title and Axis\n",
    "plt.title('Medals won by UK in the Summer Olympic Games')\n",
    "plt.xlabel('Years')\n",
    "plt.ylabel('Medals')\n",
    "plt.legend()\n",
    "plt.show()"
   ]
  },
  {
   "cell_type": "code",
   "execution_count": 34,
   "metadata": {},
   "outputs": [
    {
     "data": {
      "image/png": "[encoded data removed]",
      "text/plain": [
       "<Figure size 1800x500 with 1 Axes>"
      ]
     },
     "metadata": {},
     "output_type": "display_data"
    }
   ],
   "source": [
    "temp = df_winter.query(\"region == 'United Kingdom'\")\n",
    "\n",
    "\n",
    "fig, ax = plt.subplots(1, 1, figsize=(18, 5), facecolor='white')\n",
    "\n",
    "color = ['#B73832' if i == 1 else '#244747' for i in temp['Is_Host']]\n",
    "\n",
    "ax.bar(temp['Year'], temp['Total Medals'],width=3, color=color, ec='black')\n",
    "ax.set_facecolor('white')\n",
    "ax.grid(which='both', axis='y', zorder=5, color='gray', linestyle=':', dashes=(1,1))\n",
    "ax.set_axisbelow(True)\n",
    "\n",
    "for s in ['top', 'right']:\n",
    "    ax.spines[s].set_visible(False)\n",
    "\n",
    "Xstart, Xend = ax.get_xlim()\n",
    "Ystart, Yend = ax.get_ylim()\n",
    "\n",
    "ax.text(Xstart,Yend+15, 'Total Winter Olympic Medals for United Kingdom', fontsize=15,fontweight='bold',color='blue')\n",
    "ax.text(Xstart,Yend+20, 'Hosting', fontsize=10,fontweight='bold',color='red')\n",
    "\n",
    "plt.show()"
   ]
  },
  {
   "cell_type": "code",
   "execution_count": 35,
   "metadata": {},
   "outputs": [
    {
     "data": {
      "text/html": [
       "<div>\n",
       "<style scoped>\n",
       "    .dataframe tbody tr th:only-of-type {\n",
       "        vertical-align: middle;\n",
       "    }\n",
       "\n",
       "    .dataframe tbody tr th {\n",
       "        vertical-align: top;\n",
       "    }\n",
       "\n",
       "    .dataframe thead th {\n",
       "        text-align: right;\n",
       "    }\n",
       "</style>\n",
       "<table border=\"1\" class=\"dataframe\">\n",
       "  <thead>\n",
       "    <tr style=\"text-align: right;\">\n",
       "      <th>Medal</th>\n",
       "      <th>Year</th>\n",
       "      <th>Host_Country</th>\n",
       "      <th>region</th>\n",
       "      <th>Bronze</th>\n",
       "      <th>Gold</th>\n",
       "      <th>Silver</th>\n",
       "      <th>Is_Host</th>\n",
       "      <th>Total Medals</th>\n",
       "    </tr>\n",
       "  </thead>\n",
       "  <tbody>\n",
       "  </tbody>\n",
       "</table>\n",
       "</div>"
      ],
      "text/plain": [
       "Empty DataFrame\n",
       "Columns: [Year, Host_Country, region, Bronze, Gold, Silver, Is_Host, Total Medals]\n",
       "Index: []"
      ]
     },
     "execution_count": 35,
     "metadata": {},
     "output_type": "execute_result"
    }
   ],
   "source": [
    "# performance of UK for Winter Olympic, and it didn't host any winter Olympic game\n",
    "UK_df_winter = df_winter[df_winter['region'] =='United Kingdom']\n",
    "UK_df_winter_host = UK_df_winter[(UK_df_winter['region'] =='United Kingdom') & (UK_df_winter['Host_Country'] =='United Kingdom')]\n",
    "UK_df_winter_host.head()"
   ]
  },
  {
   "cell_type": "code",
   "execution_count": 36,
   "metadata": {},
   "outputs": [
    {
     "data": {
      "image/png": "[encoded data removed]",
      "text/plain": [
       "<Figure size 640x480 with 1 Axes>"
      ]
     },
     "metadata": {},
     "output_type": "display_data"
    }
   ],
   "source": [
    "# Plot for Medals by Years \n",
    "plt.plot(UK_df_winter['Year'], UK_df_winter['Total Medals'], c='blue')\n",
    "plt.scatter(UK_df_winter_host['Year'], UK_df_winter_host['Total Medals'], c='r', label='Medals UK - hosted by UK')\n",
    "\n",
    "# Title and Axis\n",
    "plt.title('Medals won by UK in the Winter Olympic Games')\n",
    "plt.xlabel('Years')\n",
    "plt.ylabel('Medals')\n",
    "plt.legend()\n",
    "plt.show()"
   ]
  },
  {
   "cell_type": "markdown",
   "metadata": {},
   "source": [
    "----\n",
    "## MEDAL WON BY EACH COUNTRY"
   ]
  },
  {
   "cell_type": "code",
   "execution_count": 37,
   "metadata": {},
   "outputs": [
    {
     "data": {
      "text/html": [
       "<div>\n",
       "<style scoped>\n",
       "    .dataframe tbody tr th:only-of-type {\n",
       "        vertical-align: middle;\n",
       "    }\n",
       "\n",
       "    .dataframe tbody tr th {\n",
       "        vertical-align: top;\n",
       "    }\n",
       "\n",
       "    .dataframe thead th {\n",
       "        text-align: right;\n",
       "    }\n",
       "</style>\n",
       "<table border=\"1\" class=\"dataframe\">\n",
       "  <thead>\n",
       "    <tr style=\"text-align: right;\">\n",
       "      <th></th>\n",
       "      <th>Host_Country</th>\n",
       "      <th>Year</th>\n",
       "      <th>region</th>\n",
       "      <th>Medal_Count</th>\n",
       "    </tr>\n",
       "  </thead>\n",
       "  <tbody>\n",
       "    <tr>\n",
       "      <th>534</th>\n",
       "      <td>Greece</td>\n",
       "      <td>1896</td>\n",
       "      <td>United Kingdom</td>\n",
       "      <td>9</td>\n",
       "    </tr>\n",
       "    <tr>\n",
       "      <th>533</th>\n",
       "      <td>Greece</td>\n",
       "      <td>1896</td>\n",
       "      <td>Switzerland</td>\n",
       "      <td>3</td>\n",
       "    </tr>\n",
       "    <tr>\n",
       "      <th>526</th>\n",
       "      <td>Greece</td>\n",
       "      <td>1896</td>\n",
       "      <td>Australia</td>\n",
       "      <td>3</td>\n",
       "    </tr>\n",
       "    <tr>\n",
       "      <th>527</th>\n",
       "      <td>Greece</td>\n",
       "      <td>1896</td>\n",
       "      <td>Austria</td>\n",
       "      <td>5</td>\n",
       "    </tr>\n",
       "    <tr>\n",
       "      <th>528</th>\n",
       "      <td>Greece</td>\n",
       "      <td>1896</td>\n",
       "      <td>Denmark</td>\n",
       "      <td>6</td>\n",
       "    </tr>\n",
       "  </tbody>\n",
       "</table>\n",
       "</div>"
      ],
      "text/plain": [
       "    Host_Country  Year          region  Medal_Count\n",
       "534       Greece  1896  United Kingdom            9\n",
       "533       Greece  1896     Switzerland            3\n",
       "526       Greece  1896       Australia            3\n",
       "527       Greece  1896         Austria            5\n",
       "528       Greece  1896         Denmark            6"
      ]
     },
     "execution_count": 37,
     "metadata": {},
     "output_type": "execute_result"
    }
   ],
   "source": [
    "# Medal Winners for Summer games\n",
    "athelete_df_summer = athelete_df[(athelete_df['Medal']!='DNW') & (athelete_df['Season']=='Summer')]\n",
    "athelete_df_summer = athelete_df_summer.groupby(['Host_Country','Year','region'])['Medal'].count().reset_index(name='Medal_Count')\n",
    "athelete_df_summer = athelete_df_summer.sort_values('Year')\n",
    "athelete_df_summer.head()"
   ]
  },
  {
   "cell_type": "code",
   "execution_count": 38,
   "metadata": {},
   "outputs": [
    {
     "data": {
      "text/html": [
       "<div>\n",
       "<style scoped>\n",
       "    .dataframe tbody tr th:only-of-type {\n",
       "        vertical-align: middle;\n",
       "    }\n",
       "\n",
       "    .dataframe tbody tr th {\n",
       "        vertical-align: top;\n",
       "    }\n",
       "\n",
       "    .dataframe thead th {\n",
       "        text-align: right;\n",
       "    }\n",
       "</style>\n",
       "<table border=\"1\" class=\"dataframe\">\n",
       "  <thead>\n",
       "    <tr style=\"text-align: right;\">\n",
       "      <th></th>\n",
       "      <th>Host_Country</th>\n",
       "      <th>Year</th>\n",
       "      <th>region</th>\n",
       "      <th>Medal_Count</th>\n",
       "    </tr>\n",
       "  </thead>\n",
       "  <tbody>\n",
       "    <tr>\n",
       "      <th>72</th>\n",
       "      <td>France</td>\n",
       "      <td>1924</td>\n",
       "      <td>Austria</td>\n",
       "      <td>4</td>\n",
       "    </tr>\n",
       "    <tr>\n",
       "      <th>73</th>\n",
       "      <td>France</td>\n",
       "      <td>1924</td>\n",
       "      <td>Belgium</td>\n",
       "      <td>5</td>\n",
       "    </tr>\n",
       "    <tr>\n",
       "      <th>71</th>\n",
       "      <td>France</td>\n",
       "      <td>1924</td>\n",
       "      <td>Australia</td>\n",
       "      <td>1</td>\n",
       "    </tr>\n",
       "    <tr>\n",
       "      <th>79</th>\n",
       "      <td>France</td>\n",
       "      <td>1924</td>\n",
       "      <td>Norway</td>\n",
       "      <td>17</td>\n",
       "    </tr>\n",
       "    <tr>\n",
       "      <th>80</th>\n",
       "      <td>France</td>\n",
       "      <td>1924</td>\n",
       "      <td>Sweden</td>\n",
       "      <td>9</td>\n",
       "    </tr>\n",
       "    <tr>\n",
       "      <th>...</th>\n",
       "      <td>...</td>\n",
       "      <td>...</td>\n",
       "      <td>...</td>\n",
       "      <td>...</td>\n",
       "    </tr>\n",
       "    <tr>\n",
       "      <th>283</th>\n",
       "      <td>Russia</td>\n",
       "      <td>2014</td>\n",
       "      <td>United Kingdom</td>\n",
       "      <td>10</td>\n",
       "    </tr>\n",
       "    <tr>\n",
       "      <th>282</th>\n",
       "      <td>Russia</td>\n",
       "      <td>2014</td>\n",
       "      <td>Ukraine</td>\n",
       "      <td>5</td>\n",
       "    </tr>\n",
       "    <tr>\n",
       "      <th>281</th>\n",
       "      <td>Russia</td>\n",
       "      <td>2014</td>\n",
       "      <td>Switzerland</td>\n",
       "      <td>30</td>\n",
       "    </tr>\n",
       "    <tr>\n",
       "      <th>271</th>\n",
       "      <td>Russia</td>\n",
       "      <td>2014</td>\n",
       "      <td>Kazakhstan</td>\n",
       "      <td>1</td>\n",
       "    </tr>\n",
       "    <tr>\n",
       "      <th>284</th>\n",
       "      <td>Russia</td>\n",
       "      <td>2014</td>\n",
       "      <td>United States of America</td>\n",
       "      <td>64</td>\n",
       "    </tr>\n",
       "  </tbody>\n",
       "</table>\n",
       "<p>376 rows × 4 columns</p>\n",
       "</div>"
      ],
      "text/plain": [
       "    Host_Country  Year                    region  Medal_Count\n",
       "72        France  1924                   Austria            4\n",
       "73        France  1924                   Belgium            5\n",
       "71        France  1924                 Australia            1\n",
       "79        France  1924                    Norway           17\n",
       "80        France  1924                    Sweden            9\n",
       "..           ...   ...                       ...          ...\n",
       "283       Russia  2014            United Kingdom           10\n",
       "282       Russia  2014                   Ukraine            5\n",
       "281       Russia  2014               Switzerland           30\n",
       "271       Russia  2014                Kazakhstan            1\n",
       "284       Russia  2014  United States of America           64\n",
       "\n",
       "[376 rows x 4 columns]"
      ]
     },
     "execution_count": 38,
     "metadata": {},
     "output_type": "execute_result"
    }
   ],
   "source": [
    "#Medal Winners for Winter games\n",
    "athelete_df_winter = athelete_df[(athelete_df['Medal']!='DNW') & (athelete_df['Season']=='Winter')]\n",
    "athelete_df_winter = athelete_df_winter.groupby(['Host_Country','Year','region'])['Medal'].count().reset_index(name='Medal_Count')\n",
    "athelete_df_winter = athelete_df_winter.sort_values('Year')\n",
    "athelete_df_winter"
   ]
  },
  {
   "cell_type": "code",
   "execution_count": 39,
   "metadata": {},
   "outputs": [
    {
     "data": {
      "text/html": [
       "<div>\n",
       "<style scoped>\n",
       "    .dataframe tbody tr th:only-of-type {\n",
       "        vertical-align: middle;\n",
       "    }\n",
       "\n",
       "    .dataframe tbody tr th {\n",
       "        vertical-align: top;\n",
       "    }\n",
       "\n",
       "    .dataframe thead th {\n",
       "        text-align: right;\n",
       "    }\n",
       "</style>\n",
       "<table border=\"1\" class=\"dataframe\">\n",
       "  <thead>\n",
       "    <tr style=\"text-align: right;\">\n",
       "      <th></th>\n",
       "      <th>Host_Country</th>\n",
       "      <th>Year</th>\n",
       "      <th>region</th>\n",
       "      <th>Medal_Count</th>\n",
       "    </tr>\n",
       "  </thead>\n",
       "  <tbody>\n",
       "    <tr>\n",
       "      <th>0</th>\n",
       "      <td>Australia</td>\n",
       "      <td>1956</td>\n",
       "      <td>Afghanistan</td>\n",
       "      <td>12</td>\n",
       "    </tr>\n",
       "    <tr>\n",
       "      <th>1</th>\n",
       "      <td>Australia</td>\n",
       "      <td>1956</td>\n",
       "      <td>Argentina</td>\n",
       "      <td>31</td>\n",
       "    </tr>\n",
       "    <tr>\n",
       "      <th>2</th>\n",
       "      <td>Australia</td>\n",
       "      <td>1956</td>\n",
       "      <td>Australia</td>\n",
       "      <td>405</td>\n",
       "    </tr>\n",
       "    <tr>\n",
       "      <th>3</th>\n",
       "      <td>Australia</td>\n",
       "      <td>1956</td>\n",
       "      <td>Austria</td>\n",
       "      <td>49</td>\n",
       "    </tr>\n",
       "    <tr>\n",
       "      <th>4</th>\n",
       "      <td>Australia</td>\n",
       "      <td>1956</td>\n",
       "      <td>Bahamas</td>\n",
       "      <td>5</td>\n",
       "    </tr>\n",
       "  </tbody>\n",
       "</table>\n",
       "</div>"
      ],
      "text/plain": [
       "  Host_Country  Year       region  Medal_Count\n",
       "0    Australia  1956  Afghanistan           12\n",
       "1    Australia  1956    Argentina           31\n",
       "2    Australia  1956    Australia          405\n",
       "3    Australia  1956      Austria           49\n",
       "4    Australia  1956      Bahamas            5"
      ]
     },
     "execution_count": 39,
     "metadata": {},
     "output_type": "execute_result"
    }
   ],
   "source": [
    "host_country_df = athelete_df.groupby(['Host_Country','Year','region'])['Medal'].count().reset_index(name='Medal_Count')\n",
    "host_country_df.head(5)"
   ]
  },
  {
   "cell_type": "code",
   "execution_count": 40,
   "metadata": {},
   "outputs": [],
   "source": [
    "host_country_medals_df = host_country_df[host_country_df['Host_Country']==host_country_df['region']]\n",
    "host_country_df_sorted = host_country_df.sort_values(by='Medal_Count', ascending=False)\n",
    "host_country_medals_df_sorted = host_country_medals_df.sort_values(by='Medal_Count', ascending=False)"
   ]
  },
  {
   "cell_type": "code",
   "execution_count": 41,
   "metadata": {},
   "outputs": [
    {
     "data": {
      "text/html": [
       "<div>\n",
       "<style scoped>\n",
       "    .dataframe tbody tr th:only-of-type {\n",
       "        vertical-align: middle;\n",
       "    }\n",
       "\n",
       "    .dataframe tbody tr th {\n",
       "        vertical-align: top;\n",
       "    }\n",
       "\n",
       "    .dataframe thead th {\n",
       "        text-align: right;\n",
       "    }\n",
       "</style>\n",
       "<table border=\"1\" class=\"dataframe\">\n",
       "  <thead>\n",
       "    <tr style=\"text-align: right;\">\n",
       "      <th></th>\n",
       "      <th>Host_Country</th>\n",
       "      <th>Year</th>\n",
       "      <th>region</th>\n",
       "      <th>Medal_Count</th>\n",
       "    </tr>\n",
       "  </thead>\n",
       "  <tbody>\n",
       "    <tr>\n",
       "      <th>3225</th>\n",
       "      <td>United States of America</td>\n",
       "      <td>1904</td>\n",
       "      <td>United States of America</td>\n",
       "      <td>1109</td>\n",
       "    </tr>\n",
       "    <tr>\n",
       "      <th>1071</th>\n",
       "      <td>France</td>\n",
       "      <td>1900</td>\n",
       "      <td>France</td>\n",
       "      <td>1071</td>\n",
       "    </tr>\n",
       "    <tr>\n",
       "      <th>1325</th>\n",
       "      <td>Germany</td>\n",
       "      <td>1972</td>\n",
       "      <td>Germany</td>\n",
       "      <td>1041</td>\n",
       "    </tr>\n",
       "    <tr>\n",
       "      <th>2950</th>\n",
       "      <td>United Kingdom</td>\n",
       "      <td>1908</td>\n",
       "      <td>United Kingdom</td>\n",
       "      <td>972</td>\n",
       "    </tr>\n",
       "    <tr>\n",
       "      <th>3661</th>\n",
       "      <td>United States of America</td>\n",
       "      <td>1996</td>\n",
       "      <td>United States of America</td>\n",
       "      <td>839</td>\n",
       "    </tr>\n",
       "  </tbody>\n",
       "</table>\n",
       "</div>"
      ],
      "text/plain": [
       "                  Host_Country  Year                    region  Medal_Count\n",
       "3225  United States of America  1904  United States of America         1109\n",
       "1071                    France  1900                    France         1071\n",
       "1325                   Germany  1972                   Germany         1041\n",
       "2950            United Kingdom  1908            United Kingdom          972\n",
       "3661  United States of America  1996  United States of America          839"
      ]
     },
     "execution_count": 41,
     "metadata": {},
     "output_type": "execute_result"
    }
   ],
   "source": [
    "host_country_medals_df_sorted.head(5)"
   ]
  },
  {
   "cell_type": "code",
   "execution_count": 42,
   "metadata": {},
   "outputs": [
    {
     "data": {
      "text/html": [
       "<div>\n",
       "<style scoped>\n",
       "    .dataframe tbody tr th:only-of-type {\n",
       "        vertical-align: middle;\n",
       "    }\n",
       "\n",
       "    .dataframe tbody tr th {\n",
       "        vertical-align: top;\n",
       "    }\n",
       "\n",
       "    .dataframe thead th {\n",
       "        text-align: right;\n",
       "    }\n",
       "</style>\n",
       "<table border=\"1\" class=\"dataframe\">\n",
       "  <thead>\n",
       "    <tr style=\"text-align: right;\">\n",
       "      <th></th>\n",
       "      <th>Host_Country</th>\n",
       "      <th>Year</th>\n",
       "      <th>region</th>\n",
       "      <th>Medal_Count</th>\n",
       "    </tr>\n",
       "  </thead>\n",
       "  <tbody>\n",
       "    <tr>\n",
       "      <th>2</th>\n",
       "      <td>Australia</td>\n",
       "      <td>1956</td>\n",
       "      <td>Australia</td>\n",
       "      <td>405</td>\n",
       "    </tr>\n",
       "    <tr>\n",
       "      <th>74</th>\n",
       "      <td>Australia</td>\n",
       "      <td>2000</td>\n",
       "      <td>Australia</td>\n",
       "      <td>788</td>\n",
       "    </tr>\n",
       "    <tr>\n",
       "      <th>265</th>\n",
       "      <td>Austria</td>\n",
       "      <td>1964</td>\n",
       "      <td>Austria</td>\n",
       "      <td>116</td>\n",
       "    </tr>\n",
       "    <tr>\n",
       "      <th>302</th>\n",
       "      <td>Austria</td>\n",
       "      <td>1976</td>\n",
       "      <td>Austria</td>\n",
       "      <td>116</td>\n",
       "    </tr>\n",
       "    <tr>\n",
       "      <th>337</th>\n",
       "      <td>Belgium</td>\n",
       "      <td>1920</td>\n",
       "      <td>Belgium</td>\n",
       "      <td>518</td>\n",
       "    </tr>\n",
       "  </tbody>\n",
       "</table>\n",
       "</div>"
      ],
      "text/plain": [
       "    Host_Country  Year     region  Medal_Count\n",
       "2      Australia  1956  Australia          405\n",
       "74     Australia  2000  Australia          788\n",
       "265      Austria  1964    Austria          116\n",
       "302      Austria  1976    Austria          116\n",
       "337      Belgium  1920    Belgium          518"
      ]
     },
     "execution_count": 42,
     "metadata": {},
     "output_type": "execute_result"
    }
   ],
   "source": [
    "host_country_medals_df.head(5)"
   ]
  },
  {
   "cell_type": "code",
   "execution_count": 43,
   "metadata": {},
   "outputs": [
    {
     "data": {
      "text/html": [
       "<div>\n",
       "<style scoped>\n",
       "    .dataframe tbody tr th:only-of-type {\n",
       "        vertical-align: middle;\n",
       "    }\n",
       "\n",
       "    .dataframe tbody tr th {\n",
       "        vertical-align: top;\n",
       "    }\n",
       "\n",
       "    .dataframe thead th {\n",
       "        text-align: right;\n",
       "    }\n",
       "</style>\n",
       "<table border=\"1\" class=\"dataframe\">\n",
       "  <thead>\n",
       "    <tr style=\"text-align: right;\">\n",
       "      <th></th>\n",
       "      <th>Host_Country_x</th>\n",
       "      <th>Year_x</th>\n",
       "      <th>region</th>\n",
       "      <th>Medal_Count_x</th>\n",
       "      <th>Host_Country_y</th>\n",
       "      <th>Year_y</th>\n",
       "      <th>Medal_Count_y</th>\n",
       "    </tr>\n",
       "  </thead>\n",
       "  <tbody>\n",
       "    <tr>\n",
       "      <th>1940</th>\n",
       "      <td>United States of America</td>\n",
       "      <td>1904</td>\n",
       "      <td>United States of America</td>\n",
       "      <td>1109</td>\n",
       "      <td>United States of America</td>\n",
       "      <td>1932</td>\n",
       "      <td>813</td>\n",
       "    </tr>\n",
       "    <tr>\n",
       "      <th>1939</th>\n",
       "      <td>United States of America</td>\n",
       "      <td>1904</td>\n",
       "      <td>United States of America</td>\n",
       "      <td>1109</td>\n",
       "      <td>United States of America</td>\n",
       "      <td>1904</td>\n",
       "      <td>1109</td>\n",
       "    </tr>\n",
       "    <tr>\n",
       "      <th>1941</th>\n",
       "      <td>United States of America</td>\n",
       "      <td>1904</td>\n",
       "      <td>United States of America</td>\n",
       "      <td>1109</td>\n",
       "      <td>United States of America</td>\n",
       "      <td>1960</td>\n",
       "      <td>105</td>\n",
       "    </tr>\n",
       "    <tr>\n",
       "      <th>1942</th>\n",
       "      <td>United States of America</td>\n",
       "      <td>1904</td>\n",
       "      <td>United States of America</td>\n",
       "      <td>1109</td>\n",
       "      <td>United States of America</td>\n",
       "      <td>1980</td>\n",
       "      <td>155</td>\n",
       "    </tr>\n",
       "    <tr>\n",
       "      <th>1943</th>\n",
       "      <td>United States of America</td>\n",
       "      <td>1904</td>\n",
       "      <td>United States of America</td>\n",
       "      <td>1109</td>\n",
       "      <td>United States of America</td>\n",
       "      <td>1984</td>\n",
       "      <td>693</td>\n",
       "    </tr>\n",
       "  </tbody>\n",
       "</table>\n",
       "</div>"
      ],
      "text/plain": [
       "                Host_Country_x  Year_x                    region  \\\n",
       "1940  United States of America    1904  United States of America   \n",
       "1939  United States of America    1904  United States of America   \n",
       "1941  United States of America    1904  United States of America   \n",
       "1942  United States of America    1904  United States of America   \n",
       "1943  United States of America    1904  United States of America   \n",
       "\n",
       "      Medal_Count_x            Host_Country_y  Year_y  Medal_Count_y  \n",
       "1940           1109  United States of America    1932            813  \n",
       "1939           1109  United States of America    1904           1109  \n",
       "1941           1109  United States of America    1960            105  \n",
       "1942           1109  United States of America    1980            155  \n",
       "1943           1109  United States of America    1984            693  "
      ]
     },
     "execution_count": 43,
     "metadata": {},
     "output_type": "execute_result"
    }
   ],
   "source": [
    "hosting_countries_df=pd.merge(host_country_df,host_country_medals_df, on=['region'], how='inner')\n",
    "hosting_countries_df_sorted=hosting_countries_df.sort_values(by='Medal_Count_x', ascending=False)\n",
    "hosting_countries_df_sorted.head(5)"
   ]
  },
  {
   "cell_type": "code",
   "execution_count": 44,
   "metadata": {},
   "outputs": [
    {
     "data": {
      "image/png": "[encoded data removed]",
      "text/plain": [
       "<Figure size 1200x600 with 1 Axes>"
      ]
     },
     "metadata": {},
     "output_type": "display_data"
    }
   ],
   "source": [
    "plt.figure(figsize=(12, 6))\n",
    "plt.scatter(hosting_countries_df_sorted['region'], hosting_countries_df_sorted['Medal_Count_x'], c='g',alpha=0.5, label='Medals earned')\n",
    "plt.scatter(host_country_medals_df_sorted['region'], host_country_medals_df_sorted['Medal_Count'], c='r',alpha=1.0, label='Medals earned as host')\n",
    "plt.title('Medals won by countries in the Olympic Games')\n",
    "plt.xlabel('Country')\n",
    "plt.ylabel('# of Medals')\n",
    "plt.xticks(rotation='vertical')\n",
    "plt.legend()\n",
    "plt.show()"
   ]
  },
  {
   "cell_type": "markdown",
   "metadata": {},
   "source": [
    "----\n",
    "## COUNTRIES THAT WON GOLD AND MAP VISUALIZATION"
   ]
  },
  {
   "cell_type": "code",
   "execution_count": 45,
   "metadata": {},
   "outputs": [
    {
     "data": {
      "text/html": [
       "<div>\n",
       "<style scoped>\n",
       "    .dataframe tbody tr th:only-of-type {\n",
       "        vertical-align: middle;\n",
       "    }\n",
       "\n",
       "    .dataframe tbody tr th {\n",
       "        vertical-align: top;\n",
       "    }\n",
       "\n",
       "    .dataframe thead th {\n",
       "        text-align: right;\n",
       "    }\n",
       "</style>\n",
       "<table border=\"1\" class=\"dataframe\">\n",
       "  <thead>\n",
       "    <tr style=\"text-align: right;\">\n",
       "      <th></th>\n",
       "      <th>region</th>\n",
       "      <th>Gold Count</th>\n",
       "    </tr>\n",
       "  </thead>\n",
       "  <tbody>\n",
       "    <tr>\n",
       "      <th>0</th>\n",
       "      <td>Algeria</td>\n",
       "      <td>5</td>\n",
       "    </tr>\n",
       "    <tr>\n",
       "      <th>1</th>\n",
       "      <td>Argentina</td>\n",
       "      <td>91</td>\n",
       "    </tr>\n",
       "    <tr>\n",
       "      <th>2</th>\n",
       "      <td>Armenia</td>\n",
       "      <td>2</td>\n",
       "    </tr>\n",
       "    <tr>\n",
       "      <th>3</th>\n",
       "      <td>Australia</td>\n",
       "      <td>368</td>\n",
       "    </tr>\n",
       "    <tr>\n",
       "      <th>4</th>\n",
       "      <td>Austria</td>\n",
       "      <td>108</td>\n",
       "    </tr>\n",
       "  </tbody>\n",
       "</table>\n",
       "</div>"
      ],
      "text/plain": [
       "      region  Gold Count\n",
       "0    Algeria           5\n",
       "1  Argentina          91\n",
       "2    Armenia           2\n",
       "3  Australia         368\n",
       "4    Austria         108"
      ]
     },
     "execution_count": 45,
     "metadata": {},
     "output_type": "execute_result"
    }
   ],
   "source": [
    "df = athelete_df[athelete_df['Medal']=='Gold']\n",
    "df2 = df.groupby(['region'])['Medal'].count().reset_index(name='Gold Count')\n",
    "df2.head()"
   ]
  },
  {
   "cell_type": "code",
   "execution_count": 46,
   "metadata": {},
   "outputs": [
    {
     "name": "stderr",
     "output_type": "stream",
     "text": [
      "/var/folders/bb/58xtq6zd03z6j840hj_gdn9h0000gn/T/ipykernel_95743/3990371491.py:1: FutureWarning: The geopandas.dataset module is deprecated and will be removed in GeoPandas 1.0. You can get the original 'naturalearth_lowres' data from https://www.naturalearthdata.com/downloads/110m-cultural-vectors/.\n",
      "  world = gpd.read_file(gpd.datasets.get_path('naturalearth_lowres'))\n"
     ]
    },
    {
     "data": {
      "application/vnd.plotly.v1+json": {
       "config": {
        "plotlyServerURL": "https://plot.ly"
       },
       "data": [
        {
         "coloraxis": "coloraxis",
         "customdata": [
          [
           5
          ],
          [
           91
          ],
          [
           2
          ],
          [
           368
          ],
          [
           108
          ],
          [
           7
          ],
          [
           14
          ],
          [
           1
          ],
          [
           24
          ],
          [
           98
          ],
          [
           109
          ],
          [
           54
          ],
          [
           1
          ],
          [
           20
          ],
          [
           463
          ],
          [
           3
          ],
          [
           351
          ],
          [
           5
          ],
          [
           1
          ],
          [
           58
          ],
          [
           164
          ],
          [
           123
          ],
          [
           179
          ],
          [
           3
          ],
          [
           1
          ],
          [
           7
          ],
          [
           13
          ],
          [
           22
          ],
          [
           13
          ],
          [
           198
          ],
          [
           501
          ],
          [
           8
          ],
          [
           1301
          ],
          [
           62
          ],
          [
           1
          ],
          [
           1
          ],
          [
           432
          ],
          [
           138
          ],
          [
           1
          ],
          [
           11
          ],
          [
           18
          ],
          [
           9
          ],
          [
           1
          ],
          [
           575
          ],
          [
           1
          ],
          [
           38
          ],
          [
           247
          ],
          [
           1
          ],
          [
           20
          ],
          [
           34
          ],
          [
           1
          ],
          [
           3
          ],
          [
           2
          ],
          [
           6
          ],
          [
           4
          ],
          [
           30
          ],
          [
           2
          ],
          [
           6
          ],
          [
           1
          ],
          [
           1
          ],
          [
           287
          ],
          [
           90
          ],
          [
           23
          ],
          [
           16
          ],
          [
           378
          ],
          [
           42
          ],
          [
           1
          ],
          [
           1
          ],
          [
           117
          ],
          [
           4
          ],
          [
           1
          ],
          [
           157
          ],
          [
           161
          ],
          [
           1599
          ],
          [
           15
          ],
          [
           8
          ],
          [
           32
          ],
          [
           221
          ],
          [
           110
          ],
          [
           1
          ],
          [
           479
          ],
          [
           175
          ],
          [
           1
          ],
          [
           3
          ],
          [
           1
          ],
          [
           9
          ],
          [
           7
          ],
          [
           3
          ],
          [
           40
          ],
          [
           2
          ],
          [
           47
          ],
          [
           1
          ],
          [
           678
          ],
          [
           2638
          ],
          [
           31
          ],
          [
           10
          ],
          [
           2
          ],
          [
           1
          ],
          [
           17
          ]
         ],
         "geo": "geo",
         "hoverinfo": "all",
         "hovertemplate": "Country: %{hovertext}<br>Data: %{customdata[0]}",
         "hovertext": [
          "Algeria",
          "Argentina",
          "Armenia",
          "Australia",
          "Austria",
          "Azerbaijan",
          "Bahamas",
          "Bahrain",
          "Belarus",
          "Belgium",
          "Brazil",
          "Bulgaria",
          "Burundi",
          "Cameroon",
          "Canada",
          "Chile",
          "China",
          "Colombia",
          "Costa Rica",
          "Croatia",
          "Cuba",
          "Czech Republic",
          "Denmark",
          "Dominican Republic",
          "Ecuador",
          "Egypt",
          "Estonia",
          "Ethiopia",
          "Fiji",
          "Finland",
          "France",
          "Georgia",
          "Germany",
          "Greece",
          "Grenada",
          "Haiti",
          "Hungary",
          "India",
          "Individual Olympic Athletes",
          "Indonesia",
          "Iran",
          "Ireland",
          "Israel",
          "Italy",
          "Ivory Coast",
          "Jamaica",
          "Japan",
          "Jordan",
          "Kazakhstan",
          "Kenya",
          "Kosovo",
          "Latvia",
          "Liechtenstein",
          "Lithuania",
          "Luxembourg",
          "Mexico",
          "Mongolia",
          "Morocco",
          "Mozambique",
          "Nepal",
          "Netherlands",
          "New Zealand",
          "Nigeria",
          "North Korea",
          "Norway",
          "Pakistan",
          "Panama",
          "Peru",
          "Poland",
          "Portugal",
          "Puerto Rico",
          "Republic of Serbia",
          "Romania",
          "Russia",
          "Slovakia",
          "Slovenia",
          "South Africa",
          "South Korea",
          "Spain",
          "Suriname",
          "Sweden",
          "Switzerland",
          "Syria",
          "Taiwan",
          "Tajikistan",
          "Thailand",
          "Trinidad",
          "Tunisia",
          "Turkey",
          "Uganda",
          "Ukraine",
          "United Arab Emirates",
          "United Kingdom",
          "United States of America",
          "Uruguay",
          "Uzbekistan",
          "Venezuela",
          "Vietnam",
          "Zimbabwe"
         ],
         "locations": [
          "DZA",
          "ARG",
          "ARM",
          "AUS",
          "AUT",
          "AZE",
          "BHS",
          null,
          "BLR",
          "BEL",
          "BRA",
          "BGR",
          "BDI",
          "CMR",
          "CAN",
          "CHL",
          "CHN",
          "COL",
          "CRI",
          "HRV",
          "CUB",
          null,
          "DNK",
          null,
          "ECU",
          "EGY",
          "EST",
          "ETH",
          "FJI",
          "FIN",
          "FRA",
          "GEO",
          "DEU",
          "GRC",
          null,
          "HTI",
          "HUN",
          "IND",
          null,
          "IDN",
          "IRN",
          "IRL",
          "ISR",
          "ITA",
          null,
          "JAM",
          "JPN",
          "JOR",
          "KAZ",
          "KEN",
          "-99",
          "LVA",
          null,
          "LTU",
          "LUX",
          "MEX",
          "MNG",
          "MAR",
          "MOZ",
          "NPL",
          "NLD",
          "NZL",
          "NGA",
          "PRK",
          "NOR",
          "PAK",
          "PAN",
          "PER",
          "POL",
          "PRT",
          "PRI",
          null,
          "ROU",
          "RUS",
          "SVK",
          "SVN",
          "ZAF",
          "KOR",
          "ESP",
          "SUR",
          "SWE",
          "CHE",
          "SYR",
          "TWN",
          "TJK",
          "THA",
          null,
          "TUN",
          "TUR",
          "UGA",
          "UKR",
          "ARE",
          "GBR",
          "USA",
          "URY",
          "UZB",
          "VEN",
          "VNM",
          "ZWE"
         ],
         "name": "",
         "type": "choropleth",
         "z": [
          5,
          91,
          2,
          368,
          108,
          7,
          14,
          1,
          24,
          98,
          109,
          54,
          1,
          20,
          463,
          3,
          351,
          5,
          1,
          58,
          164,
          123,
          179,
          3,
          1,
          7,
          13,
          22,
          13,
          198,
          501,
          8,
          1301,
          62,
          1,
          1,
          432,
          138,
          1,
          11,
          18,
          9,
          1,
          575,
          1,
          38,
          247,
          1,
          20,
          34,
          1,
          3,
          2,
          6,
          4,
          30,
          2,
          6,
          1,
          1,
          287,
          90,
          23,
          16,
          378,
          42,
          1,
          1,
          117,
          4,
          1,
          157,
          161,
          1599,
          15,
          8,
          32,
          221,
          110,
          1,
          479,
          175,
          1,
          3,
          1,
          9,
          7,
          3,
          40,
          2,
          47,
          1,
          678,
          2638,
          31,
          10,
          2,
          1,
          17
         ]
        }
       ],
       "layout": {
        "coloraxis": {
         "colorbar": {
          "title": {
           "text": "Gold Count"
          }
         },
         "colorscale": [
          [
           0,
           "#440154"
          ],
          [
           0.1111111111111111,
           "#482878"
          ],
          [
           0.2222222222222222,
           "#3e4989"
          ],
          [
           0.3333333333333333,
           "#31688e"
          ],
          [
           0.4444444444444444,
           "#26828e"
          ],
          [
           0.5555555555555556,
           "#1f9e89"
          ],
          [
           0.6666666666666666,
           "#35b779"
          ],
          [
           0.7777777777777778,
           "#6ece58"
          ],
          [
           0.8888888888888888,
           "#b5de2b"
          ],
          [
           1,
           "#fde725"
          ]
         ]
        },
        "geo": {
         "center": {},
         "domain": {
          "x": [
           0,
           1
          ],
          "y": [
           0,
           1
          ]
         },
         "projection": {
          "type": "natural earth"
         }
        },
        "height": 800,
        "legend": {
         "tracegroupgap": 0
        },
        "margin": {
         "t": 60
        },
        "template": {
         "data": {
          "bar": [
           {
            "error_x": {
             "color": "#2a3f5f"
            },
            "error_y": {
             "color": "#2a3f5f"
            },
            "marker": {
             "line": {
              "color": "#E5ECF6",
              "width": 0.5
             },
             "pattern": {
              "fillmode": "overlay",
              "size": 10,
              "solidity": 0.2
             }
            },
            "type": "bar"
           }
          ],
          "barpolar": [
           {
            "marker": {
             "line": {
              "color": "#E5ECF6",
              "width": 0.5
             },
             "pattern": {
              "fillmode": "overlay",
              "size": 10,
              "solidity": 0.2
             }
            },
            "type": "barpolar"
           }
          ],
          "carpet": [
           {
            "aaxis": {
             "endlinecolor": "#2a3f5f",
             "gridcolor": "white",
             "linecolor": "white",
             "minorgridcolor": "white",
             "startlinecolor": "#2a3f5f"
            },
            "baxis": {
             "endlinecolor": "#2a3f5f",
             "gridcolor": "white",
             "linecolor": "white",
             "minorgridcolor": "white",
             "startlinecolor": "#2a3f5f"
            },
            "type": "carpet"
           }
          ],
          "choropleth": [
           {
            "colorbar": {
             "outlinewidth": 0,
             "ticks": ""
            },
            "type": "choropleth"
           }
          ],
          "contour": [
           {
            "colorbar": {
             "outlinewidth": 0,
             "ticks": ""
            },
            "colorscale": [
             [
              0,
              "#0d0887"
             ],
             [
              0.1111111111111111,
              "#46039f"
             ],
             [
              0.2222222222222222,
              "#7201a8"
             ],
             [
              0.3333333333333333,
              "#9c179e"
             ],
             [
              0.4444444444444444,
              "#bd3786"
             ],
             [
              0.5555555555555556,
              "#d8576b"
             ],
             [
              0.6666666666666666,
              "#ed7953"
             ],
             [
              0.7777777777777778,
              "#fb9f3a"
             ],
             [
              0.8888888888888888,
              "#fdca26"
             ],
             [
              1,
              "#f0f921"
             ]
            ],
            "type": "contour"
           }
          ],
          "contourcarpet": [
           {
            "colorbar": {
             "outlinewidth": 0,
             "ticks": ""
            },
            "type": "contourcarpet"
           }
          ],
          "heatmap": [
           {
            "colorbar": {
             "outlinewidth": 0,
             "ticks": ""
            },
            "colorscale": [
             [
              0,
              "#0d0887"
             ],
             [
              0.1111111111111111,
              "#46039f"
             ],
             [
              0.2222222222222222,
              "#7201a8"
             ],
             [
              0.3333333333333333,
              "#9c179e"
             ],
             [
              0.4444444444444444,
              "#bd3786"
             ],
             [
              0.5555555555555556,
              "#d8576b"
             ],
             [
              0.6666666666666666,
              "#ed7953"
             ],
             [
              0.7777777777777778,
              "#fb9f3a"
             ],
             [
              0.8888888888888888,
              "#fdca26"
             ],
             [
              1,
              "#f0f921"
             ]
            ],
            "type": "heatmap"
           }
          ],
          "heatmapgl": [
           {
            "colorbar": {
             "outlinewidth": 0,
             "ticks": ""
            },
            "colorscale": [
             [
              0,
              "#0d0887"
             ],
             [
              0.1111111111111111,
              "#46039f"
             ],
             [
              0.2222222222222222,
              "#7201a8"
             ],
             [
              0.3333333333333333,
              "#9c179e"
             ],
             [
              0.4444444444444444,
              "#bd3786"
             ],
             [
              0.5555555555555556,
              "#d8576b"
             ],
             [
              0.6666666666666666,
              "#ed7953"
             ],
             [
              0.7777777777777778,
              "#fb9f3a"
             ],
             [
              0.8888888888888888,
              "#fdca26"
             ],
             [
              1,
              "#f0f921"
             ]
            ],
            "type": "heatmapgl"
           }
          ],
          "histogram": [
           {
            "marker": {
             "pattern": {
              "fillmode": "overlay",
              "size": 10,
              "solidity": 0.2
             }
            },
            "type": "histogram"
           }
          ],
          "histogram2d": [
           {
            "colorbar": {
             "outlinewidth": 0,
             "ticks": ""
            },
            "colorscale": [
             [
              0,
              "#0d0887"
             ],
             [
              0.1111111111111111,
              "#46039f"
             ],
             [
              0.2222222222222222,
              "#7201a8"
             ],
             [
              0.3333333333333333,
              "#9c179e"
             ],
             [
              0.4444444444444444,
              "#bd3786"
             ],
             [
              0.5555555555555556,
              "#d8576b"
             ],
             [
              0.6666666666666666,
              "#ed7953"
             ],
             [
              0.7777777777777778,
              "#fb9f3a"
             ],
             [
              0.8888888888888888,
              "#fdca26"
             ],
             [
              1,
              "#f0f921"
             ]
            ],
            "type": "histogram2d"
           }
          ],
          "histogram2dcontour": [
           {
            "colorbar": {
             "outlinewidth": 0,
             "ticks": ""
            },
            "colorscale": [
             [
              0,
              "#0d0887"
             ],
             [
              0.1111111111111111,
              "#46039f"
             ],
             [
              0.2222222222222222,
              "#7201a8"
             ],
             [
              0.3333333333333333,
              "#9c179e"
             ],
             [
              0.4444444444444444,
              "#bd3786"
             ],
             [
              0.5555555555555556,
              "#d8576b"
             ],
             [
              0.6666666666666666,
              "#ed7953"
             ],
             [
              0.7777777777777778,
              "#fb9f3a"
             ],
             [
              0.8888888888888888,
              "#fdca26"
             ],
             [
              1,
              "#f0f921"
             ]
            ],
            "type": "histogram2dcontour"
           }
          ],
          "mesh3d": [
           {
            "colorbar": {
             "outlinewidth": 0,
             "ticks": ""
            },
            "type": "mesh3d"
           }
          ],
          "parcoords": [
           {
            "line": {
             "colorbar": {
              "outlinewidth": 0,
              "ticks": ""
             }
            },
            "type": "parcoords"
           }
          ],
          "pie": [
           {
            "automargin": true,
            "type": "pie"
           }
          ],
          "scatter": [
           {
            "fillpattern": {
             "fillmode": "overlay",
             "size": 10,
             "solidity": 0.2
            },
            "type": "scatter"
           }
          ],
          "scatter3d": [
           {
            "line": {
             "colorbar": {
              "outlinewidth": 0,
              "ticks": ""
             }
            },
            "marker": {
             "colorbar": {
              "outlinewidth": 0,
              "ticks": ""
             }
            },
            "type": "scatter3d"
           }
          ],
          "scattercarpet": [
           {
            "marker": {
             "colorbar": {
              "outlinewidth": 0,
              "ticks": ""
             }
            },
            "type": "scattercarpet"
           }
          ],
          "scattergeo": [
           {
            "marker": {
             "colorbar": {
              "outlinewidth": 0,
              "ticks": ""
             }
            },
            "type": "scattergeo"
           }
          ],
          "scattergl": [
           {
            "marker": {
             "colorbar": {
              "outlinewidth": 0,
              "ticks": ""
             }
            },
            "type": "scattergl"
           }
          ],
          "scattermapbox": [
           {
            "marker": {
             "colorbar": {
              "outlinewidth": 0,
              "ticks": ""
             }
            },
            "type": "scattermapbox"
           }
          ],
          "scatterpolar": [
           {
            "marker": {
             "colorbar": {
              "outlinewidth": 0,
              "ticks": ""
             }
            },
            "type": "scatterpolar"
           }
          ],
          "scatterpolargl": [
           {
            "marker": {
             "colorbar": {
              "outlinewidth": 0,
              "ticks": ""
             }
            },
            "type": "scatterpolargl"
           }
          ],
          "scatterternary": [
           {
            "marker": {
             "colorbar": {
              "outlinewidth": 0,
              "ticks": ""
             }
            },
            "type": "scatterternary"
           }
          ],
          "surface": [
           {
            "colorbar": {
             "outlinewidth": 0,
             "ticks": ""
            },
            "colorscale": [
             [
              0,
              "#0d0887"
             ],
             [
              0.1111111111111111,
              "#46039f"
             ],
             [
              0.2222222222222222,
              "#7201a8"
             ],
             [
              0.3333333333333333,
              "#9c179e"
             ],
             [
              0.4444444444444444,
              "#bd3786"
             ],
             [
              0.5555555555555556,
              "#d8576b"
             ],
             [
              0.6666666666666666,
              "#ed7953"
             ],
             [
              0.7777777777777778,
              "#fb9f3a"
             ],
             [
              0.8888888888888888,
              "#fdca26"
             ],
             [
              1,
              "#f0f921"
             ]
            ],
            "type": "surface"
           }
          ],
          "table": [
           {
            "cells": {
             "fill": {
              "color": "#EBF0F8"
             },
             "line": {
              "color": "white"
             }
            },
            "header": {
             "fill": {
              "color": "#C8D4E3"
             },
             "line": {
              "color": "white"
             }
            },
            "type": "table"
           }
          ]
         },
         "layout": {
          "annotationdefaults": {
           "arrowcolor": "#2a3f5f",
           "arrowhead": 0,
           "arrowwidth": 1
          },
          "autotypenumbers": "strict",
          "coloraxis": {
           "colorbar": {
            "outlinewidth": 0,
            "ticks": ""
           }
          },
          "colorscale": {
           "diverging": [
            [
             0,
             "#8e0152"
            ],
            [
             0.1,
             "#c51b7d"
            ],
            [
             0.2,
             "#de77ae"
            ],
            [
             0.3,
             "#f1b6da"
            ],
            [
             0.4,
             "#fde0ef"
            ],
            [
             0.5,
             "#f7f7f7"
            ],
            [
             0.6,
             "#e6f5d0"
            ],
            [
             0.7,
             "#b8e186"
            ],
            [
             0.8,
             "#7fbc41"
            ],
            [
             0.9,
             "#4d9221"
            ],
            [
             1,
             "#276419"
            ]
           ],
           "sequential": [
            [
             0,
             "#0d0887"
            ],
            [
             0.1111111111111111,
             "#46039f"
            ],
            [
             0.2222222222222222,
             "#7201a8"
            ],
            [
             0.3333333333333333,
             "#9c179e"
            ],
            [
             0.4444444444444444,
             "#bd3786"
            ],
            [
             0.5555555555555556,
             "#d8576b"
            ],
            [
             0.6666666666666666,
             "#ed7953"
            ],
            [
             0.7777777777777778,
             "#fb9f3a"
            ],
            [
             0.8888888888888888,
             "#fdca26"
            ],
            [
             1,
             "#f0f921"
            ]
           ],
           "sequentialminus": [
            [
             0,
             "#0d0887"
            ],
            [
             0.1111111111111111,
             "#46039f"
            ],
            [
             0.2222222222222222,
             "#7201a8"
            ],
            [
             0.3333333333333333,
             "#9c179e"
            ],
            [
             0.4444444444444444,
             "#bd3786"
            ],
            [
             0.5555555555555556,
             "#d8576b"
            ],
            [
             0.6666666666666666,
             "#ed7953"
            ],
            [
             0.7777777777777778,
             "#fb9f3a"
            ],
            [
             0.8888888888888888,
             "#fdca26"
            ],
            [
             1,
             "#f0f921"
            ]
           ]
          },
          "colorway": [
           "#636efa",
           "#EF553B",
           "#00cc96",
           "#ab63fa",
           "#FFA15A",
           "#19d3f3",
           "#FF6692",
           "#B6E880",
           "#FF97FF",
           "#FECB52"
          ],
          "font": {
           "color": "#2a3f5f"
          },
          "geo": {
           "bgcolor": "white",
           "lakecolor": "white",
           "landcolor": "#E5ECF6",
           "showlakes": true,
           "showland": true,
           "subunitcolor": "white"
          },
          "hoverlabel": {
           "align": "left"
          },
          "hovermode": "closest",
          "mapbox": {
           "style": "light"
          },
          "paper_bgcolor": "white",
          "plot_bgcolor": "#E5ECF6",
          "polar": {
           "angularaxis": {
            "gridcolor": "white",
            "linecolor": "white",
            "ticks": ""
           },
           "bgcolor": "#E5ECF6",
           "radialaxis": {
            "gridcolor": "white",
            "linecolor": "white",
            "ticks": ""
           }
          },
          "scene": {
           "xaxis": {
            "backgroundcolor": "#E5ECF6",
            "gridcolor": "white",
            "gridwidth": 2,
            "linecolor": "white",
            "showbackground": true,
            "ticks": "",
            "zerolinecolor": "white"
           },
           "yaxis": {
            "backgroundcolor": "#E5ECF6",
            "gridcolor": "white",
            "gridwidth": 2,
            "linecolor": "white",
            "showbackground": true,
            "ticks": "",
            "zerolinecolor": "white"
           },
           "zaxis": {
            "backgroundcolor": "#E5ECF6",
            "gridcolor": "white",
            "gridwidth": 2,
            "linecolor": "white",
            "showbackground": true,
            "ticks": "",
            "zerolinecolor": "white"
           }
          },
          "shapedefaults": {
           "line": {
            "color": "#2a3f5f"
           }
          },
          "ternary": {
           "aaxis": {
            "gridcolor": "white",
            "linecolor": "white",
            "ticks": ""
           },
           "baxis": {
            "gridcolor": "white",
            "linecolor": "white",
            "ticks": ""
           },
           "bgcolor": "#E5ECF6",
           "caxis": {
            "gridcolor": "white",
            "linecolor": "white",
            "ticks": ""
           }
          },
          "title": {
           "x": 0.05
          },
          "xaxis": {
           "automargin": true,
           "gridcolor": "white",
           "linecolor": "white",
           "ticks": "",
           "title": {
            "standoff": 15
           },
           "zerolinecolor": "white",
           "zerolinewidth": 2
          },
          "yaxis": {
           "automargin": true,
           "gridcolor": "white",
           "linecolor": "white",
           "ticks": "",
           "title": {
            "standoff": 15
           },
           "zerolinecolor": "white",
           "zerolinewidth": 2
          }
         }
        },
        "width": 1000
       }
      }
     },
     "metadata": {},
     "output_type": "display_data"
    }
   ],
   "source": [
    "world = gpd.read_file(gpd.datasets.get_path('naturalearth_lowres'))\n",
    "world_data = world.merge(df2, how='right', left_on='name', right_on='region')\n",
    "\n",
    "fig = px.choropleth(world_data, \n",
    "                     locations='iso_a3', \n",
    "                     color='Gold Count',\n",
    "                     hover_name='region', \n",
    "                     projection='natural earth',\n",
    "                     color_continuous_scale='Viridis')\n",
    "\n",
    "# Update hover information\n",
    "fig.update_traces(hoverinfo='all', \n",
    "                  hovertemplate='Country: %{hovertext}<br>Data: %{customdata[0]}',\n",
    "                  customdata=world_data[['Gold Count']])\n",
    "\n",
    "# Show the plot\n",
    "fig.update_layout(height=800, width=1000)\n",
    "fig.show()"
   ]
  },
  {
   "cell_type": "code",
   "execution_count": null,
   "metadata": {},
   "outputs": [],
   "source": []
  }
 ],
 "metadata": {
  "kernelspec": {
   "display_name": "pythonclass",
   "language": "python",
   "name": "python3"
  },
  "language_info": {
   "codemirror_mode": {
    "name": "ipython",
    "version": 3
   },
   "file_extension": ".py",
   "mimetype": "text/x-python",
   "name": "python",
   "nbconvert_exporter": "python",
   "pygments_lexer": "ipython3",
   "version": "3.11.7"
  }
 },
 "nbformat": 4,
 "nbformat_minor": 2
}
